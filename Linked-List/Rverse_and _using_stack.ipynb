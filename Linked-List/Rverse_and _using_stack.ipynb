{
 "cells": [
  {
   "cell_type": "code",
   "execution_count": 24,
   "id": "e8634407",
   "metadata": {},
   "outputs": [],
   "source": [
    "class Node:\n",
    "    def __init__(self,data=None,next1=None):\n",
    "        self.data=data\n",
    "        self.next=next1\n",
    "        \n",
    "class Link_List:\n",
    "    def __init__(self):\n",
    "        self.head=None\n",
    "        \n",
    "    def reverse(self):\n",
    "        head1=self.head\n",
    "        prev=None\n",
    "        curr=head1\n",
    "        next_lst=head1.next\n",
    "        while(curr):\n",
    "            curr.next=prev\n",
    "            prev=curr\n",
    "            curr=next_lst\n",
    "            if(next_lst is not None):\n",
    "                next_lst=next_lst.next\n",
    "        self.head=prev\n",
    "        \n",
    "    def reverse_using_stack(self):\n",
    "        tmp=self.head\n",
    "        lst=[]\n",
    "        while(tmp):\n",
    "            lst.append(tmp)\n",
    "            tmp=tmp.next\n",
    "        new_node=None\n",
    "        curr=None\n",
    "        while(lst):\n",
    "            node=lst.pop()\n",
    "            node.next=None\n",
    "            if(new_node is None):\n",
    "                new_node=node\n",
    "                self.head=node\n",
    "                curr=node\n",
    "            else:\n",
    "                curr.next=node\n",
    "                curr=node\n",
    "    def intersection_point(self,d,head1,head2):\n",
    "        curr1=head1\n",
    "        curr2=head2\n",
    "        for i in range(d):\n",
    "            if(curr1 is None):\n",
    "                return -1\n",
    "            curr1=curr1.next\n",
    "            \n",
    "        while(curr1 is not None and curr2 is not None):\n",
    "            if(curr1 is curr2):\n",
    "                return curr1.data\n",
    "            curr1=curr1.next\n",
    "            curr2=curr2.next\n",
    "        return -1\n",
    "    def print_middle(self,d):\n",
    "        curr=self.head\n",
    "        if(d%2==0):\n",
    "            k=(d//2)-1\n",
    "            while(curr and k>0):\n",
    "                curr=curr.next\n",
    "                k -=1\n",
    "            return curr.data\n",
    "        else:\n",
    "            k=(d//2)\n",
    "            while(curr and k>0):\n",
    "                curr=curr.next\n",
    "                k -=1\n",
    "            return curr.data\n",
    "                \n",
    "                \n",
    "    \n",
    "    def get_length(self):\n",
    "        count=0\n",
    "        itr=self.head\n",
    "        while(itr):\n",
    "            count +=1\n",
    "            itr=itr.next\n",
    "        return count\n",
    "                \n",
    "    def display_list(self):\n",
    "        itr=self.head\n",
    "        str1=''\n",
    "        while(itr):\n",
    "            str1 +=str(itr.data)+'-->'\n",
    "            itr=itr.next\n",
    "        print(str1)\n",
    "                \n",
    "            "
   ]
  },
  {
   "cell_type": "code",
   "execution_count": 27,
   "id": "51ebe3a5",
   "metadata": {},
   "outputs": [
    {
     "name": "stdout",
     "output_type": "stream",
     "text": [
      "6\n"
     ]
    }
   ],
   "source": [
    "import random as rnd\n",
    "num=int(input())\n",
    "head =None\n",
    "curr=None\n",
    "for i in range(num):\n",
    "    node=Node(rnd.randint(1,100))\n",
    "    if(head is None):\n",
    "        head=node\n",
    "        curr=node\n",
    "    else:\n",
    "        curr.next=node\n",
    "        curr=node\n",
    "    "
   ]
  },
  {
   "cell_type": "code",
   "execution_count": 15,
   "id": "3f4fa3d4",
   "metadata": {},
   "outputs": [
    {
     "name": "stdout",
     "output_type": "stream",
     "text": [
      "3\n"
     ]
    }
   ],
   "source": [
    "import random as rnd\n",
    "num=int(input())\n",
    "head1 =None\n",
    "curr1=None\n",
    "for i in range(num):\n",
    "    node=Node(rnd.randint(1,100))\n",
    "    if(head1 is None):\n",
    "        head1=node\n",
    "        curr1=node\n",
    "    else:\n",
    "        curr1.next=node\n",
    "        curr1=node"
   ]
  },
  {
   "cell_type": "code",
   "execution_count": 28,
   "id": "69d257a7",
   "metadata": {},
   "outputs": [
    {
     "name": "stdout",
     "output_type": "stream",
     "text": [
      "55-->61-->86-->52-->58-->3-->\n",
      "6\n"
     ]
    }
   ],
   "source": [
    "lnk=Link_List()\n",
    "lnk.head=head\n",
    "lnk.display_list()\n",
    "print(lnk.get_length())"
   ]
  },
  {
   "cell_type": "code",
   "execution_count": 32,
   "id": "d1b53741",
   "metadata": {},
   "outputs": [
    {
     "name": "stdout",
     "output_type": "stream",
     "text": [
      "<__main__.Node object at 0x7fe54d1c0e90>\n"
     ]
    }
   ],
   "source": [
    "print(lnk.head)"
   ]
  },
  {
   "cell_type": "code",
   "execution_count": 29,
   "id": "b50a0d0a",
   "metadata": {},
   "outputs": [
    {
     "data": {
      "text/plain": [
       "86"
      ]
     },
     "execution_count": 29,
     "metadata": {},
     "output_type": "execute_result"
    }
   ],
   "source": [
    "k=lnk.get_length()\n",
    "lnk.print_middle(k)"
   ]
  },
  {
   "cell_type": "code",
   "execution_count": 72,
   "id": "2852cc92",
   "metadata": {},
   "outputs": [
    {
     "name": "stdout",
     "output_type": "stream",
     "text": [
      "66-->84-->23-->\n",
      "3\n"
     ]
    }
   ],
   "source": [
    "lnk1=Link_List()\n",
    "lnk1.head=head1\n",
    "lnk1.display_list()\n",
    "print(lnk1.get_length())"
   ]
  },
  {
   "cell_type": "code",
   "execution_count": 69,
   "id": "e687a4ab",
   "metadata": {},
   "outputs": [
    {
     "name": "stdout",
     "output_type": "stream",
     "text": [
      "-1\n"
     ]
    }
   ],
   "source": [
    "c1=lnk.get_length()\n",
    "c2=lnk1.get_length()\n",
    "if(c1>c2):\n",
    "    d=c1-c2\n",
    "    print(lnk.intersection_point(d,head,head1))\n",
    "else:\n",
    "    d=c2-c1\n",
    "    print(lnk.intersection_point(d,head,head1))"
   ]
  },
  {
   "cell_type": "code",
   "execution_count": 50,
   "id": "b52ece4b",
   "metadata": {},
   "outputs": [
    {
     "name": "stdout",
     "output_type": "stream",
     "text": [
      "47-->8-->99-->68-->93-->\n"
     ]
    }
   ],
   "source": [
    "# lnk.reverse()\n",
    "lnk.display_list()"
   ]
  },
  {
   "cell_type": "code",
   "execution_count": 51,
   "id": "dd6cc0d8",
   "metadata": {},
   "outputs": [],
   "source": [
    "lnk.reverse_using_stack()"
   ]
  },
  {
   "cell_type": "code",
   "execution_count": 52,
   "id": "1a87bc50",
   "metadata": {},
   "outputs": [
    {
     "name": "stdout",
     "output_type": "stream",
     "text": [
      "93-->68-->99-->8-->47-->\n"
     ]
    }
   ],
   "source": [
    "lnk.display_list()"
   ]
  },
  {
   "cell_type": "code",
   "execution_count": 53,
   "id": "1a667a6d",
   "metadata": {},
   "outputs": [],
   "source": [
    "lnk.reverse()"
   ]
  },
  {
   "cell_type": "code",
   "execution_count": 54,
   "id": "74a0e354",
   "metadata": {},
   "outputs": [
    {
     "name": "stdout",
     "output_type": "stream",
     "text": [
      "47-->8-->99-->68-->93-->\n"
     ]
    }
   ],
   "source": [
    "lnk.display_list()"
   ]
  },
  {
   "cell_type": "code",
   "execution_count": 86,
   "id": "47233107",
   "metadata": {},
   "outputs": [],
   "source": [
    "class Node:\n",
    "    def __init__(self,data):\n",
    "        self.data=data\n",
    "        self.next=None\n",
    "    \n",
    "class Link_List:\n",
    "    def __init__(self):\n",
    "        self.head=None\n",
    "        \n",
    "    def insert_at_end(self,data):\n",
    "        node=Node(data)\n",
    "        curr=self.head\n",
    "        if(self.head is None):\n",
    "            self.head=node\n",
    "            return\n",
    "        while(curr.next):\n",
    "#             lst=curr.next\n",
    "            curr=curr.next\n",
    "        curr.next=node\n",
    "        \n",
    "    def print_list(self):\n",
    "        tmp=''\n",
    "        itr=self.head\n",
    "        while(itr):\n",
    "            tmp +=str(itr.data)+'-->'\n",
    "            itr=itr.next\n",
    "        print(tmp)\n",
    "                \n",
    "            "
   ]
  },
  {
   "cell_type": "code",
   "execution_count": 87,
   "id": "5d3dd3b0",
   "metadata": {},
   "outputs": [
    {
     "name": "stdout",
     "output_type": "stream",
     "text": [
      "2-->\n",
      "2-->3-->\n",
      "2-->3-->4-->\n",
      "2-->3-->4-->5-->\n",
      "2-->3-->4-->5-->\n"
     ]
    }
   ],
   "source": [
    "lnk1=Link_List()\n",
    "lnk1.insert_at_end(2)\n",
    "lnk1.print_list()\n",
    "lnk1.insert_at_end(3)\n",
    "lnk1.print_list()\n",
    "lnk1.insert_at_end(4)\n",
    "lnk1.print_list()\n",
    "lnk1.insert_at_end(5)\n",
    "lnk1.print_list()\n",
    "lnk1.print_list()"
   ]
  },
  {
   "cell_type": "code",
   "execution_count": 99,
   "id": "dca19061",
   "metadata": {},
   "outputs": [
    {
     "name": "stdout",
     "output_type": "stream",
     "text": [
      "9\n",
      "[0, 1, 4, 9, 16, 25, 36, 49, 64, 81]\n",
      "0\n",
      "1\n",
      "4\n",
      "9\n",
      "16\n",
      "25\n",
      "36\n",
      "49\n",
      "64\n",
      "64\n"
     ]
    }
   ],
   "source": [
    "A=[]\n",
    "for i in range(0,10):\n",
    "    A.append(i* ++i)\n",
    "print(i)\n",
    "print(A)\n",
    "for A[i] in A:\n",
    "    print(A[i])\n"
   ]
  },
  {
   "cell_type": "code",
   "execution_count": 101,
   "id": "534f4336",
   "metadata": {},
   "outputs": [
    {
     "name": "stdout",
     "output_type": "stream",
     "text": [
      "False\n",
      "True\n"
     ]
    }
   ],
   "source": [
    "a=[1,2,3]\n",
    "b=[2,1,3]\n",
    "print(a==b)\n",
    "print(set(a)==set(b))"
   ]
  },
  {
   "cell_type": "code",
   "execution_count": 103,
   "id": "c458ad7b",
   "metadata": {},
   "outputs": [
    {
     "data": {
      "text/plain": [
       "<function list.copy()>"
      ]
     },
     "execution_count": 103,
     "metadata": {},
     "output_type": "execute_result"
    }
   ],
   "source": [
    "nw=a.copy\n",
    "nw"
   ]
  },
  {
   "cell_type": "code",
   "execution_count": 104,
   "id": "40984343",
   "metadata": {},
   "outputs": [
    {
     "ename": "AttributeError",
     "evalue": "'builtin_function_or_method' object has no attribute 'copy'",
     "output_type": "error",
     "traceback": [
      "\u001b[0;31m---------------------------------------------------------------------------\u001b[0m",
      "\u001b[0;31mAttributeError\u001b[0m                            Traceback (most recent call last)",
      "\u001b[0;32m/var/folders/gg/rkgw68311276r9cdpgzyzhlh0000gn/T/ipykernel_69630/174888497.py\u001b[0m in \u001b[0;36m<module>\u001b[0;34m\u001b[0m\n\u001b[0;32m----> 1\u001b[0;31m \u001b[0mnw\u001b[0m\u001b[0;34m.\u001b[0m\u001b[0mcopy\u001b[0m\u001b[0;34m(\u001b[0m\u001b[0ma\u001b[0m\u001b[0;34m)\u001b[0m\u001b[0;34m\u001b[0m\u001b[0;34m\u001b[0m\u001b[0m\n\u001b[0m",
      "\u001b[0;31mAttributeError\u001b[0m: 'builtin_function_or_method' object has no attribute 'copy'"
     ]
    }
   ],
   "source": [
    "nw.copy(a)"
   ]
  },
  {
   "cell_type": "code",
   "execution_count": 107,
   "id": "872f8482",
   "metadata": {},
   "outputs": [
    {
     "data": {
      "text/plain": [
       "{'a', 'b', 'c', 'p', 'q', 'san'}"
      ]
     },
     "execution_count": 107,
     "metadata": {},
     "output_type": "execute_result"
    }
   ],
   "source": [
    "z=set('abc')\n",
    "z\n",
    "z.add('san')\n",
    "z\n",
    "z.update(set(['p','q']))\n",
    "z"
   ]
  },
  {
   "cell_type": "code",
   "execution_count": 109,
   "id": "c9cfc622",
   "metadata": {},
   "outputs": [
    {
     "name": "stdout",
     "output_type": "stream",
     "text": [
      "1-2-3\n"
     ]
    }
   ],
   "source": [
    "x=['1','2','3']\n",
    "print(\"-\".join(x))"
   ]
  },
  {
   "cell_type": "code",
   "execution_count": 111,
   "id": "43099fd6",
   "metadata": {},
   "outputs": [
    {
     "ename": "NameError",
     "evalue": "name 'o' is not defined",
     "output_type": "error",
     "traceback": [
      "\u001b[0;31m---------------------------------------------------------------------------\u001b[0m",
      "\u001b[0;31mNameError\u001b[0m                                 Traceback (most recent call last)",
      "\u001b[0;32m/var/folders/gg/rkgw68311276r9cdpgzyzhlh0000gn/T/ipykernel_69630/3704282378.py\u001b[0m in \u001b[0;36m<module>\u001b[0;34m\u001b[0m\n\u001b[1;32m      3\u001b[0m     \u001b[0;32mreturn\u001b[0m \u001b[0mo\u001b[0m\u001b[0;34m\u001b[0m\u001b[0;34m\u001b[0m\u001b[0m\n\u001b[1;32m      4\u001b[0m \u001b[0mf\u001b[0m\u001b[0;34m(\u001b[0m\u001b[0;34m)\u001b[0m\u001b[0;34m\u001b[0m\u001b[0;34m\u001b[0m\u001b[0m\n\u001b[0;32m----> 5\u001b[0;31m \u001b[0mprint\u001b[0m\u001b[0;34m(\u001b[0m\u001b[0mo\u001b[0m\u001b[0;34m)\u001b[0m\u001b[0;34m\u001b[0m\u001b[0;34m\u001b[0m\u001b[0m\n\u001b[0m",
      "\u001b[0;31mNameError\u001b[0m: name 'o' is not defined"
     ]
    }
   ],
   "source": [
    "def f():\n",
    "    o=2\n",
    "    return o\n",
    "f()\n",
    "print(o)"
   ]
  },
  {
   "cell_type": "code",
   "execution_count": 116,
   "id": "41e0e365",
   "metadata": {},
   "outputs": [
    {
     "name": "stdout",
     "output_type": "stream",
     "text": [
      "[10, 20, 30, 40]\n",
      "[10, 20, 40]\n"
     ]
    }
   ],
   "source": [
    "C=[10,20,30,40,50]\n",
    "C.pop()\n",
    "print(C)\n",
    "C.pop(2)\n",
    "print(C)"
   ]
  },
  {
   "cell_type": "code",
   "execution_count": 128,
   "id": "a4b5fcaf",
   "metadata": {},
   "outputs": [
    {
     "name": "stdout",
     "output_type": "stream",
     "text": [
      "the the bright side for\n"
     ]
    }
   ],
   "source": [
    "print('the {} bright {} {}'.format('the','side','for'))"
   ]
  },
  {
   "cell_type": "code",
   "execution_count": 130,
   "id": "4d85857a",
   "metadata": {},
   "outputs": [
    {
     "name": "stdout",
     "output_type": "stream",
     "text": [
      "['A', 'B', 'C']\n"
     ]
    }
   ],
   "source": [
    "a=['a','b','c']\n",
    "b=[]\n",
    "for i in a:\n",
    "    b.append(i.upper())\n",
    "print(b)\n"
   ]
  },
  {
   "cell_type": "code",
   "execution_count": 129,
   "id": "c9235f86",
   "metadata": {},
   "outputs": [
    {
     "name": "stdout",
     "output_type": "stream",
     "text": [
      "[1, 2, 3]\n"
     ]
    }
   ],
   "source": [
    "a=[1,2,3]\n",
    "b=a\n",
    "b=0\n",
    "print(a)"
   ]
  },
  {
   "cell_type": "code",
   "execution_count": null,
   "id": "d7663350",
   "metadata": {},
   "outputs": [],
   "source": []
  }
 ],
 "metadata": {
  "kernelspec": {
   "display_name": "Python 3 (ipykernel)",
   "language": "python",
   "name": "python3"
  },
  "language_info": {
   "codemirror_mode": {
    "name": "ipython",
    "version": 3
   },
   "file_extension": ".py",
   "mimetype": "text/x-python",
   "name": "python",
   "nbconvert_exporter": "python",
   "pygments_lexer": "ipython3",
   "version": "3.7.6"
  }
 },
 "nbformat": 4,
 "nbformat_minor": 5
}

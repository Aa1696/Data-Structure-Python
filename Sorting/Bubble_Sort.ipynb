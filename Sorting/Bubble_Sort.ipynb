{
 "cells": [
  {
   "cell_type": "code",
   "execution_count": 35,
   "id": "1c83e018",
   "metadata": {},
   "outputs": [],
   "source": [
    "def bubblesort(A,count):\n",
    "    for i in range(count):\n",
    "        for j in range(0,len(A)-i-1):\n",
    "            if(A[j]>A[j+1]):\n",
    "                A[j],A[j+1]=A[j+1],A[j]\n",
    "    return A"
   ]
  },
  {
   "cell_type": "code",
   "execution_count": 36,
   "id": "603e40b3",
   "metadata": {},
   "outputs": [
    {
     "data": {
      "text/plain": [
       "[1, 2, 0, 3, 4]"
      ]
     },
     "execution_count": 36,
     "metadata": {},
     "output_type": "execute_result"
    }
   ],
   "source": [
    "A=[2,1,4,3,0]\n",
    "bubblesort(A,2)"
   ]
  },
  {
   "cell_type": "code",
   "execution_count": null,
   "id": "7f89c47d",
   "metadata": {},
   "outputs": [],
   "source": []
  }
 ],
 "metadata": {
  "kernelspec": {
   "display_name": "Python 3 (ipykernel)",
   "language": "python",
   "name": "python3"
  },
  "language_info": {
   "codemirror_mode": {
    "name": "ipython",
    "version": 3
   },
   "file_extension": ".py",
   "mimetype": "text/x-python",
   "name": "python",
   "nbconvert_exporter": "python",
   "pygments_lexer": "ipython3",
   "version": "3.7.7"
  }
 },
 "nbformat": 4,
 "nbformat_minor": 5
}

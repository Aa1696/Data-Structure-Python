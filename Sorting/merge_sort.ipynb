{
 "cells": [
  {
   "cell_type": "code",
   "execution_count": 1,
   "id": "7c11d596",
   "metadata": {},
   "outputs": [],
   "source": [
    "def merge_sort(arr):\n",
    "    if(len(arr)>1):\n",
    "        mid=len(arr)//2\n",
    "        left_half=arr[:mid]\n",
    "        right_half=arr[mid:]\n",
    "        merge_sort(left_half)\n",
    "        merge_sort(right_half)\n",
    "        left=centre=right=0\n",
    "        while(left< len(left_half) and right<len(right_half)):\n",
    "            if(left_half[left]>right_half[right]):\n",
    "                arr[centre]=right_half[right]\n",
    "                right +=1\n",
    "            else:\n",
    "                arr[centre]=left_half[left]\n",
    "                left +=1\n",
    "            centre +=1\n",
    "        while(left<len(left_half)):\n",
    "            arr[centre]=left_half[left]\n",
    "            left +=1\n",
    "            centre +=1\n",
    "        while(right<len(right_half)):\n",
    "            arr[centre]=right_half[right]\n",
    "            right +=1\n",
    "            centre +=1\n",
    "    return arr\n",
    "    \n",
    "\n",
    "    "
   ]
  },
  {
   "cell_type": "code",
   "execution_count": 3,
   "id": "e6643ff0",
   "metadata": {},
   "outputs": [
    {
     "data": {
      "text/plain": [
       "[0, 1, 2, 3, 5, 6, 7]"
      ]
     },
     "execution_count": 3,
     "metadata": {},
     "output_type": "execute_result"
    }
   ],
   "source": [
    "A=[3,1,6,7,5,2,0]\n",
    "merge_sort(A)"
   ]
  },
  {
   "cell_type": "code",
   "execution_count": null,
   "id": "ef7ede44",
   "metadata": {},
   "outputs": [],
   "source": []
  }
 ],
 "metadata": {
  "kernelspec": {
   "display_name": "Python 3 (ipykernel)",
   "language": "python",
   "name": "python3"
  },
  "language_info": {
   "codemirror_mode": {
    "name": "ipython",
    "version": 3
   },
   "file_extension": ".py",
   "mimetype": "text/x-python",
   "name": "python",
   "nbconvert_exporter": "python",
   "pygments_lexer": "ipython3",
   "version": "3.7.7"
  }
 },
 "nbformat": 4,
 "nbformat_minor": 5
}

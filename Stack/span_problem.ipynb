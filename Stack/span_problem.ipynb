{
 "cells": [
  {
   "cell_type": "code",
   "execution_count": 23,
   "id": "65a99a16",
   "metadata": {},
   "outputs": [],
   "source": [
    "def stock_span(arr):\n",
    "    stack=[]\n",
    "    ans=[1]\n",
    "    stack.append(0)\n",
    "    for i in range(1,len(arr)):\n",
    "        while(len(stack)!=0 and arr[stack[-1]]<=arr[i]):\n",
    "            stack.pop()\n",
    "        if(stack==[]):\n",
    "            span=i+1\n",
    "            ans.append(span)\n",
    "        else:\n",
    "            span=i-stack[-1]\n",
    "            ans.append(span)\n",
    "        stack.append(i)\n",
    "    return ans"
   ]
  },
  {
   "cell_type": "code",
   "execution_count": 24,
   "id": "80e9bb01",
   "metadata": {},
   "outputs": [
    {
     "data": {
      "text/plain": [
       "[1, 1, 2, 3, 1, 1, 6, 8, 1]"
      ]
     },
     "execution_count": 24,
     "metadata": {},
     "output_type": "execute_result"
    }
   ],
   "source": [
    "A=[60,10,20,40,35,30,50,70,65]\n",
    "stock_span(A)"
   ]
  },
  {
   "cell_type": "code",
   "execution_count": 50,
   "id": "84db80ec",
   "metadata": {},
   "outputs": [],
   "source": [
    "def prev_gret_elem(arr1):\n",
    "    stack=[arr1[0]]\n",
    "    ans=[-1]\n",
    "    for i in range(1,len(arr1)):\n",
    "        #while loop ensures elements less than current element at left are popped out\n",
    "        while(len(stack) !=0 and stack[-1]<arr1[i]):\n",
    "            stack.pop()\n",
    "        if(stack==[]):#if stack is empty then it will denote no elements are less towards left\n",
    "            ans.append(-1)\n",
    "        else:\n",
    "            ans.append(stack[-1])\n",
    "        stack.append(arr1[i])\n",
    "    return ans"
   ]
  },
  {
   "cell_type": "code",
   "execution_count": 51,
   "id": "f36913d2",
   "metadata": {},
   "outputs": [
    {
     "data": {
      "text/plain": [
       "[-1, 60, 60, 60, 40, 60]"
      ]
     },
     "execution_count": 51,
     "metadata": {},
     "output_type": "execute_result"
    }
   ],
   "source": [
    "arr1=[60,10,20,40,35,50]\n",
    "prev_gret_elem(arr1)"
   ]
  },
  {
   "cell_type": "code",
   "execution_count": 53,
   "id": "75dc862b",
   "metadata": {},
   "outputs": [],
   "source": [
    "def prev_smaller_elem(arr1):\n",
    "    n=len(arr1)\n",
    "    stack=[arr1[0]]\n",
    "    ans=[-1]\n",
    "    for i in range(1,n):\n",
    "        while(len(stack)!=0 and arr1[stack[-1]]>=arr1[i]):\n",
    "            stack.pop()\n",
    "        if(stack==[]):\n",
    "            ans.append(-1)\n",
    "        else:\n",
    "            ans.append(stack[-1])\n",
    "        stack.append(i)\n",
    "    return ans\n",
    "        "
   ]
  },
  {
   "cell_type": "code",
   "execution_count": 54,
   "id": "33a3ddb7",
   "metadata": {},
   "outputs": [
    {
     "data": {
      "text/plain": [
       "[-1, -1, 1, 1, -1, 4, 5]"
      ]
     },
     "execution_count": 54,
     "metadata": {},
     "output_type": "execute_result"
    }
   ],
   "source": [
    "A=[6,2,5,4,1,5,6]\n",
    "prev_smaller_elem(A)"
   ]
  },
  {
   "cell_type": "code",
   "execution_count": 46,
   "id": "ce8c9de8",
   "metadata": {},
   "outputs": [],
   "source": [
    "def next_great_elem(arr1):\n",
    "    n=len(arr)\n",
    "    stack=[arr1[n-1]]\n",
    "    ans=[0]*n\n",
    "    for i in range(n-2,-1,-1):\n",
    "        #while loop ensures elements less than current element at right are popped out\n",
    "        while(len(stack) !=0 and stack[-1]<=arr1[i]):\n",
    "            stack.pop()\n",
    "        if(stack==[]):#if stack is empty then it will denote no elements are greater towards right than current\n",
    "            ans[i]=-1\n",
    "        else:\n",
    "            ans[i]=stack[-1]\n",
    "        stack.append(arr1[i])\n",
    "    return ans"
   ]
  },
  {
   "cell_type": "code",
   "execution_count": 47,
   "id": "3ae1236e",
   "metadata": {},
   "outputs": [
    {
     "data": {
      "text/plain": [
       "[15, -1, 12, 12, 12, -1, -1, -1]"
      ]
     },
     "execution_count": 47,
     "metadata": {},
     "output_type": "execute_result"
    }
   ],
   "source": [
    "A=[5,15,10,8,6,12,9,8]\n",
    "next_great_ele(A)"
   ]
  },
  {
   "cell_type": "code",
   "execution_count": 48,
   "id": "bca80f21",
   "metadata": {},
   "outputs": [],
   "source": [
    "def next_smaller_elem(arr1):\n",
    "    n=len(arr1)\n",
    "    stack=[arr1[n-1]]\n",
    "    ans=[0]*n\n",
    "    for i in range(n-1,-1,-1):\n",
    "        #while loop ensures elements less than current element at right are popped out\n",
    "        while(len(stack) !=0 and arr1[stack[-1]]>=arr1[i]):\n",
    "            stack.pop()\n",
    "        if(stack==[]):#if stack is empty then it will denote no elements are less towards left\n",
    "            ans[i]=n\n",
    "        else:\n",
    "            ans[i]=stack[-1]\n",
    "        stack.append(i)\n",
    "    return ans"
   ]
  },
  {
   "cell_type": "code",
   "execution_count": 49,
   "id": "03affd93",
   "metadata": {},
   "outputs": [
    {
     "data": {
      "text/plain": [
       "[1, 4, 3, 4, 7, 7, 7]"
      ]
     },
     "execution_count": 49,
     "metadata": {},
     "output_type": "execute_result"
    }
   ],
   "source": [
    "A=[6,2,5,4,1,5,6]\n",
    "next_smaller_elem(A)"
   ]
  },
  {
   "cell_type": "code",
   "execution_count": 57,
   "id": "9c799545",
   "metadata": {},
   "outputs": [],
   "source": [
    "def largest_rectangle(arr):\n",
    "    n=len(arr)\n",
    "    ns=next_smaller_elem(arr)\n",
    "    ps=prev_smaller_elem(arr)\n",
    "    res=0\n",
    "    for i in range(n):\n",
    "        curr=arr[i]\n",
    "        curr +=(i-ps[i]-1)*arr[i]\n",
    "        curr +=(ns[i]-i-1)*arr[i]\n",
    "        res=max(res,curr)\n",
    "    return res\n",
    "    "
   ]
  },
  {
   "cell_type": "code",
   "execution_count": 58,
   "id": "5ce7f32c",
   "metadata": {},
   "outputs": [
    {
     "data": {
      "text/plain": [
       "10"
      ]
     },
     "execution_count": 58,
     "metadata": {},
     "output_type": "execute_result"
    }
   ],
   "source": [
    "A=[6,2,5,4,1,5,6]\n",
    "largest_rectangle(A)"
   ]
  },
  {
   "cell_type": "code",
   "execution_count": null,
   "id": "73790f3d",
   "metadata": {},
   "outputs": [],
   "source": []
  }
 ],
 "metadata": {
  "kernelspec": {
   "display_name": "Python 3 (ipykernel)",
   "language": "python",
   "name": "python3"
  },
  "language_info": {
   "codemirror_mode": {
    "name": "ipython",
    "version": 3
   },
   "file_extension": ".py",
   "mimetype": "text/x-python",
   "name": "python",
   "nbconvert_exporter": "python",
   "pygments_lexer": "ipython3",
   "version": "3.7.7"
  }
 },
 "nbformat": 4,
 "nbformat_minor": 5
}

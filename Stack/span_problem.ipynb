{
 "cells": [
  {
   "cell_type": "code",
   "execution_count": 23,
   "id": "c8d08db6",
   "metadata": {},
   "outputs": [],
   "source": [
    "def stock_span(arr):\n",
    "    stack=[]\n",
    "    ans=[1]\n",
    "    stack.append(0)\n",
    "    for i in range(1,len(arr)):\n",
    "        while(len(stack)!=0 and arr[stack[-1]]<=arr[i]):\n",
    "            stack.pop()\n",
    "        if(stack==[]):\n",
    "            span=i+1\n",
    "            ans.append(span)\n",
    "        else:\n",
    "            span=i-stack[-1]\n",
    "            ans.append(span)\n",
    "        stack.append(i)\n",
    "    return ans"
   ]
  },
  {
   "cell_type": "code",
   "execution_count": 24,
   "id": "a8648344",
   "metadata": {},
   "outputs": [
    {
     "data": {
      "text/plain": [
       "[1, 1, 2, 3, 1, 1, 6, 8, 1]"
      ]
     },
     "execution_count": 24,
     "metadata": {},
     "output_type": "execute_result"
    }
   ],
   "source": [
    "A=[60,10,20,40,35,30,50,70,65]\n",
    "stock_span(A)"
   ]
  },
  {
   "cell_type": "code",
   "execution_count": 29,
   "id": "9d973268",
   "metadata": {},
   "outputs": [],
   "source": [
    "def prev_gret_elem(arr1):\n",
    "    stack=[arr1[0]]\n",
    "    ans=[-1]\n",
    "    for i in range(1,len(arr1)):\n",
    "        #while loop ensures elements less than current element are popped out\n",
    "        while(len(stack) !=0 and stack[-1]<arr1[i]):\n",
    "            stack.pop()\n",
    "        if(stack==[]):#if stack is empty then it will denote no elements are less towards left\n",
    "            ans.append(-1)\n",
    "        else:\n",
    "            ans.append(stack[-1])\n",
    "        stack.append(arr1[i])\n",
    "    return ans"
   ]
  },
  {
   "cell_type": "code",
   "execution_count": 30,
   "id": "4b5345c6",
   "metadata": {},
   "outputs": [
    {
     "data": {
      "text/plain": [
       "[-1, 60, 60, 60, 40, 60]"
      ]
     },
     "execution_count": 30,
     "metadata": {},
     "output_type": "execute_result"
    }
   ],
   "source": [
    "arr1=[60,10,20,40,35,50]\n",
    "prev_gret_elem(arr1)"
   ]
  },
  {
   "cell_type": "code",
   "execution_count": 31,
   "id": "cea90c0a",
   "metadata": {},
   "outputs": [],
   "source": [
    "def next_great_ele(arr2):\n",
    "    n=len(arr2)\n",
    "    ans=[0]*n\n",
    "    ans[-1]=-1\n",
    "    stack=[arr2[n-1]]\n",
    "    for i in range(n-2,-1,-1):\n",
    "        #while loop will pop out all element less than current element in right side\n",
    "        while(len(stack) !=0 and stack[-1]<arr2[i]):\n",
    "            stack.pop()\n",
    "        \n",
    "        if(stack==[]):\n",
    "            ans[i]=-1\n",
    "        else:\n",
    "            ans[i]=stack[-1]\n",
    "        stack.append(arr2[i])\n",
    "    return ans\n",
    "    "
   ]
  },
  {
   "cell_type": "code",
   "execution_count": 32,
   "id": "0a4ce570",
   "metadata": {},
   "outputs": [
    {
     "data": {
      "text/plain": [
       "[15, -1, 12, 12, 12, -1, -1, -1]"
      ]
     },
     "execution_count": 32,
     "metadata": {},
     "output_type": "execute_result"
    }
   ],
   "source": [
    "A=[5,15,10,8,6,12,9,8]\n",
    "next_great_ele(A)"
   ]
  },
  {
   "cell_type": "code",
   "execution_count": null,
   "id": "313e8120",
   "metadata": {},
   "outputs": [],
   "source": []
  }
 ],
 "metadata": {
  "kernelspec": {
   "display_name": "Python 3 (ipykernel)",
   "language": "python",
   "name": "python3"
  },
  "language_info": {
   "codemirror_mode": {
    "name": "ipython",
    "version": 3
   },
   "file_extension": ".py",
   "mimetype": "text/x-python",
   "name": "python",
   "nbconvert_exporter": "python",
   "pygments_lexer": "ipython3",
   "version": "3.7.7"
  }
 },
 "nbformat": 4,
 "nbformat_minor": 5
}

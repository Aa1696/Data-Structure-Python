{
 "cells": [
  {
   "cell_type": "code",
   "execution_count": 101,
   "id": "01c8504c",
   "metadata": {},
   "outputs": [],
   "source": [
    "def stock_span(arr):\n",
    "    stack=[]\n",
    "    ans=[1]\n",
    "    stack.append(0)\n",
    "    print(0,stack)\n",
    "    for i in range(1,len(arr)):\n",
    "        print(i,stack)\n",
    "        while(len(stack)!=0 and arr[stack[-1]]<=arr[i]):\n",
    "            stack.pop()\n",
    "        if(stack==[]):\n",
    "            span=i+1\n",
    "            ans.append(span)\n",
    "        else:\n",
    "            span=i-stack[-1]\n",
    "            ans.append(span)\n",
    "        stack.append(i)\n",
    "    print(i,stack)\n",
    "    return ans"
   ]
  },
  {
   "cell_type": "code",
   "execution_count": 102,
   "id": "6491cf41",
   "metadata": {},
   "outputs": [
    {
     "name": "stdout",
     "output_type": "stream",
     "text": [
      "0 [0]\n",
      "1 [0]\n",
      "2 [0, 1]\n",
      "3 [0, 1, 2]\n",
      "4 [0, 1, 3]\n",
      "5 [0, 1, 3, 4]\n",
      "6 [0, 1, 5]\n",
      "6 [0, 6]\n"
     ]
    },
    {
     "data": {
      "text/plain": [
       "[1, 1, 1, 2, 1, 4, 6]"
      ]
     },
     "execution_count": 102,
     "metadata": {},
     "output_type": "execute_result"
    }
   ],
   "source": [
    "A=[100 ,80 ,60 ,70 ,60 ,75 ,85]\n",
    "stock_span(A)"
   ]
  },
  {
   "cell_type": "code",
   "execution_count": 50,
   "id": "8d312f9a",
   "metadata": {},
   "outputs": [],
   "source": [
    "def prev_gret_elem(arr1):\n",
    "    stack=[arr1[0]]\n",
    "    ans=[-1]\n",
    "    for i in range(1,len(arr1)):\n",
    "        #while loop ensures elements less than current element at left are popped out\n",
    "        while(len(stack) !=0 and stack[-1]<arr1[i]):\n",
    "            stack.pop()\n",
    "        if(stack==[]):#if stack is empty then it will denote no elements are less towards left\n",
    "            ans.append(-1)\n",
    "        else:\n",
    "            ans.append(stack[-1])\n",
    "        stack.append(arr1[i])\n",
    "    return ans"
   ]
  },
  {
   "cell_type": "code",
   "execution_count": 51,
   "id": "93997cf7",
   "metadata": {},
   "outputs": [
    {
     "data": {
      "text/plain": [
       "[-1, 60, 60, 60, 40, 60]"
      ]
     },
     "execution_count": 51,
     "metadata": {},
     "output_type": "execute_result"
    }
   ],
   "source": [
    "arr1=[60,10,20,40,35,50]\n",
    "prev_gret_elem(arr1)"
   ]
  },
  {
   "cell_type": "code",
   "execution_count": 99,
   "id": "44ea59b8",
   "metadata": {},
   "outputs": [],
   "source": [
    "def prev_smaller_elem(arr1):\n",
    "    n=len(arr1)\n",
    "    stack=[0]\n",
    "    ans=[-1]\n",
    "    for i in range(1,n):\n",
    "        while(len(stack)!=0 and arr1[stack[-1]]>=arr1[i]):\n",
    "            stack.pop()\n",
    "        if(stack==[]):\n",
    "            ans.append(-1)\n",
    "        else:\n",
    "            ans.append(stack[-1])\n",
    "        stack.append(i)\n",
    "    return ans\n",
    "        "
   ]
  },
  {
   "cell_type": "code",
   "execution_count": 100,
   "id": "42c40a69",
   "metadata": {},
   "outputs": [
    {
     "data": {
      "text/plain": [
       "[-1, -1, 1, 1, -1, 4, 5]"
      ]
     },
     "execution_count": 100,
     "metadata": {},
     "output_type": "execute_result"
    }
   ],
   "source": [
    "A=[6,2,5,4,1,5,6]\n",
    "prev_smaller_elem(A)"
   ]
  },
  {
   "cell_type": "code",
   "execution_count": 73,
   "id": "5adec7cf",
   "metadata": {},
   "outputs": [],
   "source": [
    "def next_great_elem(arr1):\n",
    "    n=len(arr)\n",
    "    stack=[arr1[n-1]]\n",
    "    ans=[0]*n\n",
    "    for i in range(n-1,-1,-1):\n",
    "        #while loop ensures elements less than current element at right are popped out\n",
    "        while(len(stack) !=0 and stack[-1]<=arr1[i]):\n",
    "            stack.pop()\n",
    "        if(stack==[]):#if stack is empty then it will denote no elements are greater towards right than current\n",
    "            ans[i]=-1\n",
    "        else:\n",
    "            ans[i]=stack[-1]\n",
    "        stack.append(arr1[i])\n",
    "    return ans"
   ]
  },
  {
   "cell_type": "code",
   "execution_count": 74,
   "id": "4caefa6e",
   "metadata": {},
   "outputs": [
    {
     "data": {
      "text/plain": [
       "[3, 4, 4, -1]"
      ]
     },
     "execution_count": 74,
     "metadata": {},
     "output_type": "execute_result"
    }
   ],
   "source": [
    "A=[1,3,2,4]\n",
    "next_great_ele(A)"
   ]
  },
  {
   "cell_type": "code",
   "execution_count": 72,
   "id": "49afe1d7",
   "metadata": {},
   "outputs": [],
   "source": [
    "def next_smaller_elem(arr1):\n",
    "    n=len(arr1)\n",
    "    stack=[arr1[n-1]]\n",
    "    ans=[0]*n\n",
    "    for i in range(n-1,-1,-1):\n",
    "        #while loop ensures elements less than current element at right are popped out\n",
    "        while(len(stack) !=0 and arr1[stack[-1]]>=arr1[i]):\n",
    "            stack.pop()\n",
    "        if(stack==[]):#if stack is empty then it will denote no elements are less towards left\n",
    "            ans[i]=n\n",
    "        else:\n",
    "            ans[i]=stack[-1]\n",
    "        stack.append(i)\n",
    "    return ans"
   ]
  },
  {
   "cell_type": "code",
   "execution_count": 49,
   "id": "b80036c2",
   "metadata": {},
   "outputs": [
    {
     "data": {
      "text/plain": [
       "[1, 4, 3, 4, 7, 7, 7]"
      ]
     },
     "execution_count": 49,
     "metadata": {},
     "output_type": "execute_result"
    }
   ],
   "source": [
    "A=[6,2,5,4,1,5,6]\n",
    "next_smaller_elem(A)"
   ]
  },
  {
   "cell_type": "code",
   "execution_count": 59,
   "id": "9bad0f21",
   "metadata": {},
   "outputs": [],
   "source": [
    "def largest_histogram_area(arr):\n",
    "    n=len(arr)\n",
    "    ns=next_smaller_elem(arr)\n",
    "    ps=prev_smaller_elem(arr)\n",
    "    res=0\n",
    "    for i in range(n):\n",
    "        curr=arr[i]\n",
    "        curr +=(i-ps[i]-1)*arr[i]\n",
    "        curr +=(ns[i]-i-1)*arr[i]\n",
    "        res=max(res,curr)\n",
    "    return res\n",
    "    "
   ]
  },
  {
   "cell_type": "code",
   "execution_count": 88,
   "id": "077cfc85",
   "metadata": {},
   "outputs": [
    {
     "data": {
      "text/plain": [
       "10"
      ]
     },
     "execution_count": 88,
     "metadata": {},
     "output_type": "execute_result"
    }
   ],
   "source": [
    "A=[6,2,5,4,1,5,6]\n",
    "largest_histogram_area(A)"
   ]
  },
  {
   "cell_type": "code",
   "execution_count": 97,
   "id": "a9320ca5",
   "metadata": {},
   "outputs": [],
   "source": [
    "def largest_histogram_area_effecient(arr):\n",
    "    stack=[]\n",
    "    n=len(arr)\n",
    "    result=0\n",
    "    for i in range(len(arr)):\n",
    "        while(len(stack) !=0 and arr[stack[-1]]>=arr[i]):\n",
    "            tmp=stack.pop()\n",
    "            if(len(stack)==0):\n",
    "                curr=i*arr[tmp]\n",
    "            else:\n",
    "                curr=(i-stack[-1]-1)*arr[tmp]\n",
    "            result=max(curr,result)\n",
    "        stack.append(i)\n",
    "    while(len(stack)!=0):\n",
    "        tmp=stack.pop()\n",
    "        if(len(stack)==0):\n",
    "            curr=n*arr[tmp]\n",
    "        else:\n",
    "            curr=(n-stack[-1]-1)*arr[tmp]\n",
    "        result=max(curr,result)\n",
    "    \n",
    "    return result\n",
    "            "
   ]
  },
  {
   "cell_type": "code",
   "execution_count": 98,
   "id": "8d4d07f7",
   "metadata": {},
   "outputs": [
    {
     "data": {
      "text/plain": [
       "10"
      ]
     },
     "execution_count": 98,
     "metadata": {},
     "output_type": "execute_result"
    }
   ],
   "source": [
    "A=[6,2,5,4,1,5,6]\n",
    "largest_histogram_area_effecient(A)"
   ]
  },
  {
   "cell_type": "code",
   "execution_count": 105,
   "id": "54b35032",
   "metadata": {},
   "outputs": [],
   "source": [
    "#Largest rectangle with all 1's\n",
    "def max_0_1_rect_area(mat):\n",
    "    r=len(mat)\n",
    "    c=len(mat[0])\n",
    "    res=largest_histogram_area_effecient(mat[0])\n",
    "    for i in range(1,r):\n",
    "        for j in range(0,c):\n",
    "            if(mat[i][j]==1):\n",
    "                mat[i][j] +=mat[i-1][j]\n",
    "        res=max(res,largest_histogram_area_effecient(mat[i]))\n",
    "    return res"
   ]
  },
  {
   "cell_type": "code",
   "execution_count": 106,
   "id": "88ca8ff8",
   "metadata": {},
   "outputs": [
    {
     "data": {
      "text/plain": [
       "8"
      ]
     },
     "execution_count": 106,
     "metadata": {},
     "output_type": "execute_result"
    }
   ],
   "source": [
    "A=[[1,0,0,1,1],[0,0,0,1,1],[1,1,1,1,1],[0,1,1,1,1]]\n",
    "max_0_1_rect_area(A)"
   ]
  },
  {
   "cell_type": "code",
   "execution_count": 70,
   "id": "766119a5",
   "metadata": {},
   "outputs": [
    {
     "name": "stdout",
     "output_type": "stream",
     "text": [
      "[1, 2, 3, 4]\n"
     ]
    }
   ],
   "source": [
    "A=\"1234\"\n",
    "ans=[]\n",
    "for i in A.strip():\n",
    "    ans.append(int(i))\n",
    "print(ans)"
   ]
  },
  {
   "cell_type": "code",
   "execution_count": null,
   "id": "ac94cbc5",
   "metadata": {},
   "outputs": [],
   "source": []
  }
 ],
 "metadata": {
  "kernelspec": {
   "display_name": "Python 3 (ipykernel)",
   "language": "python",
   "name": "python3"
  },
  "language_info": {
   "codemirror_mode": {
    "name": "ipython",
    "version": 3
   },
   "file_extension": ".py",
   "mimetype": "text/x-python",
   "name": "python",
   "nbconvert_exporter": "python",
   "pygments_lexer": "ipython3",
   "version": "3.7.7"
  }
 },
 "nbformat": 4,
 "nbformat_minor": 5
}

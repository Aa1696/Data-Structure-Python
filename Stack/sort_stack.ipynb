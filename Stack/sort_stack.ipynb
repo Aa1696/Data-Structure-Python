{
 "cells": [
  {
   "cell_type": "code",
   "execution_count": 5,
   "id": "3eefe8a9",
   "metadata": {},
   "outputs": [],
   "source": [
    "def sort(stack):\n",
    "    if(len(stack) !=0):\n",
    "        tmp=stack.pop()\n",
    "        sort(stack)\n",
    "        sortedstack(stack,tmp)\n",
    "    return stack\n",
    "\n",
    "def sortedstack(stack,tmp):\n",
    "    if(len(stack)==0 or tmp>stack[-1] ):\n",
    "        stack.append(tmp)\n",
    "        \n",
    "    else:\n",
    "        ele=stack.pop()\n",
    "        sortedstack(stack,tmp)\n",
    "        stack.append(ele)\n",
    "        \n",
    "    return stack"
   ]
  },
  {
   "cell_type": "code",
   "execution_count": 8,
   "id": "a3eb0027",
   "metadata": {},
   "outputs": [
    {
     "data": {
      "text/plain": [
       "[1, 2, 3]"
      ]
     },
     "execution_count": 8,
     "metadata": {},
     "output_type": "execute_result"
    }
   ],
   "source": [
    "stack=[2,3,1]\n",
    "sort(stack)"
   ]
  },
  {
   "cell_type": "code",
   "execution_count": null,
   "id": "d47f176b",
   "metadata": {},
   "outputs": [],
   "source": []
  }
 ],
 "metadata": {
  "kernelspec": {
   "display_name": "Python 3 (ipykernel)",
   "language": "python",
   "name": "python3"
  },
  "language_info": {
   "codemirror_mode": {
    "name": "ipython",
    "version": 3
   },
   "file_extension": ".py",
   "mimetype": "text/x-python",
   "name": "python",
   "nbconvert_exporter": "python",
   "pygments_lexer": "ipython3",
   "version": "3.7.7"
  }
 },
 "nbformat": 4,
 "nbformat_minor": 5
}

{
 "cells": [
  {
   "cell_type": "code",
   "execution_count": 5,
   "id": "363bbb13",
   "metadata": {},
   "outputs": [],
   "source": [
    "def reverse(stack):\n",
    "    if(len(stack) !=0):\n",
    "        tmp=stack.pop()\n",
    "        reverse(stack)\n",
    "        insertatbottom(stack,tmp)\n",
    "    return stack\n",
    "def insertatbottom(arr,ele):\n",
    "    if(len(arr)==0):\n",
    "        arr.append(ele)\n",
    "    else:\n",
    "        tmp=arr.pop()\n",
    "        insertatbottom(arr,ele)\n",
    "        arr.append(tmp)\n",
    "    return arr"
   ]
  },
  {
   "cell_type": "code",
   "execution_count": 6,
   "id": "a32043eb",
   "metadata": {},
   "outputs": [
    {
     "data": {
      "text/plain": [
       "[3, 2, 1]"
      ]
     },
     "execution_count": 6,
     "metadata": {},
     "output_type": "execute_result"
    }
   ],
   "source": [
    "stack=[1,2,3]\n",
    "reverse(stack)"
   ]
  },
  {
   "cell_type": "code",
   "execution_count": 3,
   "id": "4d80b65a",
   "metadata": {},
   "outputs": [],
   "source": [
    "def insert_at_bottom(arr,ele):\n",
    "    if(len(arr)==0):\n",
    "        arr.append(ele)\n",
    "    else:\n",
    "        tmp=arr.pop()\n",
    "        insert_at_bottom(arr,ele)\n",
    "        arr.append(tmp)\n",
    "    return arr"
   ]
  },
  {
   "cell_type": "code",
   "execution_count": 4,
   "id": "caf74101",
   "metadata": {},
   "outputs": [
    {
     "data": {
      "text/plain": [
       "[6, 1, 2, 3, 4, 5]"
      ]
     },
     "execution_count": 4,
     "metadata": {},
     "output_type": "execute_result"
    }
   ],
   "source": [
    "A=[1,2,3,4,5]\n",
    "insert_at_bottom(A,6)"
   ]
  },
  {
   "cell_type": "code",
   "execution_count": null,
   "id": "e96f40f0",
   "metadata": {},
   "outputs": [],
   "source": []
  }
 ],
 "metadata": {
  "kernelspec": {
   "display_name": "Python 3 (ipykernel)",
   "language": "python",
   "name": "python3"
  },
  "language_info": {
   "codemirror_mode": {
    "name": "ipython",
    "version": 3
   },
   "file_extension": ".py",
   "mimetype": "text/x-python",
   "name": "python",
   "nbconvert_exporter": "python",
   "pygments_lexer": "ipython3",
   "version": "3.7.7"
  }
 },
 "nbformat": 4,
 "nbformat_minor": 5
}

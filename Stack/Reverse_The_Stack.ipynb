{
 "cells": [
  {
   "cell_type": "code",
   "execution_count": 5,
   "id": "363bbb13",
   "metadata": {},
   "outputs": [],
   "source": [
    "def reverse(stack):\n",
    "    if(len(stack) !=0):\n",
    "        tmp=stack.pop()\n",
    "        reverse(stack)\n",
    "        insertatbottom(stack,tmp)\n",
    "    return stack\n",
    "def insertatbottom(arr,ele):\n",
    "    if(len(arr)==0):\n",
    "        arr.append(ele)\n",
    "    else:\n",
    "        tmp=arr.pop()\n",
    "        insertatbottom(arr,ele)\n",
    "        arr.append(tmp)\n",
    "    return arr"
   ]
  },
  {
   "cell_type": "code",
   "execution_count": 6,
   "id": "a32043eb",
   "metadata": {},
   "outputs": [
    {
     "data": {
      "text/plain": [
       "[3, 2, 1]"
      ]
     },
     "execution_count": 6,
     "metadata": {},
     "output_type": "execute_result"
    }
   ],
   "source": [
    "stack=[1,2,3]\n",
    "reverse(stack)"
   ]
  },
  {
   "cell_type": "code",
   "execution_count": null,
   "id": "4d80b65a",
   "metadata": {},
   "outputs": [],
   "source": []
  }
 ],
 "metadata": {
  "kernelspec": {
   "display_name": "Python 3 (ipykernel)",
   "language": "python",
   "name": "python3"
  },
  "language_info": {
   "codemirror_mode": {
    "name": "ipython",
    "version": 3
   },
   "file_extension": ".py",
   "mimetype": "text/x-python",
   "name": "python",
   "nbconvert_exporter": "python",
   "pygments_lexer": "ipython3",
   "version": "3.7.6"
  }
 },
 "nbformat": 4,
 "nbformat_minor": 5
}

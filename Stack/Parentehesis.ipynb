{
 "cells": [
  {
   "cell_type": "code",
   "execution_count": 29,
   "id": "375123a0",
   "metadata": {},
   "outputs": [],
   "source": [
    "def expr(str1):\n",
    "    dict1={'(':')','[':']','{':'}'}\n",
    "    stack=[]\n",
    "    \n",
    "    for i in range (len(str1)):\n",
    "        if(stack==[]):\n",
    "            stack.append(str1[i])\n",
    "        elif(dict1[stack[-1]]==str1[i]):\n",
    "            stack.pop()\n",
    "            \n",
    "        else:\n",
    "            stack.append(str1[i])\n",
    "    if(stack==[]):\n",
    "        return True\n",
    "    else:\n",
    "        return False"
   ]
  },
  {
   "cell_type": "code",
   "execution_count": 31,
   "id": "4311c6f4",
   "metadata": {},
   "outputs": [
    {
     "data": {
      "text/plain": [
       "True"
      ]
     },
     "execution_count": 31,
     "metadata": {},
     "output_type": "execute_result"
    }
   ],
   "source": [
    "str1=\"()[]{}\"\n",
    "expr(str1)"
   ]
  },
  {
   "cell_type": "code",
   "execution_count": 138,
   "id": "b712deef",
   "metadata": {},
   "outputs": [],
   "source": [
    "def consecutive(st1):\n",
    "    n=len(st1)\n",
    "    new_str=st1\n",
    "    stack=[]\n",
    "    for k in range(0,n):\n",
    "        if(bool(stack)==0):\n",
    "            stack.append(new_str[k])\n",
    "        elif(stack[-1]==new_str[k]):\n",
    "                stack.pop()\n",
    "        else:\n",
    "            stack.append(new_str[k])\n",
    "    return stack"
   ]
  },
  {
   "cell_type": "code",
   "execution_count": 139,
   "id": "7725b92a",
   "metadata": {},
   "outputs": [
    {
     "data": {
      "text/plain": [
       "['b']"
      ]
     },
     "execution_count": 139,
     "metadata": {},
     "output_type": "execute_result"
    }
   ],
   "source": [
    "st1=\"aab\"\n",
    "consecutive(st1)"
   ]
  },
  {
   "cell_type": "code",
   "execution_count": 142,
   "id": "a3e2f2ad",
   "metadata": {},
   "outputs": [],
   "source": [
    "def stock_problem(A):\n",
    "    stack=[]\n",
    "    cnt_arr=[1]\n",
    "    for i in range(1,len(A)):\n",
    "        if(A[i]>A[i-1]):\n",
    "            cnt=1\n",
    "            for j in range(len(stack)-1,-1,-1):\n",
    "                if(A[i]>A[stack[j]]):\n",
    "                    cnt +=1\n",
    "                else:\n",
    "                    break\n",
    "            cnt_arr.append(cnt)\n",
    "            stack.append(j)\n",
    "        else:\n",
    "            stack.append(i-1)\n",
    "            cnt_arr.append(1)\n",
    "    return cnt_arr"
   ]
  },
  {
   "cell_type": "code",
   "execution_count": 143,
   "id": "b26979a8",
   "metadata": {},
   "outputs": [
    {
     "data": {
      "text/plain": [
       "[1, 1, 1, 1, 1, 2, 5]"
      ]
     },
     "execution_count": 143,
     "metadata": {},
     "output_type": "execute_result"
    }
   ],
   "source": [
    "arr=[100,80,50,70,60,75,85]\n",
    "stock_problem(arr)"
   ]
  },
  {
   "cell_type": "code",
   "execution_count": 114,
   "id": "cd3315a3",
   "metadata": {},
   "outputs": [],
   "source": [
    "def insertatbottom(A,k):\n",
    "    if(len(A)==0):\n",
    "        A.append(k)\n",
    "        return A\n",
    "    else:\n",
    "        tmp=A.pop()\n",
    "        insertatbottom(A,k)\n",
    "        A.append(tmp)\n",
    "    return A"
   ]
  },
  {
   "cell_type": "code",
   "execution_count": 115,
   "id": "08cbcb79",
   "metadata": {},
   "outputs": [
    {
     "data": {
      "text/plain": [
       "[4, 1, 2, 3]"
      ]
     },
     "execution_count": 115,
     "metadata": {},
     "output_type": "execute_result"
    }
   ],
   "source": [
    "A=[1,2,3]\n",
    "insertatbottom(A,4)"
   ]
  },
  {
   "cell_type": "code",
   "execution_count": 127,
   "id": "ec8a4817",
   "metadata": {},
   "outputs": [],
   "source": [
    "def isempty(A):\n",
    "    return len(A)==0"
   ]
  },
  {
   "cell_type": "code",
   "execution_count": 136,
   "id": "41e8fbad",
   "metadata": {},
   "outputs": [],
   "source": [
    "def reverse(A):\n",
    "    if(not isempty(A)):\n",
    "        tmp=A.pop()\n",
    "        reverse(A)\n",
    "        insertatbottom(A,tmp)\n",
    "    return A"
   ]
  },
  {
   "cell_type": "code",
   "execution_count": 137,
   "id": "3100979a",
   "metadata": {},
   "outputs": [
    {
     "data": {
      "text/plain": [
       "[3, 2, 1]"
      ]
     },
     "execution_count": 137,
     "metadata": {},
     "output_type": "execute_result"
    }
   ],
   "source": [
    "A=[1,2,3]\n",
    "reverse(A)"
   ]
  },
  {
   "cell_type": "code",
   "execution_count": null,
   "id": "e05bf2e9",
   "metadata": {},
   "outputs": [],
   "source": []
  }
 ],
 "metadata": {
  "kernelspec": {
   "display_name": "Python 3 (ipykernel)",
   "language": "python",
   "name": "python3"
  },
  "language_info": {
   "codemirror_mode": {
    "name": "ipython",
    "version": 3
   },
   "file_extension": ".py",
   "mimetype": "text/x-python",
   "name": "python",
   "nbconvert_exporter": "python",
   "pygments_lexer": "ipython3",
   "version": "3.7.7"
  }
 },
 "nbformat": 4,
 "nbformat_minor": 5
}

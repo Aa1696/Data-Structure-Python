{
 "cells": [
  {
   "cell_type": "code",
   "execution_count": 13,
   "id": "c8f74ecd",
   "metadata": {},
   "outputs": [],
   "source": [
    "from collections import defaultdict\n",
    "def target_sum(arr,trgt):\n",
    "    dict1=defaultdict(int)\n",
    "    pair=0\n",
    "    for i in range(len(arr)):\n",
    "        tmp=trgt-arr[i]\n",
    "        if(tmp in dict1):\n",
    "            pair +=dict1[tmp]\n",
    "        dict1[arr[i]] +=1\n",
    "    return pair\n",
    "            "
   ]
  },
  {
   "cell_type": "code",
   "execution_count": 14,
   "id": "458e2ca3",
   "metadata": {},
   "outputs": [
    {
     "data": {
      "text/plain": [
       "3"
      ]
     },
     "execution_count": 14,
     "metadata": {},
     "output_type": "execute_result"
    }
   ],
   "source": [
    "A = [1, 4, 45, 6,6,6, 10, 8]\n",
    "n = 16\n",
    "target_sum(A,n)"
   ]
  },
  {
   "cell_type": "code",
   "execution_count": 23,
   "id": "278a395d",
   "metadata": {},
   "outputs": [],
   "source": [
    "from collections import defaultdict\n",
    "def good_pair(arr):\n",
    "    dict1=defaultdict(int)\n",
    "    pair=0\n",
    "    for i in range(len(arr)):\n",
    "        if(dict1[arr[i]]):\n",
    "            pair +=dict1[arr[i]]\n",
    "        dict1[arr[i]] +=1\n",
    "    return pair"
   ]
  },
  {
   "cell_type": "code",
   "execution_count": 24,
   "id": "583993e9",
   "metadata": {},
   "outputs": [
    {
     "data": {
      "text/plain": [
       "4"
      ]
     },
     "execution_count": 24,
     "metadata": {},
     "output_type": "execute_result"
    }
   ],
   "source": [
    "arr=[1,2,3,1,1,3]\n",
    "good_pair(arr)"
   ]
  },
  {
   "cell_type": "code",
   "execution_count": null,
   "id": "84349929",
   "metadata": {},
   "outputs": [],
   "source": []
  }
 ],
 "metadata": {
  "kernelspec": {
   "display_name": "Python 3 (ipykernel)",
   "language": "python",
   "name": "python3"
  },
  "language_info": {
   "codemirror_mode": {
    "name": "ipython",
    "version": 3
   },
   "file_extension": ".py",
   "mimetype": "text/x-python",
   "name": "python",
   "nbconvert_exporter": "python",
   "pygments_lexer": "ipython3",
   "version": "3.7.7"
  }
 },
 "nbformat": 4,
 "nbformat_minor": 5
}

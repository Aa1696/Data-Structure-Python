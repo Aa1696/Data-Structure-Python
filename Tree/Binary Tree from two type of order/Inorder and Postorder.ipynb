{
 "cells": [
  {
   "cell_type": "code",
   "execution_count": 1,
   "metadata": {},
   "outputs": [],
   "source": [
    "Inorder=[9,5,1,7,2,12,8,4,3,11]\n",
    "postorder=[9,1,2,12,7,5,3,11,4,8]"
   ]
  },
  {
   "cell_type": "code",
   "execution_count": 3,
   "metadata": {},
   "outputs": [],
   "source": [
    "root=postorder[-1]\n",
    "Index=Inorder.index(root)\n",
    "left=Inorder[:Index]\n",
    "right=Inorder[Index+1:]"
   ]
  },
  {
   "cell_type": "code",
   "execution_count": null,
   "metadata": {},
   "outputs": [],
   "source": [
    "def tree(Inorder,postorder):\n",
    "    root=postorder[-1]\n",
    "    "
   ]
  },
  {
   "cell_type": "code",
   "execution_count": 4,
   "metadata": {},
   "outputs": [
    {
     "data": {
      "text/plain": [
       "8"
      ]
     },
     "execution_count": 4,
     "metadata": {},
     "output_type": "execute_result"
    }
   ],
   "source": [
    "root"
   ]
  },
  {
   "cell_type": "code",
   "execution_count": 5,
   "metadata": {},
   "outputs": [
    {
     "data": {
      "text/plain": [
       "6"
      ]
     },
     "execution_count": 5,
     "metadata": {},
     "output_type": "execute_result"
    }
   ],
   "source": [
    "Index"
   ]
  },
  {
   "cell_type": "code",
   "execution_count": 46,
   "metadata": {},
   "outputs": [],
   "source": [
    "class Node:\n",
    "    def __init__(self,data):\n",
    "        self.data=data\n",
    "        self.left=None\n",
    "        self.right=None\n",
    "    def traverse(self):\n",
    "        if(self.left):\n",
    "            self.left.traverse()\n",
    "        print(self.data)\n",
    "        if(self.right):\n",
    "            self.right.traverse()\n",
    "        \n",
    "class Solution:\n",
    "    def inpoconst(self,inord,pord):\n",
    "        dict1={}\n",
    "        for i,k in enumerate(inord):\n",
    "            dict1[k]=i\n",
    "        return self.buildtree(dict1,iord,pord,len(pord),0,len(iord))\n",
    "    def buildtree(self,dict1,iord,pord,post_end,io_start,io_end):\n",
    "        if(io_start==io_end):\n",
    "            return None\n",
    "        \n",
    "        root=Node(pord[post_end-1])\n",
    "        \n",
    "        idx=dict1[pord[post_end-1]]\n",
    "        \n",
    "        root.left=self.buildtree(dict1,iord,pord,post_end-1-(io_end-idx-1),io_start,idx)\n",
    "        \n",
    "        root.right=self.buildtree(dict1,iord,pord,post_end-1,idx+1,io_end)\n",
    "        \n",
    "        return root\n",
    "        "
   ]
  },
  {
   "cell_type": "code",
   "execution_count": 47,
   "metadata": {},
   "outputs": [
    {
     "name": "stdout",
     "output_type": "stream",
     "text": [
      "9\n",
      "5\n",
      "1\n",
      "7\n",
      "2\n",
      "12\n",
      "8\n",
      "4\n",
      "3\n",
      "11\n"
     ]
    }
   ],
   "source": [
    "s = Solution()\n",
    "iord = [9,5,1,7,2,12,8,4,3,11]\n",
    "pord = [9,1,2,12,7,5,3,11,4,8]\n",
    "root = s.inpoconst(iord,pord)\n",
    "root.traverse()"
   ]
  },
  {
   "cell_type": "code",
   "execution_count": null,
   "metadata": {},
   "outputs": [],
   "source": []
  }
 ],
 "metadata": {
  "kernelspec": {
   "display_name": "Python 3",
   "language": "python",
   "name": "python3"
  },
  "language_info": {
   "codemirror_mode": {
    "name": "ipython",
    "version": 3
   },
   "file_extension": ".py",
   "mimetype": "text/x-python",
   "name": "python",
   "nbconvert_exporter": "python",
   "pygments_lexer": "ipython3",
   "version": "3.7.6"
  }
 },
 "nbformat": 4,
 "nbformat_minor": 4
}

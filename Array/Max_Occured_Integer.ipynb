{
 "cells": [
  {
   "cell_type": "code",
   "execution_count": 37,
   "id": "9b5d838d",
   "metadata": {},
   "outputs": [],
   "source": [
    "MAX = 1000000\n",
    "def maxOccured(L,R,N,maxx):\n",
    "    ##Your code here\n",
    "    arr=[0]*(maxx+2)\n",
    "    for i in range(N):\n",
    "        arr[L[i]] +=1\n",
    "        arr[R[i]+1] -=1\n",
    "        print(arr)\n",
    "    msum = arr[0]\n",
    "    k=msum\n",
    "    for i in range(1, maxx+1, 1):\n",
    "        arr[i] += arr[i - 1]\n",
    "        if (msum < arr[i]):\n",
    "            msum = arr[i]\n",
    "            ind = i\n",
    "    if(k==msum):\n",
    "        return 0\n",
    "    return arr"
   ]
  },
  {
   "cell_type": "code",
   "execution_count": 38,
   "id": "1e30604c",
   "metadata": {},
   "outputs": [
    {
     "name": "stdout",
     "output_type": "stream",
     "text": [
      "[0, 1, 0, 0, -1, 0, 0, 0, 0]\n",
      "[0, 1, 1, 0, -1, 0, -1, 0, 0]\n",
      "[0, 1, 1, 1, -1, 0, -1, 0, -1]\n"
     ]
    },
    {
     "data": {
      "text/plain": [
       "[0, 1, 2, 3, 2, 2, 1, 1, -1]"
      ]
     },
     "execution_count": 38,
     "metadata": {},
     "output_type": "execute_result"
    }
   ],
   "source": [
    "n = 3\n",
    "L = [1,2,3]\n",
    "R = [3,5,7]\n",
    "maxOccured(L,R,n,max(R))"
   ]
  },
  {
   "cell_type": "code",
   "execution_count": 10,
   "id": "6badb76c",
   "metadata": {},
   "outputs": [],
   "source": [
    "import sys\n",
    "for line in sys.stdin:\n",
    "    if('q'==line.rstrip()):\n",
    "        break\n",
    "    print(f'input :{line}')\n"
   ]
  },
  {
   "cell_type": "code",
   "execution_count": 75,
   "id": "06d6b18a",
   "metadata": {},
   "outputs": [],
   "source": [
    "def frequencyCount(arr, N, P):\n",
    "    mod=max(N,P)+1\n",
    "    for i in range(N):\n",
    "        if(arr[i]%mod<=N):\n",
    "            k=arr[i]%mod\n",
    "            print(\"i={},k={}\".format(i,k))\n",
    "            arr[arr[i]%mod -1] +=mod\n",
    "            print(arr)\n",
    "    print(arr)\n",
    "    for i in range(N):\n",
    "        arr[i]=arr[i]//mod\n",
    "    print(arr)\n",
    "    return arr"
   ]
  },
  {
   "cell_type": "code",
   "execution_count": 76,
   "id": "86a11946",
   "metadata": {},
   "outputs": [
    {
     "name": "stdout",
     "output_type": "stream",
     "text": [
      "i=0,k=2\n",
      "[2, 9, 2, 3, 5]\n",
      "i=1,k=3\n",
      "[2, 9, 8, 3, 5]\n",
      "i=2,k=2\n",
      "[2, 15, 8, 3, 5]\n",
      "i=3,k=3\n",
      "[2, 15, 14, 3, 5]\n",
      "i=4,k=5\n",
      "[2, 15, 14, 3, 11]\n",
      "[2, 15, 14, 3, 11]\n",
      "[0, 2, 2, 0, 1]\n"
     ]
    },
    {
     "data": {
      "text/plain": [
       "[0, 2, 2, 0, 1]"
      ]
     },
     "execution_count": 76,
     "metadata": {},
     "output_type": "execute_result"
    }
   ],
   "source": [
    "N=5\n",
    "arr=[2,3,2,3,5]\n",
    "P=5\n",
    "frequencyCount(arr,N,P)"
   ]
  },
  {
   "cell_type": "code",
   "execution_count": null,
   "id": "dcc024f5",
   "metadata": {},
   "outputs": [],
   "source": []
  }
 ],
 "metadata": {
  "kernelspec": {
   "display_name": "Python 3 (ipykernel)",
   "language": "python",
   "name": "python3"
  },
  "language_info": {
   "codemirror_mode": {
    "name": "ipython",
    "version": 3
   },
   "file_extension": ".py",
   "mimetype": "text/x-python",
   "name": "python",
   "nbconvert_exporter": "python",
   "pygments_lexer": "ipython3",
   "version": "3.7.7"
  }
 },
 "nbformat": 4,
 "nbformat_minor": 5
}

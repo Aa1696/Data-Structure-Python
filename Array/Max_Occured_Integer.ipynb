{
 "cells": [
  {
   "cell_type": "code",
   "execution_count": 37,
   "id": "f1deb9aa",
   "metadata": {},
   "outputs": [],
   "source": [
    "MAX = 1000000\n",
    "def maxOccured(L,R,N,maxx):\n",
    "    ##Your code here\n",
    "    arr=[0]*(maxx+2)\n",
    "    for i in range(N):\n",
    "        arr[L[i]] +=1\n",
    "        arr[R[i]+1] -=1\n",
    "        print(arr)\n",
    "    msum = arr[0]\n",
    "    k=msum\n",
    "    for i in range(1, maxx+1, 1):\n",
    "        arr[i] += arr[i - 1]\n",
    "        if (msum < arr[i]):\n",
    "            msum = arr[i]\n",
    "            ind = i\n",
    "    if(k==msum):\n",
    "        return 0\n",
    "    return arr"
   ]
  },
  {
   "cell_type": "code",
   "execution_count": 38,
   "id": "8adedb50",
   "metadata": {},
   "outputs": [
    {
     "name": "stdout",
     "output_type": "stream",
     "text": [
      "[0, 1, 0, 0, -1, 0, 0, 0, 0]\n",
      "[0, 1, 1, 0, -1, 0, -1, 0, 0]\n",
      "[0, 1, 1, 1, -1, 0, -1, 0, -1]\n"
     ]
    },
    {
     "data": {
      "text/plain": [
       "[0, 1, 2, 3, 2, 2, 1, 1, -1]"
      ]
     },
     "execution_count": 38,
     "metadata": {},
     "output_type": "execute_result"
    }
   ],
   "source": [
    "n = 3\n",
    "L = [1,2,3]\n",
    "R = [3,5,7]\n",
    "maxOccured(L,R,n,max(R))"
   ]
  },
  {
   "cell_type": "code",
   "execution_count": 10,
   "id": "9f2f5f39",
   "metadata": {},
   "outputs": [],
   "source": [
    "import sys\n",
    "for line in sys.stdin:\n",
    "    if('q'==line.rstrip()):\n",
    "        break\n",
    "    print(f'input :{line}')\n"
   ]
  },
  {
   "cell_type": "code",
   "execution_count": null,
   "id": "0e4b839a",
   "metadata": {},
   "outputs": [],
   "source": []
  },
  {
   "cell_type": "code",
   "execution_count": null,
   "id": "d24dc537",
   "metadata": {},
   "outputs": [],
   "source": []
  }
 ],
 "metadata": {
  "kernelspec": {
   "display_name": "Python 3 (ipykernel)",
   "language": "python",
   "name": "python3"
  },
  "language_info": {
   "codemirror_mode": {
    "name": "ipython",
    "version": 3
   },
   "file_extension": ".py",
   "mimetype": "text/x-python",
   "name": "python",
   "nbconvert_exporter": "python",
   "pygments_lexer": "ipython3",
   "version": "3.7.7"
  }
 },
 "nbformat": 4,
 "nbformat_minor": 5
}

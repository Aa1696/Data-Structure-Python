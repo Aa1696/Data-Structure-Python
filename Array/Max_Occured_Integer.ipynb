{
 "cells": [
  {
   "cell_type": "code",
   "execution_count": 5,
   "id": "1495e95c",
   "metadata": {},
   "outputs": [],
   "source": [
    "def maxOccured(L,R,N,maxx):\n",
    "    ##Your code here\n",
    "    tmp_arr=[0]*(maxx+1)\n",
    "    for i in range(N):\n",
    "        for j in range(L[i],R[i]+1):\n",
    "            tmp_arr[j] +=1\n",
    "    max1=max(tmp_arr)\n",
    "    for i in range(1,maxx+1):\n",
    "        if(tmp_arr[i]==max1):\n",
    "            return i"
   ]
  },
  {
   "cell_type": "code",
   "execution_count": 6,
   "id": "ce02f147",
   "metadata": {},
   "outputs": [
    {
     "data": {
      "text/plain": [
       "5"
      ]
     },
     "execution_count": 6,
     "metadata": {},
     "output_type": "execute_result"
    }
   ],
   "source": [
    "n = 5\n",
    "L = [1,5,9,13,21]\n",
    "R = [15,8,12,20,30]\n",
    "maxOccured(L,R,n,max(R))"
   ]
  },
  {
   "cell_type": "code",
   "execution_count": null,
   "id": "2e950611",
   "metadata": {},
   "outputs": [],
   "source": []
  }
 ],
 "metadata": {
  "kernelspec": {
   "display_name": "Python 3 (ipykernel)",
   "language": "python",
   "name": "python3"
  },
  "language_info": {
   "codemirror_mode": {
    "name": "ipython",
    "version": 3
   },
   "file_extension": ".py",
   "mimetype": "text/x-python",
   "name": "python",
   "nbconvert_exporter": "python",
   "pygments_lexer": "ipython3",
   "version": "3.7.7"
  }
 },
 "nbformat": 4,
 "nbformat_minor": 5
}

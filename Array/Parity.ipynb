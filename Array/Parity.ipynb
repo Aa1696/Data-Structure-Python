{
 "cells": [
  {
   "cell_type": "code",
   "execution_count": 45,
   "id": "f1994ac6",
   "metadata": {},
   "outputs": [],
   "source": [
    "def sortArrayByParity(nums):\n",
    "        left=0\n",
    "        right=len(nums)-1\n",
    "        while(left<right):\n",
    "            while(nums[left]%2==0 and left<right):\n",
    "                left +=1\n",
    "            while(nums[right]%2==1 and left<right):\n",
    "                right -=1\n",
    "            if(left<right):\n",
    "                nums[left],nums[right]=nums[right],nums[left]\n",
    "                left +=1\n",
    "                right -=1\n",
    "        return nums"
   ]
  },
  {
   "cell_type": "code",
   "execution_count": 47,
   "id": "66045223",
   "metadata": {},
   "outputs": [
    {
     "data": {
      "text/plain": [
       "[4, 2, 7, 1, 5, 3]"
      ]
     },
     "execution_count": 47,
     "metadata": {},
     "output_type": "execute_result"
    }
   ],
   "source": [
    "nums = [3,5,7,1,2,4]\n",
    "sortArrayByParity(nums)"
   ]
  },
  {
   "cell_type": "code",
   "execution_count": 48,
   "id": "d9c0fe43",
   "metadata": {},
   "outputs": [
    {
     "data": {
      "text/plain": [
       "81"
      ]
     },
     "execution_count": 48,
     "metadata": {},
     "output_type": "execute_result"
    }
   ],
   "source": [
    "int(\"10000\",3)"
   ]
  },
  {
   "cell_type": "code",
   "execution_count": 33,
   "id": "fbb10509",
   "metadata": {},
   "outputs": [
    {
     "data": {
      "text/plain": [
       "4"
      ]
     },
     "execution_count": 33,
     "metadata": {},
     "output_type": "execute_result"
    }
   ],
   "source": [
    "int('100',2)"
   ]
  },
  {
   "cell_type": "code",
   "execution_count": 55,
   "id": "cefcdfdc",
   "metadata": {},
   "outputs": [],
   "source": [
    "#Merge two arrays and make it sorted.\n",
    "def merge(nums1,nums2):\n",
    "    m=len(nums1)\n",
    "    n=len(nums2)\n",
    "    arr=[0]*(m+n)\n",
    "    i=0\n",
    "    j=0\n",
    "    k=0\n",
    "    while(i<m and j<n):\n",
    "        if(nums1[i]<nums2[j]):\n",
    "            arr[k]=nums1[i]\n",
    "            i +=1\n",
    "            k +=1\n",
    "        else:\n",
    "            arr[k]=nums2[j]\n",
    "            j +=1\n",
    "            k +=1\n",
    "    while(i<m):\n",
    "        arr[k]=nums1[i]\n",
    "        i +=1\n",
    "        k +=1\n",
    "    print(arr)\n",
    "    while(j<n):\n",
    "        arr[k]=nums2[j]\n",
    "        j +=1\n",
    "        k +=1\n",
    "    print(arr)\n",
    "    return arr"
   ]
  },
  {
   "cell_type": "code",
   "execution_count": 59,
   "id": "41a45fc6",
   "metadata": {},
   "outputs": [
    {
     "name": "stdout",
     "output_type": "stream",
     "text": [
      "[1, 4, 0, 0]\n",
      "[1, 4, 5, 6]\n"
     ]
    },
    {
     "data": {
      "text/plain": [
       "[1, 4, 5, 6]"
      ]
     },
     "execution_count": 59,
     "metadata": {},
     "output_type": "execute_result"
    }
   ],
   "source": [
    "A=[4]\n",
    "B=[1,5,6]\n",
    "merge(A,B)"
   ]
  },
  {
   "cell_type": "code",
   "execution_count": null,
   "id": "8622eff7",
   "metadata": {},
   "outputs": [],
   "source": []
  },
  {
   "cell_type": "code",
   "execution_count": 153,
   "id": "0c41e35a",
   "metadata": {},
   "outputs": [],
   "source": [
    "from collections import defaultdict\n",
    "def sortAbs(a, n, k):\n",
    "    #code here\n",
    "    dict1=defaultdict(list)\n",
    "    aux=[]\n",
    "    for i in a:\n",
    "        req_sum=abs(k-i)\n",
    "        if(len(dict1[req_sum])):\n",
    "            dict1[req_sum] +=[i]\n",
    "        else:\n",
    "            dict1[req_sum]=[i]\n",
    "    for i in a:\n",
    "        aux.append(abs(i-k))\n",
    "    aux.sort()\n",
    "    set1=set(aux)\n",
    "    ans=[]\n",
    "    for j in set1:\n",
    "        B=dict1[j]\n",
    "        for i in B:\n",
    "            ans.append(i)\n",
    "    return ans"
   ]
  },
  {
   "cell_type": "code",
   "execution_count": 154,
   "id": "a2c852c4",
   "metadata": {},
   "outputs": [
    {
     "data": {
      "text/plain": [
       "[5, 9, 10, 3, 2]"
      ]
     },
     "execution_count": 154,
     "metadata": {},
     "output_type": "execute_result"
    }
   ],
   "source": [
    "a=[10,5,3,9,2]\n",
    "n=len(a)\n",
    "k=7\n",
    "sortAbs(a, n, k)"
   ]
  },
  {
   "cell_type": "code",
   "execution_count": 149,
   "id": "284f9473",
   "metadata": {},
   "outputs": [],
   "source": [
    "def sortAbs1(a, n, k):\n",
    "    #code here\n",
    "    dict1={}\n",
    "    for i in range(n):\n",
    "        b=abs(k-a[i])\n",
    "        dict1[a[i]]=abs(b)\n",
    "    print(dict1)\n",
    "        \n",
    "    dict1 = {k: v for k, v in sorted(dict1.items(),\n",
    "                                 key=lambda item: item[1])}\n",
    "    i=0\n",
    "    for key in dict1.keys():\n",
    "        a[i]=key\n",
    "        i +=1\n",
    "    return a"
   ]
  },
  {
   "cell_type": "code",
   "execution_count": 150,
   "id": "5d060532",
   "metadata": {},
   "outputs": [
    {
     "name": "stdout",
     "output_type": "stream",
     "text": [
      "{10: 3, 5: 2, 3: 4, 9: 2, 2: 5}\n"
     ]
    },
    {
     "data": {
      "text/plain": [
       "[5, 9, 10, 3, 2]"
      ]
     },
     "execution_count": 150,
     "metadata": {},
     "output_type": "execute_result"
    }
   ],
   "source": [
    "a=[10,5,3,9,2]\n",
    "n=len(a)\n",
    "k=7\n",
    "sortAbs1(a, n, k)"
   ]
  },
  {
   "cell_type": "code",
   "execution_count": null,
   "id": "79f18637",
   "metadata": {},
   "outputs": [],
   "source": []
  },
  {
   "cell_type": "code",
   "execution_count": 157,
   "id": "904bdee5",
   "metadata": {},
   "outputs": [
    {
     "name": "stdout",
     "output_type": "stream",
     "text": [
      "7\n"
     ]
    }
   ],
   "source": [
    "x=5\n",
    "def foo():\n",
    "    global x\n",
    "    x=4\n",
    "def foo2(a,b):\n",
    "    global x\n",
    "    return a+b+x\n",
    "foo()\n",
    "total=foo2(1,2)\n",
    "print(total)"
   ]
  },
  {
   "cell_type": "code",
   "execution_count": 158,
   "id": "0bac3504",
   "metadata": {},
   "outputs": [
    {
     "name": "stdout",
     "output_type": "stream",
     "text": [
      "GoodMorning"
     ]
    }
   ],
   "source": [
    "arr=[1,2,3,4]\n",
    "v=0\n",
    "try:\n",
    "    v=arr[4]\n",
    "except ValueError:\n",
    "    print('Hello World',end='')\n",
    "except:\n",
    "    print('GoodMorning',end='')"
   ]
  },
  {
   "cell_type": "code",
   "execution_count": 159,
   "id": "4369cea5",
   "metadata": {},
   "outputs": [
    {
     "name": "stdout",
     "output_type": "stream",
     "text": [
      "abcd\n"
     ]
    }
   ],
   "source": [
    "x='abcd'\n",
    "for i in range(len(x)):\n",
    "    x[i].upper()\n",
    "print(x)"
   ]
  },
  {
   "cell_type": "code",
   "execution_count": 163,
   "id": "addfe843",
   "metadata": {},
   "outputs": [
    {
     "data": {
      "text/plain": [
       "int"
      ]
     },
     "execution_count": 163,
     "metadata": {},
     "output_type": "execute_result"
    }
   ],
   "source": [
    "x=(1)\n",
    "type(x)\n"
   ]
  },
  {
   "cell_type": "code",
   "execution_count": 164,
   "id": "8db317c8",
   "metadata": {},
   "outputs": [
    {
     "ename": "TypeError",
     "evalue": "'int' object is not subscriptable",
     "output_type": "error",
     "traceback": [
      "\u001b[0;31m---------------------------------------------------------------------------\u001b[0m",
      "\u001b[0;31mTypeError\u001b[0m                                 Traceback (most recent call last)",
      "\u001b[0;32m/var/folders/gg/rkgw68311276r9cdpgzyzhlh0000gn/T/ipykernel_71307/3629782281.py\u001b[0m in \u001b[0;36m<module>\u001b[0;34m\u001b[0m\n\u001b[0;32m----> 1\u001b[0;31m \u001b[0mx\u001b[0m\u001b[0;34m[\u001b[0m\u001b[0;36m0\u001b[0m\u001b[0;34m]\u001b[0m\u001b[0;34m\u001b[0m\u001b[0;34m\u001b[0m\u001b[0m\n\u001b[0m",
      "\u001b[0;31mTypeError\u001b[0m: 'int' object is not subscriptable"
     ]
    }
   ],
   "source": [
    "x[0]"
   ]
  },
  {
   "cell_type": "code",
   "execution_count": 166,
   "id": "1d7df628",
   "metadata": {},
   "outputs": [
    {
     "name": "stdout",
     "output_type": "stream",
     "text": [
      "(2, 3)\n"
     ]
    }
   ],
   "source": [
    "def slicer(tup):\n",
    "    return tup[1:-1]\n",
    "a=(1,2,3,4)\n",
    "print(slicer(a))"
   ]
  },
  {
   "cell_type": "code",
   "execution_count": 168,
   "id": "af1a3917",
   "metadata": {},
   "outputs": [
    {
     "name": "stdout",
     "output_type": "stream",
     "text": [
      "er\n"
     ]
    }
   ],
   "source": [
    "a=1\n",
    "if(a==1):\n",
    "    print(\"er\")\n",
    "elif(a==1):\n",
    "    print(\"er\")\n",
    "else:\n",
    "    print(\"sonu\")"
   ]
  },
  {
   "cell_type": "code",
   "execution_count": 170,
   "id": "e94be7f7",
   "metadata": {},
   "outputs": [
    {
     "name": "stdout",
     "output_type": "stream",
     "text": [
      "1 -1\n"
     ]
    }
   ],
   "source": [
    "x=1\n",
    "y=-1\n",
    "x,y=(y,x)[::-1]\n",
    "print(x,y)"
   ]
  },
  {
   "cell_type": "code",
   "execution_count": 171,
   "id": "0df56505",
   "metadata": {},
   "outputs": [
    {
     "name": "stdout",
     "output_type": "stream",
     "text": [
      "Error has occured\n"
     ]
    }
   ],
   "source": [
    "a=1\n",
    "try:\n",
    "    if 'a' !=a:\n",
    "        raise \"Error\"\n",
    "    else:\n",
    "        print(\"Error has not ocuured\")\n",
    "except:\n",
    "    print(\"Error has occured\")\n",
    "    "
   ]
  },
  {
   "cell_type": "code",
   "execution_count": 172,
   "id": "de15d99c",
   "metadata": {},
   "outputs": [
    {
     "ename": "SyntaxError",
     "evalue": "invalid syntax (654050158.py, line 4)",
     "output_type": "error",
     "traceback": [
      "\u001b[0;36m  File \u001b[0;32m\"/var/folders/gg/rkgw68311276r9cdpgzyzhlh0000gn/T/ipykernel_71307/654050158.py\"\u001b[0;36m, line \u001b[0;32m4\u001b[0m\n\u001b[0;31m    i++\u001b[0m\n\u001b[0m       ^\u001b[0m\n\u001b[0;31mSyntaxError\u001b[0m\u001b[0;31m:\u001b[0m invalid syntax\n"
     ]
    }
   ],
   "source": [
    "i=0\n",
    "while(i<3):\n",
    "    print(i)\n",
    "    i++\n",
    "    print(i+1)\n"
   ]
  },
  {
   "cell_type": "code",
   "execution_count": 173,
   "id": "90aeebf2",
   "metadata": {},
   "outputs": [
    {
     "data": {
      "text/plain": [
       "(2+7j)"
      ]
     },
     "execution_count": 173,
     "metadata": {},
     "output_type": "execute_result"
    }
   ],
   "source": [
    "complex(2,7)"
   ]
  },
  {
   "cell_type": "code",
   "execution_count": 174,
   "id": "59b1c0f2",
   "metadata": {},
   "outputs": [
    {
     "ename": "SyntaxError",
     "evalue": "invalid syntax (3113557508.py, line 1)",
     "output_type": "error",
     "traceback": [
      "\u001b[0;36m  File \u001b[0;32m\"/var/folders/gg/rkgw68311276r9cdpgzyzhlh0000gn/T/ipykernel_71307/3113557508.py\"\u001b[0;36m, line \u001b[0;32m1\u001b[0m\n\u001b[0;31m    complex(**['real':2,'imag':7])\u001b[0m\n\u001b[0m                     ^\u001b[0m\n\u001b[0;31mSyntaxError\u001b[0m\u001b[0;31m:\u001b[0m invalid syntax\n"
     ]
    }
   ],
   "source": [
    "complex(**['real':2,'imag':7])"
   ]
  },
  {
   "cell_type": "code",
   "execution_count": 175,
   "id": "5dbf8b18",
   "metadata": {},
   "outputs": [
    {
     "data": {
      "text/plain": [
       "(2+7j)"
      ]
     },
     "execution_count": 175,
     "metadata": {},
     "output_type": "execute_result"
    }
   ],
   "source": [
    "complex(real=2,imag=7)"
   ]
  },
  {
   "cell_type": "code",
   "execution_count": 176,
   "id": "eb5f832e",
   "metadata": {},
   "outputs": [
    {
     "name": "stdout",
     "output_type": "stream",
     "text": [
      "53\n"
     ]
    }
   ],
   "source": [
    "x=2\n",
    "y=3\n",
    "def a():\n",
    "    global x\n",
    "    x=5\n",
    "    y=10\n",
    "a()\n",
    "print(x,end='')\n",
    "print(y)"
   ]
  },
  {
   "cell_type": "code",
   "execution_count": 177,
   "id": "1ad6bfa3",
   "metadata": {},
   "outputs": [
    {
     "name": "stdout",
     "output_type": "stream",
     "text": [
      "ok\n"
     ]
    }
   ],
   "source": [
    "d={'a':1,'b':1,'c':0}\n",
    "if(d['a']>0):\n",
    "    print('ok')\n",
    "elif(d['d']>0):\n",
    "    print('ok')\n",
    "else:\n",
    "    print('not ok')"
   ]
  },
  {
   "cell_type": "code",
   "execution_count": 178,
   "id": "42237c9a",
   "metadata": {},
   "outputs": [
    {
     "name": "stdout",
     "output_type": "stream",
     "text": [
      "deque(['Russia', 'Australia', 'US', 'France', 'UK'])\n"
     ]
    }
   ],
   "source": [
    "from collections import deque\n",
    "x=deque([\"Russia\",\"Australia\",\"US\"])\n",
    "x.append(\"France\")\n",
    "x.append(\"UK\")\n",
    "print(x)"
   ]
  },
  {
   "cell_type": "code",
   "execution_count": 180,
   "id": "5a0de0ec",
   "metadata": {},
   "outputs": [
    {
     "name": "stdout",
     "output_type": "stream",
     "text": [
      "Micahael\n"
     ]
    }
   ],
   "source": [
    "a=(\"Robert\",\"Thomas\",\"Lilly\",\"Micahael\")\n",
    "print(a[-1])"
   ]
  },
  {
   "cell_type": "code",
   "execution_count": 181,
   "id": "28164139",
   "metadata": {},
   "outputs": [
    {
     "name": "stdout",
     "output_type": "stream",
     "text": [
      "1\n",
      "-1\n"
     ]
    }
   ],
   "source": [
    "def code():\n",
    "    try:\n",
    "        print(1)\n",
    "    finally:\n",
    "        print(-1)\n",
    "code()"
   ]
  },
  {
   "cell_type": "code",
   "execution_count": 182,
   "id": "81c08050",
   "metadata": {},
   "outputs": [
    {
     "name": "stdout",
     "output_type": "stream",
     "text": [
      "['pasterie', 'cake', 'Icecream', 'Browny']\n"
     ]
    }
   ],
   "source": [
    "lst=[\"cake\",\"pasterie\",\"Browny\",\"Icecream\"]\n",
    "lst.sort(reverse=True)\n",
    "print(lst)"
   ]
  },
  {
   "cell_type": "code",
   "execution_count": 184,
   "id": "338d6dbe",
   "metadata": {},
   "outputs": [
    {
     "name": "stdout",
     "output_type": "stream",
     "text": [
      "1 4 "
     ]
    }
   ],
   "source": [
    "A=[1,2,3,4,5]\n",
    "N=len(A)\n",
    "for i in range(N):\n",
    "    if(i%3==0):\n",
    "        print(A[i],end=\" \")\n"
   ]
  },
  {
   "cell_type": "code",
   "execution_count": 191,
   "id": "6473f49c",
   "metadata": {},
   "outputs": [
    {
     "name": "stdout",
     "output_type": "stream",
     "text": [
      "4\n"
     ]
    }
   ],
   "source": [
    "S=\"aLYoNMjha\"\n",
    "vow=['A','a','e','E','i','I','o','O','u','U']\n",
    "cnt_v=0\n",
    "cnt_y=0\n",
    "cnt_z=0\n",
    "for i in S:\n",
    "    if(i in vow):\n",
    "        cnt_v +=1\n",
    "    elif(i=='y' or i=='Y'):\n",
    "        cnt_y +=1\n",
    "    elif(i=='z' or i=='Z'):\n",
    "        cnt_z +=1\n",
    "    else:\n",
    "        continue\n",
    "result=cnt_v+cnt_y+cnt_z\n",
    "print(result)"
   ]
  },
  {
   "cell_type": "code",
   "execution_count": null,
   "id": "c6113b36",
   "metadata": {},
   "outputs": [],
   "source": []
  },
  {
   "cell_type": "code",
   "execution_count": null,
   "id": "0934fb3d",
   "metadata": {},
   "outputs": [],
   "source": []
  }
 ],
 "metadata": {
  "kernelspec": {
   "display_name": "Python 3 (ipykernel)",
   "language": "python",
   "name": "python3"
  },
  "language_info": {
   "codemirror_mode": {
    "name": "ipython",
    "version": 3
   },
   "file_extension": ".py",
   "mimetype": "text/x-python",
   "name": "python",
   "nbconvert_exporter": "python",
   "pygments_lexer": "ipython3",
   "version": "3.7.7"
  }
 },
 "nbformat": 4,
 "nbformat_minor": 5
}

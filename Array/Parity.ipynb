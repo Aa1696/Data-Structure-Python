{
 "cells": [
  {
   "cell_type": "code",
   "execution_count": 45,
   "id": "f1994ac6",
   "metadata": {},
   "outputs": [],
   "source": [
    "def sortArrayByParity(nums):\n",
    "        left=0\n",
    "        right=len(nums)-1\n",
    "        while(left<right):\n",
    "            while(nums[left]%2==0 and left<right):\n",
    "                left +=1\n",
    "            while(nums[right]%2==1 and left<right):\n",
    "                right -=1\n",
    "            if(left<right):\n",
    "                nums[left],nums[right]=nums[right],nums[left]\n",
    "                left +=1\n",
    "                right -=1\n",
    "        return nums"
   ]
  },
  {
   "cell_type": "code",
   "execution_count": 47,
   "id": "66045223",
   "metadata": {},
   "outputs": [
    {
     "data": {
      "text/plain": [
       "[4, 2, 7, 1, 5, 3]"
      ]
     },
     "execution_count": 47,
     "metadata": {},
     "output_type": "execute_result"
    }
   ],
   "source": [
    "nums = [3,5,7,1,2,4]\n",
    "sortArrayByParity(nums)"
   ]
  },
  {
   "cell_type": "code",
   "execution_count": 48,
   "id": "d9c0fe43",
   "metadata": {},
   "outputs": [
    {
     "data": {
      "text/plain": [
       "81"
      ]
     },
     "execution_count": 48,
     "metadata": {},
     "output_type": "execute_result"
    }
   ],
   "source": [
    "int(\"10000\",3)"
   ]
  },
  {
   "cell_type": "code",
   "execution_count": 33,
   "id": "fbb10509",
   "metadata": {},
   "outputs": [
    {
     "data": {
      "text/plain": [
       "4"
      ]
     },
     "execution_count": 33,
     "metadata": {},
     "output_type": "execute_result"
    }
   ],
   "source": [
    "int('100',2)"
   ]
  },
  {
   "cell_type": "code",
   "execution_count": 55,
   "id": "cefcdfdc",
   "metadata": {},
   "outputs": [],
   "source": [
    "#Merge two arrays and make it sorted.\n",
    "def merge(nums1,nums2):\n",
    "    m=len(nums1)\n",
    "    n=len(nums2)\n",
    "    arr=[0]*(m+n)\n",
    "    i=0\n",
    "    j=0\n",
    "    k=0\n",
    "    while(i<m and j<n):\n",
    "        if(nums1[i]<nums2[j]):\n",
    "            arr[k]=nums1[i]\n",
    "            i +=1\n",
    "            k +=1\n",
    "        else:\n",
    "            arr[k]=nums2[j]\n",
    "            j +=1\n",
    "            k +=1\n",
    "    while(i<m):\n",
    "        arr[k]=nums1[i]\n",
    "        i +=1\n",
    "        k +=1\n",
    "    print(arr)\n",
    "    while(j<n):\n",
    "        arr[k]=nums2[j]\n",
    "        j +=1\n",
    "        k +=1\n",
    "    print(arr)\n",
    "    return arr"
   ]
  },
  {
   "cell_type": "code",
   "execution_count": 59,
   "id": "41a45fc6",
   "metadata": {},
   "outputs": [
    {
     "name": "stdout",
     "output_type": "stream",
     "text": [
      "[1, 4, 0, 0]\n",
      "[1, 4, 5, 6]\n"
     ]
    },
    {
     "data": {
      "text/plain": [
       "[1, 4, 5, 6]"
      ]
     },
     "execution_count": 59,
     "metadata": {},
     "output_type": "execute_result"
    }
   ],
   "source": [
    "A=[4]\n",
    "B=[1,5,6]\n",
    "merge(A,B)"
   ]
  },
  {
   "cell_type": "code",
   "execution_count": null,
   "id": "8622eff7",
   "metadata": {},
   "outputs": [],
   "source": []
  },
  {
   "cell_type": "code",
   "execution_count": 153,
   "id": "0c41e35a",
   "metadata": {},
   "outputs": [],
   "source": [
    "from collections import defaultdict\n",
    "def sortAbs(a, n, k):\n",
    "    #code here\n",
    "    dict1=defaultdict(list)\n",
    "    aux=[]\n",
    "    for i in a:\n",
    "        req_sum=abs(k-i)\n",
    "        if(len(dict1[req_sum])):\n",
    "            dict1[req_sum] +=[i]\n",
    "        else:\n",
    "            dict1[req_sum]=[i]\n",
    "    for i in a:\n",
    "        aux.append(abs(i-k))\n",
    "    aux.sort()\n",
    "    set1=set(aux)\n",
    "    ans=[]\n",
    "    for j in set1:\n",
    "        B=dict1[j]\n",
    "        for i in B:\n",
    "            ans.append(i)\n",
    "    return ans"
   ]
  },
  {
   "cell_type": "code",
   "execution_count": 154,
   "id": "a2c852c4",
   "metadata": {},
   "outputs": [
    {
     "data": {
      "text/plain": [
       "[5, 9, 10, 3, 2]"
      ]
     },
     "execution_count": 154,
     "metadata": {},
     "output_type": "execute_result"
    }
   ],
   "source": [
    "a=[10,5,3,9,2]\n",
    "n=len(a)\n",
    "k=7\n",
    "sortAbs(a, n, k)"
   ]
  },
  {
   "cell_type": "code",
   "execution_count": 149,
   "id": "284f9473",
   "metadata": {},
   "outputs": [],
   "source": [
    "def sortAbs1(a, n, k):\n",
    "    #code here\n",
    "    dict1={}\n",
    "    for i in range(n):\n",
    "        b=abs(k-a[i])\n",
    "        dict1[a[i]]=abs(b)\n",
    "    print(dict1)\n",
    "        \n",
    "    dict1 = {k: v for k, v in sorted(dict1.items(),\n",
    "                                 key=lambda item: item[1])}\n",
    "    i=0\n",
    "    for key in dict1.keys():\n",
    "        a[i]=key\n",
    "        i +=1\n",
    "    return a"
   ]
  },
  {
   "cell_type": "code",
   "execution_count": 150,
   "id": "5d060532",
   "metadata": {},
   "outputs": [
    {
     "name": "stdout",
     "output_type": "stream",
     "text": [
      "{10: 3, 5: 2, 3: 4, 9: 2, 2: 5}\n"
     ]
    },
    {
     "data": {
      "text/plain": [
       "[5, 9, 10, 3, 2]"
      ]
     },
     "execution_count": 150,
     "metadata": {},
     "output_type": "execute_result"
    }
   ],
   "source": [
    "a=[10,5,3,9,2]\n",
    "n=len(a)\n",
    "k=7\n",
    "sortAbs1(a, n, k)"
   ]
  },
  {
   "cell_type": "code",
   "execution_count": null,
   "id": "79f18637",
   "metadata": {},
   "outputs": [],
   "source": []
  },
  {
   "cell_type": "code",
   "execution_count": null,
   "id": "904bdee5",
   "metadata": {},
   "outputs": [],
   "source": []
  }
 ],
 "metadata": {
  "kernelspec": {
   "display_name": "Python 3 (ipykernel)",
   "language": "python",
   "name": "python3"
  },
  "language_info": {
   "codemirror_mode": {
    "name": "ipython",
    "version": 3
   },
   "file_extension": ".py",
   "mimetype": "text/x-python",
   "name": "python",
   "nbconvert_exporter": "python",
   "pygments_lexer": "ipython3",
   "version": "3.7.7"
  }
 },
 "nbformat": 4,
 "nbformat_minor": 5
}

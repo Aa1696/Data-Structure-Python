{
 "cells": [
  {
   "cell_type": "code",
   "execution_count": 45,
   "id": "6854950a",
   "metadata": {},
   "outputs": [],
   "source": [
    "def sortArrayByParity(nums):\n",
    "        left=0\n",
    "        right=len(nums)-1\n",
    "        while(left<right):\n",
    "            while(nums[left]%2==0 and left<right):\n",
    "                left +=1\n",
    "            while(nums[right]%2==1 and left<right):\n",
    "                right -=1\n",
    "            if(left<right):\n",
    "                nums[left],nums[right]=nums[right],nums[left]\n",
    "                left +=1\n",
    "                right -=1\n",
    "        return nums"
   ]
  },
  {
   "cell_type": "code",
   "execution_count": 47,
   "id": "72e6abea",
   "metadata": {},
   "outputs": [
    {
     "data": {
      "text/plain": [
       "[4, 2, 7, 1, 5, 3]"
      ]
     },
     "execution_count": 47,
     "metadata": {},
     "output_type": "execute_result"
    }
   ],
   "source": [
    "nums = [3,5,7,1,2,4]\n",
    "sortArrayByParity(nums)"
   ]
  },
  {
   "cell_type": "code",
   "execution_count": 48,
   "id": "82405b11",
   "metadata": {},
   "outputs": [
    {
     "data": {
      "text/plain": [
       "81"
      ]
     },
     "execution_count": 48,
     "metadata": {},
     "output_type": "execute_result"
    }
   ],
   "source": [
    "int(\"10000\",3)"
   ]
  },
  {
   "cell_type": "code",
   "execution_count": 33,
   "id": "c0e940c1",
   "metadata": {},
   "outputs": [
    {
     "data": {
      "text/plain": [
       "4"
      ]
     },
     "execution_count": 33,
     "metadata": {},
     "output_type": "execute_result"
    }
   ],
   "source": [
    "int('100',2)"
   ]
  },
  {
   "cell_type": "code",
   "execution_count": 55,
   "id": "58e4eb6c",
   "metadata": {},
   "outputs": [],
   "source": [
    "#Merge two arrays and make it sorted.\n",
    "def merge(nums1,nums2):\n",
    "    m=len(nums1)\n",
    "    n=len(nums2)\n",
    "    arr=[0]*(m+n)\n",
    "    i=0\n",
    "    j=0\n",
    "    k=0\n",
    "    while(i<m and j<n):\n",
    "        if(nums1[i]<nums2[j]):\n",
    "            arr[k]=nums1[i]\n",
    "            i +=1\n",
    "            k +=1\n",
    "        else:\n",
    "            arr[k]=nums2[j]\n",
    "            j +=1\n",
    "            k +=1\n",
    "    while(i<m):\n",
    "        arr[k]=nums1[i]\n",
    "        i +=1\n",
    "        k +=1\n",
    "    print(arr)\n",
    "    while(j<n):\n",
    "        arr[k]=nums2[j]\n",
    "        j +=1\n",
    "        k +=1\n",
    "    print(arr)\n",
    "    return arr"
   ]
  },
  {
   "cell_type": "code",
   "execution_count": 59,
   "id": "4e7b59b3",
   "metadata": {},
   "outputs": [
    {
     "name": "stdout",
     "output_type": "stream",
     "text": [
      "[1, 4, 0, 0]\n",
      "[1, 4, 5, 6]\n"
     ]
    },
    {
     "data": {
      "text/plain": [
       "[1, 4, 5, 6]"
      ]
     },
     "execution_count": 59,
     "metadata": {},
     "output_type": "execute_result"
    }
   ],
   "source": [
    "A=[4]\n",
    "B=[1,5,6]\n",
    "merge(A,B)"
   ]
  },
  {
   "cell_type": "code",
   "execution_count": null,
   "id": "97759b4f",
   "metadata": {},
   "outputs": [],
   "source": []
  },
  {
   "cell_type": "code",
   "execution_count": null,
   "id": "b6709fc2",
   "metadata": {},
   "outputs": [],
   "source": []
  }
 ],
 "metadata": {
  "kernelspec": {
   "display_name": "Python 3 (ipykernel)",
   "language": "python",
   "name": "python3"
  },
  "language_info": {
   "codemirror_mode": {
    "name": "ipython",
    "version": 3
   },
   "file_extension": ".py",
   "mimetype": "text/x-python",
   "name": "python",
   "nbconvert_exporter": "python",
   "pygments_lexer": "ipython3",
   "version": "3.7.7"
  }
 },
 "nbformat": 4,
 "nbformat_minor": 5
}

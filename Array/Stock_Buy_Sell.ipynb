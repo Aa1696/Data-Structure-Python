{
 "cells": [
  {
   "cell_type": "code",
   "execution_count": 20,
   "id": "55d4b672",
   "metadata": {},
   "outputs": [],
   "source": [
    "def stockBuySell(A,n):\n",
    "    #code here\n",
    "    ans=[]\n",
    "    i=0\n",
    "    buy=0\n",
    "    while(i<n-1):\n",
    "        while((i<n-1) and A[i+1]>A[i]):\n",
    "            i +=1\n",
    "        sell=i\n",
    "        \n",
    "        i +=1\n",
    "        if(sell>buy):\n",
    "            ans.append([buy,sell])\n",
    "            buy=i+1\n",
    "    return ans"
   ]
  },
  {
   "cell_type": "code",
   "execution_count": 21,
   "id": "acf082c8",
   "metadata": {},
   "outputs": [
    {
     "data": {
      "text/plain": [
       "[[0, 4],\n",
       " [6, 7],\n",
       " [9, 11],\n",
       " [13, 14],\n",
       " [16, 17],\n",
       " [19, 20],\n",
       " [22, 23],\n",
       " [25, 26],\n",
       " [28, 30],\n",
       " [32, 34],\n",
       " [36, 38],\n",
       " [40, 42],\n",
       " [44, 45],\n",
       " [47, 49],\n",
       " [51, 53],\n",
       " [55, 56],\n",
       " [58, 59],\n",
       " [61, 62],\n",
       " [64, 66],\n",
       " [68, 69],\n",
       " [71, 73],\n",
       " [75, 77],\n",
       " [79, 81]]"
      ]
     },
     "execution_count": 21,
     "metadata": {},
     "output_type": "execute_result"
    }
   ],
   "source": [
    "a=\"886 2777 6915 7793 8335 5386 492 6649 1421 2362 27 8690 59 7763 3926 540 3426 9172 5736 5211 5368 2567 6429 5782 1530 2862 5123 4067 3135 3929 9802 4022 3058 3069 8167 1393 8456 5011 8042 6229 7373 4421 4919 3784 8537 5198 4324 8315 4370 6413 3526 6091 8980 9956 1873 6862 9170 6996 7281 2305 925 7084 6327 336 6505 846 1729 1313 5857 6124 3895 9582 545 8814 3367 5434 364 4043 3750 1087 6808 7276 7178 5788\"\n",
    "arr=list(map(int,a.split()))\n",
    "n=len(arr)\n",
    "stockBuySell(arr,n)"
   ]
  },
  {
   "cell_type": "code",
   "execution_count": null,
   "id": "5581dde1",
   "metadata": {},
   "outputs": [],
   "source": []
  }
 ],
 "metadata": {
  "kernelspec": {
   "display_name": "Python 3 (ipykernel)",
   "language": "python",
   "name": "python3"
  },
  "language_info": {
   "codemirror_mode": {
    "name": "ipython",
    "version": 3
   },
   "file_extension": ".py",
   "mimetype": "text/x-python",
   "name": "python",
   "nbconvert_exporter": "python",
   "pygments_lexer": "ipython3",
   "version": "3.7.7"
  }
 },
 "nbformat": 4,
 "nbformat_minor": 5
}

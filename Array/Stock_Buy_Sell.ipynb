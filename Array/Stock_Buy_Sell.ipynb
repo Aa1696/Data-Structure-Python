{
 "cells": [
  {
   "cell_type": "code",
   "execution_count": 22,
   "id": "f1be70fa",
   "metadata": {},
   "outputs": [],
   "source": [
    "def stockBuySell(A,n):\n",
    "    ans=[]\n",
    "    i=0\n",
    "    while(i<n-1):\n",
    "        while((i<n-1) and A[i+1]<=A[i]):#local minima till n-2\n",
    "            i +=1\n",
    "        if(i==n-1):#\n",
    "            break\n",
    "        buy=i\n",
    "        i +=1\n",
    "        while((i<n) and A[i]>=A[i-1]):#local maxima till n-1\n",
    "            i +=1\n",
    "        sell=i-1\n",
    "        ans.append([buy,sell])\n",
    "    return ans"
   ]
  },
  {
   "cell_type": "code",
   "execution_count": 23,
   "id": "54a65570",
   "metadata": {},
   "outputs": [
    {
     "data": {
      "text/plain": [
       "[[0, 4],\n",
       " [6, 7],\n",
       " [8, 9],\n",
       " [10, 11],\n",
       " [12, 13],\n",
       " [15, 17],\n",
       " [19, 20],\n",
       " [21, 22],\n",
       " [24, 26],\n",
       " [28, 30],\n",
       " [32, 34],\n",
       " [35, 36],\n",
       " [37, 38],\n",
       " [39, 40],\n",
       " [41, 42],\n",
       " [43, 44],\n",
       " [46, 47],\n",
       " [48, 49],\n",
       " [50, 53],\n",
       " [54, 56],\n",
       " [57, 58],\n",
       " [60, 61],\n",
       " [63, 64],\n",
       " [65, 66],\n",
       " [67, 69],\n",
       " [70, 71],\n",
       " [72, 73],\n",
       " [74, 75],\n",
       " [76, 77],\n",
       " [79, 81]]"
      ]
     },
     "execution_count": 23,
     "metadata": {},
     "output_type": "execute_result"
    }
   ],
   "source": [
    "a=\"886 2777 6915 7793 8335 5386 492 6649 1421 2362 27 8690 59 7763 3926 540 3426 9172 5736 5211 5368 2567 6429 5782 1530 2862 5123 4067 3135 3929 9802 4022 3058 3069 8167 1393 8456 5011 8042 6229 7373 4421 4919 3784 8537 5198 4324 8315 4370 6413 3526 6091 8980 9956 1873 6862 9170 6996 7281 2305 925 7084 6327 336 6505 846 1729 1313 5857 6124 3895 9582 545 8814 3367 5434 364 4043 3750 1087 6808 7276 7178 5788\"\n",
    "arr=list(map(int,a.split()))\n",
    "n=len(arr)\n",
    "stockBuySell(arr,n)"
   ]
  },
  {
   "cell_type": "code",
   "execution_count": 25,
   "id": "e1ff7f87",
   "metadata": {},
   "outputs": [
    {
     "name": "stdout",
     "output_type": "stream",
     "text": [
      "Help on class dict in module builtins:\n",
      "\n",
      "class dict(object)\n",
      " |  dict() -> new empty dictionary\n",
      " |  dict(mapping) -> new dictionary initialized from a mapping object's\n",
      " |      (key, value) pairs\n",
      " |  dict(iterable) -> new dictionary initialized as if via:\n",
      " |      d = {}\n",
      " |      for k, v in iterable:\n",
      " |          d[k] = v\n",
      " |  dict(**kwargs) -> new dictionary initialized with the name=value pairs\n",
      " |      in the keyword argument list.  For example:  dict(one=1, two=2)\n",
      " |  \n",
      " |  Methods defined here:\n",
      " |  \n",
      " |  __contains__(self, key, /)\n",
      " |      True if the dictionary has the specified key, else False.\n",
      " |  \n",
      " |  __delitem__(self, key, /)\n",
      " |      Delete self[key].\n",
      " |  \n",
      " |  __eq__(self, value, /)\n",
      " |      Return self==value.\n",
      " |  \n",
      " |  __ge__(self, value, /)\n",
      " |      Return self>=value.\n",
      " |  \n",
      " |  __getattribute__(self, name, /)\n",
      " |      Return getattr(self, name).\n",
      " |  \n",
      " |  __getitem__(...)\n",
      " |      x.__getitem__(y) <==> x[y]\n",
      " |  \n",
      " |  __gt__(self, value, /)\n",
      " |      Return self>value.\n",
      " |  \n",
      " |  __init__(self, /, *args, **kwargs)\n",
      " |      Initialize self.  See help(type(self)) for accurate signature.\n",
      " |  \n",
      " |  __iter__(self, /)\n",
      " |      Implement iter(self).\n",
      " |  \n",
      " |  __le__(self, value, /)\n",
      " |      Return self<=value.\n",
      " |  \n",
      " |  __len__(self, /)\n",
      " |      Return len(self).\n",
      " |  \n",
      " |  __lt__(self, value, /)\n",
      " |      Return self<value.\n",
      " |  \n",
      " |  __ne__(self, value, /)\n",
      " |      Return self!=value.\n",
      " |  \n",
      " |  __repr__(self, /)\n",
      " |      Return repr(self).\n",
      " |  \n",
      " |  __setitem__(self, key, value, /)\n",
      " |      Set self[key] to value.\n",
      " |  \n",
      " |  __sizeof__(...)\n",
      " |      D.__sizeof__() -> size of D in memory, in bytes\n",
      " |  \n",
      " |  clear(...)\n",
      " |      D.clear() -> None.  Remove all items from D.\n",
      " |  \n",
      " |  copy(...)\n",
      " |      D.copy() -> a shallow copy of D\n",
      " |  \n",
      " |  get(self, key, default=None, /)\n",
      " |      Return the value for key if key is in the dictionary, else default.\n",
      " |  \n",
      " |  items(...)\n",
      " |      D.items() -> a set-like object providing a view on D's items\n",
      " |  \n",
      " |  keys(...)\n",
      " |      D.keys() -> a set-like object providing a view on D's keys\n",
      " |  \n",
      " |  pop(...)\n",
      " |      D.pop(k[,d]) -> v, remove specified key and return the corresponding value.\n",
      " |      If key is not found, d is returned if given, otherwise KeyError is raised\n",
      " |  \n",
      " |  popitem(...)\n",
      " |      D.popitem() -> (k, v), remove and return some (key, value) pair as a\n",
      " |      2-tuple; but raise KeyError if D is empty.\n",
      " |  \n",
      " |  setdefault(self, key, default=None, /)\n",
      " |      Insert key with a value of default if key is not in the dictionary.\n",
      " |      \n",
      " |      Return the value for key if key is in the dictionary, else default.\n",
      " |  \n",
      " |  update(...)\n",
      " |      D.update([E, ]**F) -> None.  Update D from dict/iterable E and F.\n",
      " |      If E is present and has a .keys() method, then does:  for k in E: D[k] = E[k]\n",
      " |      If E is present and lacks a .keys() method, then does:  for k, v in E: D[k] = v\n",
      " |      In either case, this is followed by: for k in F:  D[k] = F[k]\n",
      " |  \n",
      " |  values(...)\n",
      " |      D.values() -> an object providing a view on D's values\n",
      " |  \n",
      " |  ----------------------------------------------------------------------\n",
      " |  Class methods defined here:\n",
      " |  \n",
      " |  fromkeys(iterable, value=None, /) from builtins.type\n",
      " |      Create a new dictionary with keys from iterable and values set to value.\n",
      " |  \n",
      " |  ----------------------------------------------------------------------\n",
      " |  Static methods defined here:\n",
      " |  \n",
      " |  __new__(*args, **kwargs) from builtins.type\n",
      " |      Create and return a new object.  See help(type) for accurate signature.\n",
      " |  \n",
      " |  ----------------------------------------------------------------------\n",
      " |  Data and other attributes defined here:\n",
      " |  \n",
      " |  __hash__ = None\n",
      "\n"
     ]
    }
   ],
   "source": [
    "help(dict)"
   ]
  },
  {
   "cell_type": "code",
   "execution_count": 66,
   "id": "eb9f5ef1",
   "metadata": {},
   "outputs": [],
   "source": [
    "def sorte(arr,n):\n",
    "    min_index=0\n",
    "    max_index=n-1\n",
    "    max_ele=arr[n-1]+1\n",
    "    for i in range(n):\n",
    "        #Storing max element at even place\n",
    "        if(i%2==0):\n",
    "            arr[i] +=(arr[max_index]%max_ele)*max_ele\n",
    "            max_index -=1\n",
    "        else:\n",
    "            arr[i] +=(arr[min_index]%max_ele)*max_ele\n",
    "            min_index +=1\n",
    "        print(arr)\n",
    "    for i in range(n):\n",
    "        arr[i]=arr[i]//max_ele\n",
    "    return arr\n",
    "    \n",
    "        "
   ]
  },
  {
   "cell_type": "code",
   "execution_count": 67,
   "id": "7085588e",
   "metadata": {},
   "outputs": [
    {
     "name": "stdout",
     "output_type": "stream",
     "text": [
      "[31, 2, 3, 4, 5]\n",
      "[31, 8, 3, 4, 5]\n",
      "[31, 8, 27, 4, 5]\n",
      "[31, 8, 27, 16, 5]\n",
      "[31, 8, 27, 16, 23]\n"
     ]
    },
    {
     "data": {
      "text/plain": [
       "[5, 1, 4, 2, 3]"
      ]
     },
     "execution_count": 67,
     "metadata": {},
     "output_type": "execute_result"
    }
   ],
   "source": [
    "n = 5\n",
    "arr= [1,2,3,4,5]\n",
    "sorte(arr,n)"
   ]
  },
  {
   "cell_type": "code",
   "execution_count": 68,
   "id": "f8153b34",
   "metadata": {},
   "outputs": [],
   "source": [
    "#Spiral Matrix\n",
    "def spirallyTraverse(matrix, r, c): \n",
    "    # code here\n",
    "    ans=[]\n",
    "    strt_col=0\n",
    "    strt_row=0\n",
    "    while(strt_row<r and strt_col<c):\n",
    "        for i in range(strt_col,c):\n",
    "            ans.append(matrix[strt_row][i])\n",
    "        strt_row +=1\n",
    "        for i in range(strt_row,r):\n",
    "            ans.append(matrix[i][c-1])\n",
    "        c -=1\n",
    "        if(strt_row<r):\n",
    "            for i in range(c-1,strt_col-1,-1):\n",
    "                ans.append(matrix[r-1][i])\n",
    "            r -=1\n",
    "        if(strt_col<c):\n",
    "            for i in range(r-1,strt_row-1,-1):\n",
    "                ans.append(matrix[i][strt_col])\n",
    "            strt_col +=1\n",
    "\n",
    "\n",
    "    return ans"
   ]
  },
  {
   "cell_type": "code",
   "execution_count": 70,
   "id": "afcc13aa",
   "metadata": {},
   "outputs": [
    {
     "data": {
      "text/plain": [
       "[1, 2, 3, 4, 8, 12, 16, 15, 14, 13, 9, 5, 6, 7, 11, 10]"
      ]
     },
     "execution_count": 70,
     "metadata": {},
     "output_type": "execute_result"
    }
   ],
   "source": [
    "r = 4\n",
    "c = 4\n",
    "matrix = [[1, 2, 3, 4],\n",
    "           [5, 6, 7, 8],\n",
    "           [9, 10, 11, 12],\n",
    "           [13, 14, 15,16]]\n",
    "spirallyTraverse(matrix, r, c)"
   ]
  },
  {
   "cell_type": "code",
   "execution_count": 71,
   "id": "611b4a3b",
   "metadata": {},
   "outputs": [],
   "source": [
    "def arrange(arr, n): \n",
    "    #Your code here\n",
    "    for i in range(n):\n",
    "        arr[i] +=(A[A[i]]%n)*n\n",
    "    for i in range(n):\n",
    "        arr[i]=arr[i]//n\n",
    "    return arr"
   ]
  },
  {
   "cell_type": "code",
   "execution_count": 73,
   "id": "34e2c974",
   "metadata": {},
   "outputs": [
    {
     "data": {
      "text/plain": [
       "[1, 4, 7, 2, 5, 0, 6, 3]"
      ]
     },
     "execution_count": 73,
     "metadata": {},
     "output_type": "execute_result"
    }
   ],
   "source": [
    "n=8\n",
    "arr=[5,0,3,7,1,4,6,2]\n",
    "arrange(arr,n)"
   ]
  },
  {
   "cell_type": "code",
   "execution_count": 89,
   "id": "f9e5cad2",
   "metadata": {},
   "outputs": [],
   "source": [
    "def countTriplets(A):\n",
    "    # Code here\n",
    "    cnt =0\n",
    "    for i in range(1,len(A)-1):\n",
    "        if(A[i]>A[i-1] and A[i]<A[i+1]):\n",
    "            cnt +=1\n",
    "    return cnt"
   ]
  },
  {
   "cell_type": "code",
   "execution_count": 90,
   "id": "de502827",
   "metadata": {},
   "outputs": [
    {
     "data": {
      "text/plain": [
       "2"
      ]
     },
     "execution_count": 90,
     "metadata": {},
     "output_type": "execute_result"
    }
   ],
   "source": [
    "arr = [1, 2, 3, 4]\n",
    "countTriplets(arr)"
   ]
  },
  {
   "cell_type": "code",
   "execution_count": null,
   "id": "1169493e",
   "metadata": {},
   "outputs": [],
   "source": []
  }
 ],
 "metadata": {
  "kernelspec": {
   "display_name": "Python 3 (ipykernel)",
   "language": "python",
   "name": "python3"
  },
  "language_info": {
   "codemirror_mode": {
    "name": "ipython",
    "version": 3
   },
   "file_extension": ".py",
   "mimetype": "text/x-python",
   "name": "python",
   "nbconvert_exporter": "python",
   "pygments_lexer": "ipython3",
   "version": "3.7.7"
  }
 },
 "nbformat": 4,
 "nbformat_minor": 5
}

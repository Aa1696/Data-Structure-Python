{
 "cells": [
  {
   "cell_type": "code",
   "execution_count": 3,
   "id": "b6a07d48",
   "metadata": {},
   "outputs": [],
   "source": [
    "def product(nums):\n",
    "    n=len(nums)\n",
    "    left=[0]*n\n",
    "    left[0]=1\n",
    "    right=[0]*n\n",
    "    right[n-1]=1\n",
    "    ans=[0]*n\n",
    "    for i in range(1,n):\n",
    "        left[i]=left[i-1]*nums[i-1]\n",
    "        right[n-i-1]=right[n-i]*nums[n-i]\n",
    "    for i in range(n):\n",
    "        ans[i]=left[i]*right[i]\n",
    "    return ans\n",
    "    \n",
    "        \n",
    "    \n",
    "    \n"
   ]
  },
  {
   "cell_type": "code",
   "execution_count": 4,
   "id": "6c83eee1",
   "metadata": {},
   "outputs": [
    {
     "data": {
      "text/plain": [
       "[24, 12, 8, 6]"
      ]
     },
     "execution_count": 4,
     "metadata": {},
     "output_type": "execute_result"
    }
   ],
   "source": [
    "A=[1,2,3,4]\n",
    "product(A)"
   ]
  },
  {
   "cell_type": "code",
   "execution_count": null,
   "id": "7b6a96dd",
   "metadata": {},
   "outputs": [],
   "source": []
  }
 ],
 "metadata": {
  "kernelspec": {
   "display_name": "Python 3 (ipykernel)",
   "language": "python",
   "name": "python3"
  },
  "language_info": {
   "codemirror_mode": {
    "name": "ipython",
    "version": 3
   },
   "file_extension": ".py",
   "mimetype": "text/x-python",
   "name": "python",
   "nbconvert_exporter": "python",
   "pygments_lexer": "ipython3",
   "version": "3.7.7"
  }
 },
 "nbformat": 4,
 "nbformat_minor": 5
}

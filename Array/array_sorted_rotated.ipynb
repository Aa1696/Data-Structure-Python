{
 "cells": [
  {
   "cell_type": "code",
   "execution_count": 10,
   "id": "c34f5293",
   "metadata": {},
   "outputs": [],
   "source": [
    "def checkRotatedAndSorted(arr,n):\n",
    "        #code here \n",
    "        diversion=0\n",
    "        sort=0\n",
    "        for i in range(n-1):\n",
    "            if(arr[i]>arr[i+1]):\n",
    "                diversion +=1\n",
    "#                 print(\"diversion:\",diversion)\n",
    "            else:\n",
    "                sort +=1\n",
    "#                 print(\"sort:\",sort)\n",
    "        if(diversion==1):\n",
    "            if(arr[n-1]<arr[0]):\n",
    "                sort +=1\n",
    "#                 print(\"sort:\",sort)\n",
    "            else:\n",
    "                diversion +=1\n",
    "#                 print(\"diversion:\",diversion)\n",
    "#             print(\"diversion:\",diversion)\n",
    "            if(diversion==1):\n",
    "                print(True)\n",
    "        else:\n",
    "            print(False)"
   ]
  },
  {
   "cell_type": "code",
   "execution_count": 11,
   "id": "9249fe2d",
   "metadata": {},
   "outputs": [],
   "source": [
    "arr=[3,14,10]\n",
    "checkRotatedAndSorted(arr,len(arr))"
   ]
  },
  {
   "cell_type": "code",
   "execution_count": null,
   "id": "928ecc55",
   "metadata": {},
   "outputs": [],
   "source": []
  }
 ],
 "metadata": {
  "kernelspec": {
   "display_name": "Python 3 (ipykernel)",
   "language": "python",
   "name": "python3"
  },
  "language_info": {
   "codemirror_mode": {
    "name": "ipython",
    "version": 3
   },
   "file_extension": ".py",
   "mimetype": "text/x-python",
   "name": "python",
   "nbconvert_exporter": "python",
   "pygments_lexer": "ipython3",
   "version": "3.7.7"
  }
 },
 "nbformat": 4,
 "nbformat_minor": 5
}

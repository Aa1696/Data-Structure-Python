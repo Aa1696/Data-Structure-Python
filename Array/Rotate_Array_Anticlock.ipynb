{
 "cells": [
  {
   "cell_type": "code",
   "execution_count": 5,
   "id": "ec82e8b6",
   "metadata": {},
   "outputs": [],
   "source": [
    "def anticlock(A,n,d):\n",
    "    left=0\n",
    "    right=d\n",
    "    while(left<=d-1 and right<2*d):\n",
    "        A[left],A[right]=A[right],A[left]\n",
    "        left +=1\n",
    "        right +=1\n",
    "    return A"
   ]
  },
  {
   "cell_type": "code",
   "execution_count": 6,
   "id": "ab699ad9",
   "metadata": {},
   "outputs": [
    {
     "data": {
      "text/plain": [
       "[3, 4, 1, 2, 5]"
      ]
     },
     "execution_count": 6,
     "metadata": {},
     "output_type": "execute_result"
    }
   ],
   "source": [
    "n=5\n",
    "d=2\n",
    "arr=[1,2,3,4,5]\n",
    "anticlock(arr,n,d)"
   ]
  },
  {
   "cell_type": "code",
   "execution_count": 17,
   "id": "84b19d20",
   "metadata": {},
   "outputs": [],
   "source": [
    "import math\n",
    "def rotateArr(A,D,N):\n",
    "    #Your code here\n",
    "    d=D%N\n",
    "    n=N\n",
    "    gcd=math.gcd(d,n)\n",
    "    for i in range(gcd):\n",
    "        j=i\n",
    "        tmp=A[i]\n",
    "        while(True):\n",
    "            k=j+d\n",
    "            print(\"j\",j)\n",
    "            print(\"K:\",k)\n",
    "            if(k>=n):\n",
    "                k=k-n\n",
    "            if(k==i):\n",
    "                print(\"break\",k)\n",
    "                break\n",
    "            print(\"K:\",k)\n",
    "            A[j]=A[k]\n",
    "            print(\"A\",A)\n",
    "            j=k\n",
    "            print(\"j\",j)\n",
    "        A[j]=tmp\n",
    "        print(\"A\",A)\n",
    "    return A"
   ]
  },
  {
   "cell_type": "code",
   "execution_count": 18,
   "id": "bc5df191",
   "metadata": {},
   "outputs": [
    {
     "name": "stdout",
     "output_type": "stream",
     "text": [
      "j 0\n",
      "K: 2\n",
      "K: 2\n",
      "A [3, 2, 3, 4, 5]\n",
      "j 2\n",
      "j 2\n",
      "K: 4\n",
      "K: 4\n",
      "A [3, 2, 5, 4, 5]\n",
      "j 4\n",
      "j 4\n",
      "K: 6\n",
      "K: 1\n",
      "A [3, 2, 5, 4, 2]\n",
      "j 1\n",
      "j 1\n",
      "K: 3\n",
      "K: 3\n",
      "A [3, 4, 5, 4, 2]\n",
      "j 3\n",
      "j 3\n",
      "K: 5\n",
      "break 0\n",
      "A [3, 4, 5, 1, 2]\n"
     ]
    },
    {
     "data": {
      "text/plain": [
       "[3, 4, 5, 1, 2]"
      ]
     },
     "execution_count": 18,
     "metadata": {},
     "output_type": "execute_result"
    }
   ],
   "source": [
    "d=2\n",
    "n=5\n",
    "arr=[1,2,3,4,5]\n",
    "rotateArr(arr,d,n)"
   ]
  },
  {
   "cell_type": "code",
   "execution_count": null,
   "id": "41fc7fef",
   "metadata": {},
   "outputs": [],
   "source": []
  }
 ],
 "metadata": {
  "kernelspec": {
   "display_name": "Python 3 (ipykernel)",
   "language": "python",
   "name": "python3"
  },
  "language_info": {
   "codemirror_mode": {
    "name": "ipython",
    "version": 3
   },
   "file_extension": ".py",
   "mimetype": "text/x-python",
   "name": "python",
   "nbconvert_exporter": "python",
   "pygments_lexer": "ipython3",
   "version": "3.7.7"
  }
 },
 "nbformat": 4,
 "nbformat_minor": 5
}

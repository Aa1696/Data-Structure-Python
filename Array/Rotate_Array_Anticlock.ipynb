{
 "cells": [
  {
   "cell_type": "code",
   "execution_count": 25,
   "id": "28948080",
   "metadata": {},
   "outputs": [],
   "source": [
    "def reverse(A,n,d):\n",
    "    left=n\n",
    "    right=d-1\n",
    "    while(left< right):\n",
    "        A[left],A[right]=A[right],A[left]\n",
    "        left +=1\n",
    "        right -=1\n",
    "    return A"
   ]
  },
  {
   "cell_type": "code",
   "execution_count": 23,
   "id": "fab0f756",
   "metadata": {},
   "outputs": [],
   "source": [
    "import math\n",
    "def rotateArr(A,D,N):\n",
    "    #Your code here\n",
    "    d=D%N\n",
    "    n=N\n",
    "    gcd=math.gcd(d,n)\n",
    "    for i in range(gcd):\n",
    "        print(\"i\",i)\n",
    "        j=i\n",
    "        tmp=A[i]\n",
    "        while(True):\n",
    "            print(\"i\",i)\n",
    "            k=j+d\n",
    "            print(\"j\",j)\n",
    "            print(\"K:\",k)\n",
    "            if(k>=n):\n",
    "                k=k-n\n",
    "            if(k==i):\n",
    "                print(\"break\",k)\n",
    "                break\n",
    "            print(\"K:\",k)\n",
    "            A[j]=A[k]\n",
    "            print(\"A\",A)\n",
    "            j=k\n",
    "            print(\"j\",j)\n",
    "        A[j]=tmp\n",
    "        print(\"A\",A)\n",
    "    return A"
   ]
  },
  {
   "cell_type": "code",
   "execution_count": 24,
   "id": "acd6fc26",
   "metadata": {},
   "outputs": [
    {
     "name": "stdout",
     "output_type": "stream",
     "text": [
      "i 0\n",
      "i 0\n",
      "j 0\n",
      "K: 3\n",
      "K: 3\n",
      "A [8, 4, 6, 8, 10, 12, 14, 16, 18, 20]\n",
      "j 3\n",
      "i 0\n",
      "j 3\n",
      "K: 6\n",
      "K: 6\n",
      "A [8, 4, 6, 14, 10, 12, 14, 16, 18, 20]\n",
      "j 6\n",
      "i 0\n",
      "j 6\n",
      "K: 9\n",
      "K: 9\n",
      "A [8, 4, 6, 14, 10, 12, 20, 16, 18, 20]\n",
      "j 9\n",
      "i 0\n",
      "j 9\n",
      "K: 12\n",
      "K: 2\n",
      "A [8, 4, 6, 14, 10, 12, 20, 16, 18, 6]\n",
      "j 2\n",
      "i 0\n",
      "j 2\n",
      "K: 5\n",
      "K: 5\n",
      "A [8, 4, 12, 14, 10, 12, 20, 16, 18, 6]\n",
      "j 5\n",
      "i 0\n",
      "j 5\n",
      "K: 8\n",
      "K: 8\n",
      "A [8, 4, 12, 14, 10, 18, 20, 16, 18, 6]\n",
      "j 8\n",
      "i 0\n",
      "j 8\n",
      "K: 11\n",
      "K: 1\n",
      "A [8, 4, 12, 14, 10, 18, 20, 16, 4, 6]\n",
      "j 1\n",
      "i 0\n",
      "j 1\n",
      "K: 4\n",
      "K: 4\n",
      "A [8, 10, 12, 14, 10, 18, 20, 16, 4, 6]\n",
      "j 4\n",
      "i 0\n",
      "j 4\n",
      "K: 7\n",
      "K: 7\n",
      "A [8, 10, 12, 14, 16, 18, 20, 16, 4, 6]\n",
      "j 7\n",
      "i 0\n",
      "j 7\n",
      "K: 10\n",
      "break 0\n",
      "A [8, 10, 12, 14, 16, 18, 20, 2, 4, 6]\n"
     ]
    },
    {
     "data": {
      "text/plain": [
       "[8, 10, 12, 14, 16, 18, 20, 2, 4, 6]"
      ]
     },
     "execution_count": 24,
     "metadata": {},
     "output_type": "execute_result"
    }
   ],
   "source": [
    "d=3\n",
    "n=10\n",
    "arr=[2,4,6,8,10,12,14,16,18,20]\n",
    "rotateArr(arr,d,n)"
   ]
  },
  {
   "cell_type": "code",
   "execution_count": 26,
   "id": "524c5f56",
   "metadata": {},
   "outputs": [],
   "source": [
    "def rotate(arr,n,d):\n",
    "    reverse(arr,0,d)\n",
    "    reverse(arr,d,n)\n",
    "    reverse(arr,0,n)\n",
    "    return arr\n",
    "    \n",
    "    "
   ]
  },
  {
   "cell_type": "code",
   "execution_count": 27,
   "id": "2b0083bd",
   "metadata": {},
   "outputs": [
    {
     "data": {
      "text/plain": [
       "[8, 10, 12, 14, 16, 18, 20, 2, 4, 6]"
      ]
     },
     "execution_count": 27,
     "metadata": {},
     "output_type": "execute_result"
    }
   ],
   "source": [
    "d=3\n",
    "n=10\n",
    "arr=[2,4,6,8,10,12,14,16,18,20]\n",
    "rotate(arr,n,d)"
   ]
  },
  {
   "cell_type": "code",
   "execution_count": null,
   "id": "99a919c3",
   "metadata": {},
   "outputs": [],
   "source": [
    "p0"
   ]
  }
 ],
 "metadata": {
  "kernelspec": {
   "display_name": "Python 3 (ipykernel)",
   "language": "python",
   "name": "python3"
  },
  "language_info": {
   "codemirror_mode": {
    "name": "ipython",
    "version": 3
   },
   "file_extension": ".py",
   "mimetype": "text/x-python",
   "name": "python",
   "nbconvert_exporter": "python",
   "pygments_lexer": "ipython3",
   "version": "3.7.7"
  }
 },
 "nbformat": 4,
 "nbformat_minor": 5
}

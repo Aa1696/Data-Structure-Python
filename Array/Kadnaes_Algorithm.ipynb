{
 "cells": [
  {
   "cell_type": "code",
   "execution_count": 51,
   "id": "baf81c53",
   "metadata": {},
   "outputs": [],
   "source": [
    "def kadanes(arr,N):\n",
    "    curr_sum=arr[0]\n",
    "    arr_sum=sum(arr)\n",
    "    print(\"i:\",0,\"Curr_sum:\",curr_sum,\"arr_sum:\",arr_sum)\n",
    "    for i in range(1,N):\n",
    "        if(curr_sum<=arr_sum):\n",
    "            if(curr_sum<0):\n",
    "                curr_sum =arr[i]\n",
    "            else:\n",
    "                curr_sum +=arr[i]\n",
    "        else:\n",
    "            arr_sum=curr_sum\n",
    "            if(curr_sum>0):\n",
    "                curr_sum +=arr[i]\n",
    "#             if(curr_sum<arr[i]):\n",
    "#                 curr_sum =arr[i]\n",
    "        print(\"i:\",i,\"Curr_sum:\",curr_sum,\"arr_sum:\",arr_sum)\n",
    "    if(arr_sum>curr_sum):\n",
    "        return arr_sum\n",
    "    \n",
    "    return curr_sum"
   ]
  },
  {
   "cell_type": "code",
   "execution_count": 54,
   "id": "b52e816e",
   "metadata": {},
   "outputs": [
    {
     "name": "stdout",
     "output_type": "stream",
     "text": [
      "[3, -1, 4, -2, 7]\n",
      "i: 0 Curr_sum: 3 arr_sum: 11\n",
      "i: 1 Curr_sum: 2 arr_sum: 11\n",
      "i: 2 Curr_sum: 6 arr_sum: 11\n",
      "i: 3 Curr_sum: 4 arr_sum: 11\n",
      "i: 4 Curr_sum: 11 arr_sum: 11\n"
     ]
    },
    {
     "data": {
      "text/plain": [
       "11"
      ]
     },
     "execution_count": 54,
     "metadata": {},
     "output_type": "execute_result"
    }
   ],
   "source": [
    "B=\"3 -1 4 -2 7\"\n",
    "C=list(map(int,B.split(\" \")))\n",
    "print(C)\n",
    "A=C\n",
    "\n",
    "kadanes(A,len(A))"
   ]
  },
  {
   "cell_type": "code",
   "execution_count": 76,
   "id": "98ecb306",
   "metadata": {},
   "outputs": [],
   "source": [
    "def subArraySum(arr, n, s): \n",
    "    curr_sum=0\n",
    "    start=0\n",
    "    end=0\n",
    "    while(start<=end ):\n",
    "        if(curr_sum==s):\n",
    "            return [start+1,end]\n",
    "        elif(curr_sum<s):\n",
    "            if(end==n):\n",
    "                return [-1]\n",
    "            curr_sum +=arr[end]\n",
    "            end +=1\n",
    "        else:\n",
    "            curr_sum=curr_sum-arr[start]\n",
    "            start +=1\n",
    "        print(\"start:\",start,\"end:\",end,\"curr\",curr_sum)\n",
    "    return [-1]"
   ]
  },
  {
   "cell_type": "code",
   "execution_count": 77,
   "id": "869d3fb5",
   "metadata": {},
   "outputs": [
    {
     "name": "stdout",
     "output_type": "stream",
     "text": [
      "start: 0 end: 1 curr 1\n",
      "start: 0 end: 2 curr 3\n",
      "start: 0 end: 3 curr 6\n",
      "start: 0 end: 4 curr 1006\n",
      "start: 1 end: 4 curr 1005\n",
      "start: 2 end: 4 curr 1003\n",
      "start: 3 end: 4 curr 1000\n",
      "start: 4 end: 4 curr 0\n",
      "start: 4 end: 5 curr 7\n"
     ]
    },
    {
     "data": {
      "text/plain": [
       "[5, 5]"
      ]
     },
     "execution_count": 77,
     "metadata": {},
     "output_type": "execute_result"
    }
   ],
   "source": [
    "A=[1 ,2 ,3 ,1000 ,7]\n",
    "subArraySum(A,len(A),7)"
   ]
  },
  {
   "cell_type": "code",
   "execution_count": null,
   "id": "6f3b96aa",
   "metadata": {},
   "outputs": [],
   "source": []
  }
 ],
 "metadata": {
  "kernelspec": {
   "display_name": "Python 3 (ipykernel)",
   "language": "python",
   "name": "python3"
  },
  "language_info": {
   "codemirror_mode": {
    "name": "ipython",
    "version": 3
   },
   "file_extension": ".py",
   "mimetype": "text/x-python",
   "name": "python",
   "nbconvert_exporter": "python",
   "pygments_lexer": "ipython3",
   "version": "3.7.7"
  }
 },
 "nbformat": 4,
 "nbformat_minor": 5
}

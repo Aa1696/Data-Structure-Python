{
 "cells": [
  {
   "cell_type": "code",
   "execution_count": 3,
   "id": "de7fcaff",
   "metadata": {},
   "outputs": [],
   "source": [
    "def max1(arr):\n",
    "    indx=0\n",
    "    for i in range(1,len(arr)):\n",
    "        if(arr[i]>arr[indx]):\n",
    "            indx=i\n",
    "    return [indx,arr[indx]]"
   ]
  },
  {
   "cell_type": "code",
   "execution_count": 4,
   "id": "abe9341d",
   "metadata": {},
   "outputs": [
    {
     "data": {
      "text/plain": [
       "[9, 20]"
      ]
     },
     "execution_count": 4,
     "metadata": {},
     "output_type": "execute_result"
    }
   ],
   "source": [
    "arr=[2,4,6,8,10,12,14,16,18,20]\n",
    "max1(arr)"
   ]
  },
  {
   "cell_type": "code",
   "execution_count": 9,
   "id": "85c9f51a",
   "metadata": {},
   "outputs": [],
   "source": [
    "def Second_Largest(arr):\n",
    "    res=-1\n",
    "    largest=0\n",
    "    for i in range(1,len(arr)):\n",
    "        if(arr[i]>arr[largest]):\n",
    "            res=largest\n",
    "            largest=i\n",
    "        elif(arr[i] != arr[largest]):\n",
    "            if(res==-1 or arr[res]>arr[i]):\n",
    "                res=i\n",
    "    return [arr[res],arr[largest]]\n",
    "            \n",
    "            "
   ]
  },
  {
   "cell_type": "code",
   "execution_count": 10,
   "id": "640ea344",
   "metadata": {},
   "outputs": [
    {
     "data": {
      "text/plain": [
       "[18, 20]"
      ]
     },
     "execution_count": 10,
     "metadata": {},
     "output_type": "execute_result"
    }
   ],
   "source": [
    "arr=[2,4,6,8,10,12,14,16,18,20]\n",
    "Second_Largest(arr)"
   ]
  },
  {
   "cell_type": "code",
   "execution_count": 11,
   "id": "337d2c45",
   "metadata": {},
   "outputs": [],
   "source": [
    "def minAdjDiff(arr, n):\n",
    "    ##Your code here\n",
    "    trgt_dif=abs(arr[1]-arr[0])\n",
    "    for i in range(2,n):\n",
    "        tmp=abs(arr[i]-arr[i-1])\n",
    "        if(tmp<trgt_dif):\n",
    "            trgt_dif=tmp\n",
    "    return tmp"
   ]
  },
  {
   "cell_type": "code",
   "execution_count": null,
   "id": "408bcd7c",
   "metadata": {},
   "outputs": [],
   "source": [
    "n = 7\n",
    "arr = [8,-8,9,-9,10,-11,12]\n"
   ]
  }
 ],
 "metadata": {
  "kernelspec": {
   "display_name": "Python 3 (ipykernel)",
   "language": "python",
   "name": "python3"
  },
  "language_info": {
   "codemirror_mode": {
    "name": "ipython",
    "version": 3
   },
   "file_extension": ".py",
   "mimetype": "text/x-python",
   "name": "python",
   "nbconvert_exporter": "python",
   "pygments_lexer": "ipython3",
   "version": "3.7.7"
  }
 },
 "nbformat": 4,
 "nbformat_minor": 5
}

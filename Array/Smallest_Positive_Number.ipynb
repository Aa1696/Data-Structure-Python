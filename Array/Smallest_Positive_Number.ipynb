{
 "cells": [
  {
   "cell_type": "code",
   "execution_count": 49,
   "id": "ce390f29",
   "metadata": {},
   "outputs": [],
   "source": [
    "def missingNumber(arr,n):\n",
    "        cnt=0\n",
    "        for i in range(n):\n",
    "            if(arr[i]==1):\n",
    "                cnt=1\n",
    "                break\n",
    "        if(cnt==0):\n",
    "            return 1\n",
    "        for i in range(n):\n",
    "            if(arr[i]<=0 or arr[i]>n):\n",
    "                arr[i]=1\n",
    "        print(arr)\n",
    "            \n",
    "        #update the array using hashing as the element is smaller than equal to size of the array\n",
    "        for i in range(n):\n",
    "            k=(arr[i]-1)%n\n",
    "            print(\"i:{},k:{}\".format(i,k))\n",
    "\n",
    "            arr[(arr[i]-1)%n] +=n\n",
    "            print(arr)\n",
    "                \n",
    "        #return the element whose index is  i.e i+1\n",
    "        for i in range(n):\n",
    "            if(arr[i] <=n):\n",
    "                return i+1\n",
    "        return n+1"
   ]
  },
  {
   "cell_type": "code",
   "execution_count": 51,
   "id": "a3a2efcc",
   "metadata": {},
   "outputs": [
    {
     "name": "stdout",
     "output_type": "stream",
     "text": [
      "[1, 1, 1, 3, 1]\n",
      "i:0,k:0\n",
      "[6, 1, 1, 3, 1]\n",
      "i:1,k:0\n",
      "[11, 1, 1, 3, 1]\n",
      "i:2,k:0\n",
      "[16, 1, 1, 3, 1]\n",
      "i:3,k:2\n",
      "[16, 1, 6, 3, 1]\n",
      "i:4,k:0\n",
      "[21, 1, 6, 3, 1]\n"
     ]
    },
    {
     "data": {
      "text/plain": [
       "[21, 1, 6, 3, 1]"
      ]
     },
     "execution_count": 51,
     "metadata": {},
     "output_type": "execute_result"
    }
   ],
   "source": [
    "a=\"-25 38 24 -17 7 31 43 8 20 49 -33 -11 19 13 -28 44 23 -3 -19 12 32 40 42 41 7 -35 -29 7 24 41 -3 1 -19 -29 -13 -10 4 -20 48\"\n",
    "arr=list(map(int,a.split()))\n",
    "arr1=[0,-10,1,3,-20]\n",
    "n=len(arr1)\n",
    "missingNumber(arr1,n)\n",
    "arr1\n",
    "\n"
   ]
  },
  {
   "cell_type": "code",
   "execution_count": null,
   "id": "6e3182e7",
   "metadata": {},
   "outputs": [],
   "source": [
    "n= len(arr)\n",
    "for i in range(n):\n",
    "    mod=arr[i]%(n+1)\n",
    "    arr[mod-1],arr[i]=arr[i],arr[mod-1]\n",
    "print(arr)"
   ]
  },
  {
   "cell_type": "code",
   "execution_count": 54,
   "id": "765e225b",
   "metadata": {},
   "outputs": [
    {
     "data": {
      "text/plain": [
       "2"
      ]
     },
     "execution_count": 54,
     "metadata": {},
     "output_type": "execute_result"
    }
   ],
   "source": [
    "6&-5 or 1"
   ]
  },
  {
   "cell_type": "code",
   "execution_count": 57,
   "id": "4a4c1a66",
   "metadata": {},
   "outputs": [
    {
     "data": {
      "text/plain": [
       "'    addeginnooosssttuu'"
      ]
     },
     "execution_count": 57,
     "metadata": {},
     "output_type": "execute_result"
    }
   ],
   "source": [
    "a=\"sonu is a good student\"\n",
    "ar=a.split()\n",
    "\n",
    "ar1=\"\".join(sorted(a))\n",
    "ar1"
   ]
  },
  {
   "cell_type": "code",
   "execution_count": 56,
   "id": "c3ad70ae",
   "metadata": {},
   "outputs": [
    {
     "name": "stdout",
     "output_type": "stream",
     "text": [
      "s\n",
      "o\n",
      "n\n",
      "u\n",
      " \n",
      "i\n",
      "s\n",
      " \n",
      "a\n",
      " \n",
      "g\n",
      "o\n",
      "o\n",
      "d\n",
      " \n",
      "s\n",
      "t\n",
      "u\n",
      "d\n",
      "e\n",
      "n\n",
      "t\n"
     ]
    }
   ],
   "source": [
    "for i in a:\n",
    "    print(i)"
   ]
  },
  {
   "cell_type": "code",
   "execution_count": 86,
   "id": "ceaf3854",
   "metadata": {},
   "outputs": [],
   "source": [
    "import math\n",
    "def isSumOfTwo (N):\n",
    "    # code here\n",
    "    def isPrime(num):\n",
    "        if(num<2):\n",
    "            return False\n",
    "        for i in range(2,int(math.sqrt(num))+1):\n",
    "            if(num%i==0):\n",
    "                return False\n",
    "        return True\n",
    "\n",
    "\n",
    "    if(isPrime(N-2)):\n",
    "        return \"Yes\"\n",
    "    else:\n",
    "        for i in range(2,N):\n",
    "            trgt=0\n",
    "            if(isPrime(i)):\n",
    "                print(\"i=\",i)\n",
    "                trgt=N-i\n",
    "                print(\"trgt=\",trgt)\n",
    "            if(isPrime(trgt)):\n",
    "                return \"Yes\"\n",
    "        return \"No\""
   ]
  },
  {
   "cell_type": "code",
   "execution_count": 88,
   "id": "0676bce1",
   "metadata": {},
   "outputs": [
    {
     "name": "stdout",
     "output_type": "stream",
     "text": [
      "i= 2\n",
      "trgt= 34\n",
      "i= 3\n",
      "trgt= 33\n",
      "i= 5\n",
      "trgt= 31\n"
     ]
    },
    {
     "data": {
      "text/plain": [
       "'Yes'"
      ]
     },
     "execution_count": 88,
     "metadata": {},
     "output_type": "execute_result"
    }
   ],
   "source": [
    "isSumOfTwo(36)"
   ]
  },
  {
   "cell_type": "code",
   "execution_count": 76,
   "id": "80da7e1f",
   "metadata": {},
   "outputs": [],
   "source": [
    "def isPrime(num):\n",
    "    if(num<2):\n",
    "        return False\n",
    "    for i in range(2,int(math.sqrt(num))+1):\n",
    "        if(num%i==0):\n",
    "            return False\n",
    "    return True"
   ]
  },
  {
   "cell_type": "code",
   "execution_count": 85,
   "id": "508e8b38",
   "metadata": {},
   "outputs": [
    {
     "data": {
      "text/plain": [
       "False"
      ]
     },
     "execution_count": 85,
     "metadata": {},
     "output_type": "execute_result"
    }
   ],
   "source": [
    "isPrime(6)"
   ]
  },
  {
   "cell_type": "code",
   "execution_count": 82,
   "id": "6d617649",
   "metadata": {},
   "outputs": [],
   "source": [
    "for i in range(2,6971):\n",
    "    if(6971%i==0):\n",
    "        print(i)"
   ]
  },
  {
   "cell_type": "code",
   "execution_count": 93,
   "id": "2afdd359",
   "metadata": {},
   "outputs": [],
   "source": [
    "for i in range(1,1):\n",
    "    print(i)"
   ]
  },
  {
   "cell_type": "code",
   "execution_count": 94,
   "id": "b1d01141",
   "metadata": {},
   "outputs": [
    {
     "name": "stdout",
     "output_type": "stream",
     "text": [
      "0\n"
     ]
    }
   ],
   "source": [
    "print(0&0)"
   ]
  },
  {
   "cell_type": "code",
   "execution_count": 98,
   "id": "138adef2",
   "metadata": {},
   "outputs": [
    {
     "name": "stdout",
     "output_type": "stream",
     "text": [
      "1\n"
     ]
    }
   ],
   "source": [
    "print(int(\"1\"))"
   ]
  },
  {
   "cell_type": "code",
   "execution_count": null,
   "id": "984ca0a7",
   "metadata": {},
   "outputs": [],
   "source": []
  }
 ],
 "metadata": {
  "kernelspec": {
   "display_name": "Python 3 (ipykernel)",
   "language": "python",
   "name": "python3"
  },
  "language_info": {
   "codemirror_mode": {
    "name": "ipython",
    "version": 3
   },
   "file_extension": ".py",
   "mimetype": "text/x-python",
   "name": "python",
   "nbconvert_exporter": "python",
   "pygments_lexer": "ipython3",
   "version": "3.7.7"
  }
 },
 "nbformat": 4,
 "nbformat_minor": 5
}

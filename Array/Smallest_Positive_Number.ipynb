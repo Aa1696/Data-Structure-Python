{
 "cells": [
  {
   "cell_type": "code",
   "execution_count": 49,
   "id": "1e594fe1",
   "metadata": {},
   "outputs": [],
   "source": [
    "def missingNumber(arr,n):\n",
    "        cnt=0\n",
    "        for i in range(n):\n",
    "            if(arr[i]==1):\n",
    "                cnt=1\n",
    "                break\n",
    "        if(cnt==0):\n",
    "            return 1\n",
    "        for i in range(n):\n",
    "            if(arr[i]<=0 or arr[i]>n):\n",
    "                arr[i]=1\n",
    "        print(arr)\n",
    "            \n",
    "        #update the array using hashing as the element is smaller than equal to size of the array\n",
    "        for i in range(n):\n",
    "            k=(arr[i]-1)%n\n",
    "            print(\"i:{},k:{}\".format(i,k))\n",
    "\n",
    "            arr[(arr[i]-1)%n] +=n\n",
    "            print(arr)\n",
    "                \n",
    "        #return the element whose index is  i.e i+1\n",
    "        for i in range(n):\n",
    "            if(arr[i] <=n):\n",
    "                return i+1\n",
    "        return n+1"
   ]
  },
  {
   "cell_type": "code",
   "execution_count": 51,
   "id": "05cb3744",
   "metadata": {},
   "outputs": [
    {
     "name": "stdout",
     "output_type": "stream",
     "text": [
      "[1, 1, 1, 3, 1]\n",
      "i:0,k:0\n",
      "[6, 1, 1, 3, 1]\n",
      "i:1,k:0\n",
      "[11, 1, 1, 3, 1]\n",
      "i:2,k:0\n",
      "[16, 1, 1, 3, 1]\n",
      "i:3,k:2\n",
      "[16, 1, 6, 3, 1]\n",
      "i:4,k:0\n",
      "[21, 1, 6, 3, 1]\n"
     ]
    },
    {
     "data": {
      "text/plain": [
       "[21, 1, 6, 3, 1]"
      ]
     },
     "execution_count": 51,
     "metadata": {},
     "output_type": "execute_result"
    }
   ],
   "source": [
    "a=\"-25 38 24 -17 7 31 43 8 20 49 -33 -11 19 13 -28 44 23 -3 -19 12 32 40 42 41 7 -35 -29 7 24 41 -3 1 -19 -29 -13 -10 4 -20 48\"\n",
    "arr=list(map(int,a.split()))\n",
    "arr1=[0,-10,1,3,-20]\n",
    "n=len(arr1)\n",
    "missingNumber(arr1,n)\n",
    "arr1\n",
    "\n"
   ]
  },
  {
   "cell_type": "code",
   "execution_count": null,
   "id": "db890331",
   "metadata": {},
   "outputs": [],
   "source": [
    "n= len(arr)\n",
    "for i in range(n):\n",
    "    mod=arr[i]%(n+1)\n",
    "    arr[mod-1],arr[i]=arr[i],arr[mod-1]\n",
    "print(arr)"
   ]
  },
  {
   "cell_type": "code",
   "execution_count": 54,
   "id": "ec0a4123",
   "metadata": {},
   "outputs": [
    {
     "data": {
      "text/plain": [
       "2"
      ]
     },
     "execution_count": 54,
     "metadata": {},
     "output_type": "execute_result"
    }
   ],
   "source": [
    "6&-5 or 1"
   ]
  },
  {
   "cell_type": "code",
   "execution_count": 57,
   "id": "0738a32e",
   "metadata": {},
   "outputs": [
    {
     "data": {
      "text/plain": [
       "'    addeginnooosssttuu'"
      ]
     },
     "execution_count": 57,
     "metadata": {},
     "output_type": "execute_result"
    }
   ],
   "source": [
    "a=\"sonu is a good student\"\n",
    "ar=a.split()\n",
    "\n",
    "ar1=\"\".join(sorted(a))\n",
    "ar1"
   ]
  },
  {
   "cell_type": "code",
   "execution_count": 56,
   "id": "b61b7878",
   "metadata": {},
   "outputs": [
    {
     "name": "stdout",
     "output_type": "stream",
     "text": [
      "s\n",
      "o\n",
      "n\n",
      "u\n",
      " \n",
      "i\n",
      "s\n",
      " \n",
      "a\n",
      " \n",
      "g\n",
      "o\n",
      "o\n",
      "d\n",
      " \n",
      "s\n",
      "t\n",
      "u\n",
      "d\n",
      "e\n",
      "n\n",
      "t\n"
     ]
    }
   ],
   "source": [
    "for i in a:\n",
    "    print(i)"
   ]
  },
  {
   "cell_type": "code",
   "execution_count": null,
   "id": "d7644824",
   "metadata": {},
   "outputs": [],
   "source": []
  }
 ],
 "metadata": {
  "kernelspec": {
   "display_name": "Python 3 (ipykernel)",
   "language": "python",
   "name": "python3"
  },
  "language_info": {
   "codemirror_mode": {
    "name": "ipython",
    "version": 3
   },
   "file_extension": ".py",
   "mimetype": "text/x-python",
   "name": "python",
   "nbconvert_exporter": "python",
   "pygments_lexer": "ipython3",
   "version": "3.7.7"
  }
 },
 "nbformat": 4,
 "nbformat_minor": 5
}

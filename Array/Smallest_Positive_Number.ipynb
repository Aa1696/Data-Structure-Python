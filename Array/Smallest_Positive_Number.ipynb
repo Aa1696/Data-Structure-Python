{
 "cells": [
  {
   "cell_type": "code",
   "execution_count": 36,
   "id": "9290e385",
   "metadata": {},
   "outputs": [],
   "source": [
    "def missingNumber(arr,n):\n",
    "        cnt=0\n",
    "        for i in range(n):\n",
    "            if(arr[i]==1):\n",
    "                cnt=1\n",
    "                break\n",
    "        if(cnt==0):\n",
    "            return 1\n",
    "        for i in range(n):\n",
    "            if(arr[i]<=0 or arr[i]>n):\n",
    "                arr[i]=1\n",
    "            \n",
    "        #update the array using hashing as the element is smaller than equal to size of the array\n",
    "        for i in range(n):\n",
    "            arr[(arr[i]-1)%n] +=n\n",
    "                \n",
    "        #return the element whose index is  i.e i+1\n",
    "        for i in range(n):\n",
    "            if(arr[i] <=n):\n",
    "                return i+1\n",
    "        return n+1"
   ]
  },
  {
   "cell_type": "code",
   "execution_count": 38,
   "id": "84934544",
   "metadata": {},
   "outputs": [
    {
     "data": {
      "text/plain": [
       "[937,\n",
       " 38,\n",
       " 24,\n",
       " 40,\n",
       " 7,\n",
       " 31,\n",
       " 118,\n",
       " 47,\n",
       " 20,\n",
       " 1,\n",
       " 1,\n",
       " 40,\n",
       " 58,\n",
       " 13,\n",
       " 1,\n",
       " 1,\n",
       " 23,\n",
       " 1,\n",
       " 40,\n",
       " 51,\n",
       " 32,\n",
       " 1,\n",
       " 40,\n",
       " 79,\n",
       " 7,\n",
       " 1,\n",
       " 1,\n",
       " 7,\n",
       " 24,\n",
       " 1,\n",
       " 40,\n",
       " 40,\n",
       " 1,\n",
       " 1,\n",
       " 1,\n",
       " 1,\n",
       " 4,\n",
       " 40,\n",
       " 1]"
      ]
     },
     "execution_count": 38,
     "metadata": {},
     "output_type": "execute_result"
    }
   ],
   "source": [
    "a=\"-25 38 24 -17 7 31 43 8 20 49 -33 -11 19 13 -28 44 23 -3 -19 12 32 40 42 41 7 -35 -29 7 24 41 -3 1 -19 -29 -13 -10 4 -20 48\"\n",
    "arr=list(map(int,a.split()))\n",
    "n=len(arr)\n",
    "missingNumber(arr,n)\n",
    "arr\n",
    "# for i in arr:\n",
    "#     print(i,end=\",\")\n",
    "# print(\"\\n\")\n",
    "# n= len(arr)\n",
    "# for i in range(n):\n",
    "#     mod=arr[i]%(n+1)\n",
    "#     arr[mod-1],arr[i]=arr[i],arr[mod-1]\n",
    "# print(arr)\n",
    "\n"
   ]
  },
  {
   "cell_type": "code",
   "execution_count": 28,
   "id": "cd264e8f",
   "metadata": {},
   "outputs": [
    {
     "name": "stdout",
     "output_type": "stream",
     "text": [
      "[1, 2, 3, 4]\n"
     ]
    }
   ],
   "source": [
    "arr=[2,3,1,4]\n",
    "n= len(arr)\n",
    "for i in range(n):\n",
    "    mod=arr[i]%(n+1)\n",
    "    arr[mod-1],arr[i]=arr[i],arr[mod-1]\n",
    "print(arr)"
   ]
  },
  {
   "cell_type": "code",
   "execution_count": null,
   "id": "62ebc3cc",
   "metadata": {},
   "outputs": [],
   "source": []
  },
  {
   "cell_type": "code",
   "execution_count": null,
   "id": "a76ab74f",
   "metadata": {},
   "outputs": [],
   "source": []
  }
 ],
 "metadata": {
  "kernelspec": {
   "display_name": "Python 3 (ipykernel)",
   "language": "python",
   "name": "python3"
  },
  "language_info": {
   "codemirror_mode": {
    "name": "ipython",
    "version": 3
   },
   "file_extension": ".py",
   "mimetype": "text/x-python",
   "name": "python",
   "nbconvert_exporter": "python",
   "pygments_lexer": "ipython3",
   "version": "3.7.7"
  }
 },
 "nbformat": 4,
 "nbformat_minor": 5
}

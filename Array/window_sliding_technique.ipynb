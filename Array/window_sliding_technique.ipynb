{
 "cells": [
  {
   "cell_type": "code",
   "execution_count": 1,
   "id": "e6f4cfeb",
   "metadata": {},
   "outputs": [],
   "source": [
    "def sliding_technique(A,k):\n",
    "    sum1=0\n",
    "    ans=[]\n",
    "    for i in range(k):\n",
    "        sum1 +=A[i]\n",
    "    ans.append(sum1)\n",
    "    for i in range(k,len(A)):\n",
    "        sum1=(sum1-A[i-k])+A[i]\n",
    "        ans.append(sum1)\n",
    "    return ans\n",
    "        "
   ]
  },
  {
   "cell_type": "code",
   "execution_count": 4,
   "id": "928f7fda",
   "metadata": {},
   "outputs": [
    {
     "data": {
      "text/plain": [
       "[19, 24]"
      ]
     },
     "execution_count": 4,
     "metadata": {},
     "output_type": "execute_result"
    }
   ],
   "source": [
    "A=[4,7,8,9]\n",
    "k=3\n",
    "sliding_technique(A,k)"
   ]
  },
  {
   "cell_type": "code",
   "execution_count": 27,
   "id": "9553dc20",
   "metadata": {},
   "outputs": [],
   "source": [
    "def subarray(A,k):\n",
    "    ans=[]\n",
    "    n=len(A)\n",
    "    for i in range(0,n-k+1):\n",
    "        tmp=A[i:k+i]\n",
    "        ans.append(tmp)\n",
    "    return ans"
   ]
  },
  {
   "cell_type": "code",
   "execution_count": 29,
   "id": "28dcf20f",
   "metadata": {},
   "outputs": [
    {
     "data": {
      "text/plain": [
       "[[4, 7], [7, 8], [8, 9]]"
      ]
     },
     "execution_count": 29,
     "metadata": {},
     "output_type": "execute_result"
    }
   ],
   "source": [
    "A=[4,7,8,9]\n",
    "k=2\n",
    "subarray(A,k)"
   ]
  },
  {
   "cell_type": "code",
   "execution_count": 34,
   "id": "b138d584",
   "metadata": {},
   "outputs": [
    {
     "name": "stdout",
     "output_type": "stream",
     "text": [
      "left_array [1, 1, 2, 6]\n",
      "right_array [1, 4, 12, 24]\n",
      "[24, 12, 8, 6]\n"
     ]
    }
   ],
   "source": [
    "A=[1,2,3,4]\n",
    "n=len(A)\n",
    "rght=[1]*n\n",
    "ans=[]\n",
    "lft=[1]*n\n",
    "for i in range(1,n):\n",
    "    lft[i]=lft[i-1]*A[i-1]\n",
    "for j in range(1,n):\n",
    "    rght[j]=rght[j-1]*A[::-1][j-1]\n",
    "\n",
    "for k in range(n):\n",
    "    ans.append(lft[k]*rght[::-1][k])\n",
    "\n",
    "print(\"left_array\",lft)\n",
    "print(\"right_array\",rght)\n",
    "print(ans)\n"
   ]
  },
  {
   "cell_type": "code",
   "execution_count": 35,
   "id": "5f633663",
   "metadata": {},
   "outputs": [],
   "source": [
    "def prdct(arr):\n",
    "    prd=1\n",
    "    flag=0\n",
    "    for i in arr:\n",
    "        if(i==0):\n",
    "            flag +=1\n",
    "        else:\n",
    "            prd *=i\n",
    "    nw_arr=[0 for i in range(len(arr))]\n",
    "    for i in range(len(arr)):\n",
    "        if(flag>1):\n",
    "            nw_arr[i]=0\n",
    "        elif(flag==0):\n",
    "            nw_arr[i]=prd//arr[i]\n",
    "        elif(flag==1 and arr[i] !=0):\n",
    "            nw_arr[i]=0\n",
    "        else:\n",
    "            nw_arr[i]=prd\n",
    "    return nw_arr\n",
    "            "
   ]
  },
  {
   "cell_type": "code",
   "execution_count": 37,
   "id": "96451075",
   "metadata": {},
   "outputs": [
    {
     "name": "stdout",
     "output_type": "stream",
     "text": [
      "180 600 360 300 900\n"
     ]
    }
   ],
   "source": [
    "array = [10, 3, 5, 6, 2]\n",
    "ans = prdct(array)\n",
    "print(*ans)"
   ]
  },
  {
   "cell_type": "code",
   "execution_count": null,
   "id": "8e581f1c",
   "metadata": {},
   "outputs": [],
   "source": []
  }
 ],
 "metadata": {
  "kernelspec": {
   "display_name": "Python 3 (ipykernel)",
   "language": "python",
   "name": "python3"
  },
  "language_info": {
   "codemirror_mode": {
    "name": "ipython",
    "version": 3
   },
   "file_extension": ".py",
   "mimetype": "text/x-python",
   "name": "python",
   "nbconvert_exporter": "python",
   "pygments_lexer": "ipython3",
   "version": "3.7.7"
  }
 },
 "nbformat": 4,
 "nbformat_minor": 5
}

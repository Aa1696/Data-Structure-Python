{
 "cells": [
  {
   "cell_type": "code",
   "execution_count": 59,
   "id": "c567a0ea",
   "metadata": {},
   "outputs": [],
   "source": [
    "def weighted_sum(arr,l,r):\n",
    "    tot_term=r-l+1\n",
    "    pfx_wht_sum=[0]*len(arr)\n",
    "    pfx_wht_sum[0]=arr[0]\n",
    "    prefix_sum=[0]*len(arr)\n",
    "    prefix_sum[0]=arr[0]\n",
    "    for i in range(1,len(arr)):\n",
    "        pfx_wht_sum[i]=(i+1)*arr[i]+pfx_wht_sum[i-1]\n",
    "        prefix_sum[i]=prefix_sum[i-1]+arr[i]\n",
    "    req_ans=pfx_wht_sum[r]-(prefix_sum[r]*(l-1))\n",
    "    print(pfx_wht_sum,prefix_sum)\n",
    "    return req_ans\n",
    "    \n",
    "    \n",
    "    "
   ]
  },
  {
   "cell_type": "code",
   "execution_count": 61,
   "id": "f85918d2",
   "metadata": {},
   "outputs": [
    {
     "name": "stdout",
     "output_type": "stream",
     "text": [
      "[2, 8, 23, 39, 69, 75] [2, 5, 10, 14, 20, 21]\n"
     ]
    },
    {
     "data": {
      "text/plain": [
       "33"
      ]
     },
     "execution_count": 61,
     "metadata": {},
     "output_type": "execute_result"
    }
   ],
   "source": [
    "arr=[2,3,5,4,6,1]\n",
    "l=0\n",
    "r=2\n",
    "weighted_sum(arr,l,r)"
   ]
  },
  {
   "cell_type": "code",
   "execution_count": 90,
   "id": "f5f7333f",
   "metadata": {},
   "outputs": [],
   "source": [
    "def largestAndSecondLargest(list1):\n",
    "        mx = max(list1[0], list1[1])\n",
    "        secondmax = min(list1[0], list1[1])\n",
    "        n = len(list1)\n",
    "        for i in range(2,n):\n",
    "            if list1[i] > mx:\n",
    "                secondmax = mx\n",
    "                mx = list1[i]\n",
    "            elif list1[i] > secondmax and \\\n",
    "                mx != list1[i]:\n",
    "                secondmax = list1[i]\n",
    "            elif mx == secondmax and \\\n",
    "                secondmax != list1[i]:\n",
    "                  secondmax = list1[i]"
   ]
  },
  {
   "cell_type": "code",
   "execution_count": 93,
   "id": "fb672c7c",
   "metadata": {},
   "outputs": [
    {
     "data": {
      "text/plain": [
       "(1000, 0)"
      ]
     },
     "execution_count": 93,
     "metadata": {},
     "output_type": "execute_result"
    }
   ],
   "source": [
    "sizeOfArray=6\n",
    "arr=[1000,1000,1000,1000,1000,1000]\n",
    "largestAndSecondLargest(len(arr), arr)"
   ]
  },
  {
   "cell_type": "code",
   "execution_count": 111,
   "id": "30892049",
   "metadata": {},
   "outputs": [],
   "source": [
    "def insertAtIndex(arr, sizeOfArray, index, element):\n",
    "    tmp=arr\n",
    "    i =index\n",
    "    if(index==sizeOfArray-1):\n",
    "        arr[index]=element\n",
    "    else:\n",
    "        for i in range(sizeOfArray-1,index,-1):\n",
    "            print(i)\n",
    "            arr[i]=arr[i-1]\n",
    "        arr[index]=element\n",
    "    return arr"
   ]
  },
  {
   "cell_type": "code",
   "execution_count": 112,
   "id": "92ae978c",
   "metadata": {},
   "outputs": [
    {
     "name": "stdout",
     "output_type": "stream",
     "text": [
      "5\n",
      "4\n",
      "3\n"
     ]
    },
    {
     "data": {
      "text/plain": [
       "[1, 2, 90, 3, 4, 5]"
      ]
     },
     "execution_count": 112,
     "metadata": {},
     "output_type": "execute_result"
    }
   ],
   "source": [
    "sizeOfArray = 6\n",
    "arr = [1, 2, 3, 4, 5,-1]\n",
    "index = 2\n",
    "element = 90\n",
    "insertAtIndex(arr, sizeOfArray, index, element)"
   ]
  },
  {
   "cell_type": "code",
   "execution_count": null,
   "id": "d08c7c24",
   "metadata": {},
   "outputs": [],
   "source": []
  },
  {
   "cell_type": "code",
   "execution_count": 115,
   "id": "77bc3289",
   "metadata": {},
   "outputs": [],
   "source": [
    "def maximumAdjacent(sizeOfArray, arr):\n",
    "    # Your code here\n",
    "    # Function should print max of all adjacent\n",
    "    ans=[]\n",
    "    for i in range(1,sizeOfArray,1):\n",
    "        max1=max(arr[i],arr[i-1])\n",
    "        ans.append(max1)\n",
    "    return ans"
   ]
  },
  {
   "cell_type": "code",
   "execution_count": 116,
   "id": "3751112e",
   "metadata": {},
   "outputs": [
    {
     "data": {
      "text/plain": [
       "[2, 2, 3, 4, 5]"
      ]
     },
     "execution_count": 116,
     "metadata": {},
     "output_type": "execute_result"
    }
   ],
   "source": [
    "n=6\n",
    "arr=[1,2,2,3,4,5]\n",
    "maximumAdjacent(n, arr)"
   ]
  },
  {
   "cell_type": "code",
   "execution_count": 143,
   "id": "8ac6030c",
   "metadata": {},
   "outputs": [],
   "source": [
    "def reversegroup(arr,K,N):\n",
    "    ans=[]\n",
    "    ans_1=[]\n",
    "    for i in range(0,N-K,K):\n",
    "        nw_arr=arr[i:i+K]\n",
    "        print(nw_arr)\n",
    "        ans.append(list(reversed(nw_arr)))\n",
    "        print(ans)\n",
    "    print(i)\n",
    "    tmp=arr[i+K:]\n",
    "    ans.append(list(reversed(tmp)))\n",
    "    for i in range(len(ans)):\n",
    "        for j in range(len(ans[i])):\n",
    "            ans_1.append(ans[i][j])\n",
    "    return ans_1"
   ]
  },
  {
   "cell_type": "code",
   "execution_count": 145,
   "id": "c6729617",
   "metadata": {},
   "outputs": [
    {
     "name": "stdout",
     "output_type": "stream",
     "text": [
      "[5, 6, 8]\n",
      "[[8, 6, 5]]\n",
      "0\n"
     ]
    },
    {
     "data": {
      "text/plain": [
       "[8, 6, 5, 9]"
      ]
     },
     "execution_count": 145,
     "metadata": {},
     "output_type": "execute_result"
    }
   ],
   "source": [
    "N=4\n",
    "K=3\n",
    "A=[5,6,8,9]\n",
    "reversegroup(A,K,N)"
   ]
  },
  {
   "cell_type": "code",
   "execution_count": null,
   "id": "53fa5b6e",
   "metadata": {},
   "outputs": [],
   "source": []
  },
  {
   "cell_type": "code",
   "execution_count": null,
   "id": "65edd2ee",
   "metadata": {},
   "outputs": [],
   "source": []
  }
 ],
 "metadata": {
  "kernelspec": {
   "display_name": "Python 3 (ipykernel)",
   "language": "python",
   "name": "python3"
  },
  "language_info": {
   "codemirror_mode": {
    "name": "ipython",
    "version": 3
   },
   "file_extension": ".py",
   "mimetype": "text/x-python",
   "name": "python",
   "nbconvert_exporter": "python",
   "pygments_lexer": "ipython3",
   "version": "3.7.7"
  }
 },
 "nbformat": 4,
 "nbformat_minor": 5
}

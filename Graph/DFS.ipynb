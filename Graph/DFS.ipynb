{
 "cells": [
  {
   "cell_type": "code",
   "execution_count": 7,
   "id": "29d21f29",
   "metadata": {},
   "outputs": [],
   "source": [
    "from collections import defaultdict\n",
    "class DFS_Traversal:\n",
    "    def __init__(self):\n",
    "        self.graph=defaultdict(list)\n",
    "    def addEdge(self,u,v):\n",
    "        self.graph[u].append(v)\n",
    "    def dfs(self)://Disconnected edge\n",
    "        visited=set()\n",
    "        for vertex in self.graph:\n",
    "            if(vertex not in visited):\n",
    "                self.dfs_util(vertex,visited)\n",
    "        \n",
    "    def dfs_util(self,s,visited):\n",
    "        visited.add(s)\n",
    "        print(s,end=\" \")\n",
    "        for node in self.graph[s]:\n",
    "            if(node not in visited):\n",
    "                self.dfs_util(node,visited)\n",
    "        "
   ]
  },
  {
   "cell_type": "code",
   "execution_count": 8,
   "id": "7fbff991",
   "metadata": {},
   "outputs": [
    {
     "name": "stdout",
     "output_type": "stream",
     "text": [
      "Following is DFS from (starting from vertex 2)\n",
      "2 0 1 3 "
     ]
    }
   ],
   "source": [
    "g = DFS_Traversal()\n",
    "g.addEdge(0, 1)\n",
    "g.addEdge(0, 2)\n",
    "g.addEdge(1, 2)\n",
    "g.addEdge(2, 0)\n",
    "g.addEdge(2, 3)\n",
    "g.addEdge(3, 3)\n",
    " \n",
    "print(\"Following is DFS from (starting from vertex 2)\")\n",
    "g.dfs(2)"
   ]
  },
  {
   "cell_type": "code",
   "execution_count": null,
   "id": "05fa060e",
   "metadata": {},
   "outputs": [],
   "source": []
  }
 ],
 "metadata": {
  "kernelspec": {
   "display_name": "Python 3 (ipykernel)",
   "language": "python",
   "name": "python3"
  },
  "language_info": {
   "codemirror_mode": {
    "name": "ipython",
    "version": 3
   },
   "file_extension": ".py",
   "mimetype": "text/x-python",
   "name": "python",
   "nbconvert_exporter": "python",
   "pygments_lexer": "ipython3",
   "version": "3.7.7"
  }
 },
 "nbformat": 4,
 "nbformat_minor": 5
}

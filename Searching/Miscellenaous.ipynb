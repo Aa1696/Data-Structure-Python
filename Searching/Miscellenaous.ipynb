{
 "cells": [
  {
   "cell_type": "code",
   "execution_count": 1,
   "id": "37b0b148",
   "metadata": {},
   "outputs": [],
   "source": [
    "def second_max(arr):\n",
    "    first_max=second_max=-10000000000000\n",
    "    for i in range(len(arr)):\n",
    "        first_max=max(first_max,arr[i])\n",
    "    for i in range(len(arr)):\n",
    "        if(arr[i]!=first_max):\n",
    "            second_max=max(second_max,arr[i])\n",
    "    return second_max"
   ]
  },
  {
   "cell_type": "code",
   "execution_count": 4,
   "id": "fa66d4c3",
   "metadata": {},
   "outputs": [
    {
     "data": {
      "text/plain": [
       "6"
      ]
     },
     "execution_count": 4,
     "metadata": {},
     "output_type": "execute_result"
    }
   ],
   "source": [
    "A=[2,3,1,7,6]\n",
    "second_max(A)"
   ]
  },
  {
   "cell_type": "code",
   "execution_count": 2,
   "id": "4afa7105",
   "metadata": {},
   "outputs": [],
   "source": [
    "def quicksort(arr,low,high):\n",
    "    if(len(arr)==1):\n",
    "        return arr\n",
    "    if(low<high):\n",
    "        part=partition(arr,low,high)\n",
    "        quicksort(arr,low,part-1)\n",
    "        quicksort(arr,part+1,high)\n",
    "    return arr\n",
    "        \n",
    "def partition(arr,low,high):\n",
    "    index=low-1\n",
    "    pivot=arr[high]\n",
    "    for j in range(low,high):\n",
    "        if(arr[j]<=pivot):\n",
    "            index +=1\n",
    "            arr[index],arr[j]=arr[j],arr[index]\n",
    "    arr[index+1],arr[high]=arr[high],arr[index+1]\n",
    "    return index+1\n",
    "            "
   ]
  },
  {
   "cell_type": "code",
   "execution_count": 3,
   "id": "b15834f9",
   "metadata": {},
   "outputs": [
    {
     "data": {
      "text/plain": [
       "[0, 1, 2, 3, 4, 5, 9]"
      ]
     },
     "execution_count": 3,
     "metadata": {},
     "output_type": "execute_result"
    }
   ],
   "source": [
    "arr=[2,1,5,0,9,3,4]\n",
    "quicksort(arr,0,len(arr)-1)"
   ]
  },
  {
   "cell_type": "code",
   "execution_count": 13,
   "id": "ffeefbf3",
   "metadata": {},
   "outputs": [
    {
     "data": {
      "text/plain": [
       "65536"
      ]
     },
     "execution_count": 13,
     "metadata": {},
     "output_type": "execute_result"
    }
   ],
   "source": [
    "pow(2,16)"
   ]
  },
  {
   "cell_type": "code",
   "execution_count": 14,
   "id": "aadea107",
   "metadata": {},
   "outputs": [
    {
     "data": {
      "text/plain": [
       "[]"
      ]
     },
     "execution_count": 14,
     "metadata": {},
     "output_type": "execute_result"
    }
   ],
   "source": [
    "arr[:0]"
   ]
  },
  {
   "cell_type": "code",
   "execution_count": 30,
   "id": "9f34e72a",
   "metadata": {},
   "outputs": [],
   "source": [
    "def perfectPeak(A):\n",
    "    n=len(A)\n",
    "    left_max_arr=[0]*n\n",
    "    right_min_arr=[0]*n\n",
    "    max1=-10000000000000\n",
    "    min1=10000000000000000\n",
    "    for i in range(n):\n",
    "        max1=max(max1,A[i])\n",
    "        left_max_arr[i]=max1\n",
    "    print(left_max_arr)\n",
    "    for i in range(n-1,-1,-1):\n",
    "        min1=min(min1,A[i])\n",
    "        right_min_arr[i]=min1\n",
    "    print(right_min_arr)\n",
    "    print(A)\n",
    "    for i in range(1,n-1):\n",
    "        if(A[i]>left_max_arr[i-1] and A[i]<right_min_arr[i+1]):\n",
    "            return A[i]\n",
    "    return 'No element found'"
   ]
  },
  {
   "cell_type": "code",
   "execution_count": 31,
   "id": "13ac29a8",
   "metadata": {},
   "outputs": [
    {
     "name": "stdout",
     "output_type": "stream",
     "text": [
      "[5, 5, 5, 5, 6, 8, 10, 10, 10]\n",
      "[1, 1, 3, 3, 6, 7, 7, 7, 9]\n",
      "[5, 1, 4, 3, 6, 8, 10, 7, 9]\n"
     ]
    },
    {
     "data": {
      "text/plain": [
       "6"
      ]
     },
     "execution_count": 31,
     "metadata": {},
     "output_type": "execute_result"
    }
   ],
   "source": [
    "A=[5, 1, 4, 3, 6, 8, 10, 7, 9]\n",
    "perfectPeak(A)"
   ]
  },
  {
   "cell_type": "code",
   "execution_count": null,
   "id": "3d05103c",
   "metadata": {},
   "outputs": [],
   "source": []
  }
 ],
 "metadata": {
  "kernelspec": {
   "display_name": "Python 3 (ipykernel)",
   "language": "python",
   "name": "python3"
  },
  "language_info": {
   "codemirror_mode": {
    "name": "ipython",
    "version": 3
   },
   "file_extension": ".py",
   "mimetype": "text/x-python",
   "name": "python",
   "nbconvert_exporter": "python",
   "pygments_lexer": "ipython3",
   "version": "3.7.7"
  }
 },
 "nbformat": 4,
 "nbformat_minor": 5
}

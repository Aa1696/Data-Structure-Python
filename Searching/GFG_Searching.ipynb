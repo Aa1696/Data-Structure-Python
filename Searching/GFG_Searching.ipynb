{
 "cells": [
  {
   "cell_type": "code",
   "execution_count": 9,
   "id": "130e52d2",
   "metadata": {},
   "outputs": [],
   "source": [
    "def leftIndex(N, arr, X):\n",
    "    #Your code here\n",
    "    low=0\n",
    "    high=N-1\n",
    "    while(low<=high):\n",
    "        mid=low + (high-low)//2\n",
    "        if(arr[mid]>X):\n",
    "            high=mid\n",
    "        else:\n",
    "            if(arr[mid]==0  and arr[low]==X):\n",
    "                return low\n",
    "            else:\n",
    "                low=mid+1\n",
    "    return -1\n",
    "            "
   ]
  },
  {
   "cell_type": "code",
   "execution_count": 10,
   "id": "53c4c390",
   "metadata": {},
   "outputs": [
    {
     "data": {
      "text/plain": [
       "0"
      ]
     },
     "execution_count": 10,
     "metadata": {},
     "output_type": "execute_result"
    }
   ],
   "source": [
    "A=[10,10,144,144,177,177]\n",
    "leftIndex(len(A),A,10)"
   ]
  },
  {
   "cell_type": "code",
   "execution_count": null,
   "id": "541c23ea",
   "metadata": {},
   "outputs": [],
   "source": [
    "def count_1()"
   ]
  }
 ],
 "metadata": {
  "kernelspec": {
   "display_name": "Python 3 (ipykernel)",
   "language": "python",
   "name": "python3"
  },
  "language_info": {
   "codemirror_mode": {
    "name": "ipython",
    "version": 3
   },
   "file_extension": ".py",
   "mimetype": "text/x-python",
   "name": "python",
   "nbconvert_exporter": "python",
   "pygments_lexer": "ipython3",
   "version": "3.7.7"
  }
 },
 "nbformat": 4,
 "nbformat_minor": 5
}

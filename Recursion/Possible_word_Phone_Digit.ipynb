{
 "cells": [
  {
   "cell_type": "code",
   "execution_count": 3,
   "id": "fd10c332",
   "metadata": {},
   "outputs": [],
   "source": [
    "def possibleWords(a,N):\n",
    "        #Your code here\n",
    "        ans=[]\n",
    "        if(N==0):\n",
    "            return ans\n",
    "        comb(ans,a,N,\"\",0)\n",
    "        return ans\n",
    "      \n",
    "        \n",
    "def comb(ans,a,n,req_str,i):\n",
    "    dig_map={2:\"abc\",3:\"def\",4:\"ghi\",5:\"jkl\",6:\"mno\",7:\"pqrs\",8:\"tuv\",9:\"wxyz\"}\n",
    "    if(len(req_str)==n):\n",
    "        ans.append(req_str)\n",
    "        return\n",
    "    tmp=dig_map[a[i]]\n",
    "    for j in range(len(tmp)):\n",
    "        comb(ans,a,n,req_str+tmp[j],i+1)"
   ]
  },
  {
   "cell_type": "code",
   "execution_count": 4,
   "id": "68277aa8",
   "metadata": {},
   "outputs": [
    {
     "data": {
      "text/plain": [
       "['ad', 'ae', 'af', 'bd', 'be', 'bf', 'cd', 'ce', 'cf']"
      ]
     },
     "execution_count": 4,
     "metadata": {},
     "output_type": "execute_result"
    }
   ],
   "source": [
    "a=[2,3]\n",
    "possibleWords(a,len(a))"
   ]
  },
  {
   "cell_type": "code",
   "execution_count": 63,
   "id": "0ddbc6a3",
   "metadata": {},
   "outputs": [],
   "source": [
    "def pattern(N):\n",
    "    # code here\n",
    "    num=N\n",
    "    ans=[N]\n",
    "    while(num>0):\n",
    "        num=num-5\n",
    "        ans.append(num)\n",
    "\n",
    "    while(True):\n",
    "        if(num==N):\n",
    "            break\n",
    "        else:\n",
    "            num=num+5\n",
    "            ans.append(num)\n",
    "    # code here\n",
    "    # def func_decrement(ans,N):\n",
    "    #     if(ans[-1]<=0):\n",
    "    #         return \n",
    "    #     ans.append(ans[-1]-5)\n",
    "    #     func_decrement(ans,N)\n",
    "    # def func_increment(ans,N):\n",
    "    #     if(ans[-1]==N):\n",
    "    #         return \n",
    "    #     ans.append(ans[-1]+5)\n",
    "    #     func_increment(ans,N)\n",
    "    # ans=[]\n",
    "    # ans.append(N)\n",
    "    # func_decrement(ans,N)\n",
    "    # func_increment(ans,N)\n",
    "    return ans"
   ]
  },
  {
   "cell_type": "code",
   "execution_count": 64,
   "id": "f770ef7c",
   "metadata": {},
   "outputs": [
    {
     "data": {
      "text/plain": [
       "[16, 11, 6, 1, -4, 1, 6, 11, 16]"
      ]
     },
     "execution_count": 64,
     "metadata": {},
     "output_type": "execute_result"
    }
   ],
   "source": [
    "pattern(16)"
   ]
  },
  {
   "cell_type": "code",
   "execution_count": 138,
   "id": "25d25d99",
   "metadata": {},
   "outputs": [],
   "source": [
    "def searchPattern(st, pat):\n",
    "    # code here\n",
    "    j=0\n",
    "    m=len(pat)\n",
    "    for i in range(len(st)):\n",
    "        tmp=st[i:i+m]\n",
    "        if(tmp==pat):\n",
    "            return True\n",
    "    return False"
   ]
  },
  {
   "cell_type": "code",
   "execution_count": 139,
   "id": "426d2eb7",
   "metadata": {},
   "outputs": [
    {
     "data": {
      "text/plain": [
       "True"
      ]
     },
     "execution_count": 139,
     "metadata": {},
     "output_type": "execute_result"
    }
   ],
   "source": [
    "searchPattern(\"abcxabcdabxabcdabcdabcy\",\"abcdabcy\")"
   ]
  },
  {
   "cell_type": "code",
   "execution_count": 127,
   "id": "61f0388c",
   "metadata": {},
   "outputs": [
    {
     "data": {
      "text/plain": [
       "65"
      ]
     },
     "execution_count": 127,
     "metadata": {},
     "output_type": "execute_result"
    }
   ],
   "source": [
    "ord('A')"
   ]
  },
  {
   "cell_type": "code",
   "execution_count": 151,
   "id": "3502eadd",
   "metadata": {},
   "outputs": [],
   "source": [
    "def numGame(n):\n",
    "    # code here \n",
    "    mod=1000000007\n",
    "    if(n<3):\n",
    "        return n\n",
    "    return lcm(n,n-1)%mod\n",
    "def hcf(a,b):\n",
    "    mod=1000000007\n",
    "    if (b == 0):\n",
    "        return a\n",
    "    return hcf(b, a % b)\n",
    "def lcm(a,b):\n",
    "    mod=1000000007\n",
    "    if(b==1):\n",
    "        return a\n",
    "    a=(a*b)//hcf(a,b)\n",
    "    b -=1\n",
    "    return lcm(a,b)"
   ]
  },
  {
   "cell_type": "code",
   "execution_count": 153,
   "id": "80458ec6",
   "metadata": {},
   "outputs": [
    {
     "data": {
      "text/plain": [
       "849686073"
      ]
     },
     "execution_count": 153,
     "metadata": {},
     "output_type": "execute_result"
    }
   ],
   "source": [
    "numGame(1000)"
   ]
  },
  {
   "cell_type": "code",
   "execution_count": null,
   "id": "1303ef44",
   "metadata": {},
   "outputs": [],
   "source": []
  }
 ],
 "metadata": {
  "kernelspec": {
   "display_name": "Python 3 (ipykernel)",
   "language": "python",
   "name": "python3"
  },
  "language_info": {
   "codemirror_mode": {
    "name": "ipython",
    "version": 3
   },
   "file_extension": ".py",
   "mimetype": "text/x-python",
   "name": "python",
   "nbconvert_exporter": "python",
   "pygments_lexer": "ipython3",
   "version": "3.7.7"
  }
 },
 "nbformat": 4,
 "nbformat_minor": 5
}

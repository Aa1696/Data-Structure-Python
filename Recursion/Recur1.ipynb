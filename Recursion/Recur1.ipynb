{
 "cells": [
  {
   "cell_type": "code",
   "execution_count": 6,
   "id": "5390bb31",
   "metadata": {},
   "outputs": [],
   "source": [
    "def mult(a,b):\n",
    "    if(a>0 and b>0):\n",
    "        if(b==1):\n",
    "            return a\n",
    "        else:\n",
    "            return a+mult(a,b-1)\n",
    "    else:\n",
    "        return -1"
   ]
  },
  {
   "cell_type": "code",
   "execution_count": 7,
   "id": "0c402956",
   "metadata": {},
   "outputs": [
    {
     "data": {
      "text/plain": [
       "25"
      ]
     },
     "execution_count": 7,
     "metadata": {},
     "output_type": "execute_result"
    }
   ],
   "source": [
    "mult(5,5)"
   ]
  },
  {
   "cell_type": "code",
   "execution_count": 8,
   "id": "3790bfba",
   "metadata": {},
   "outputs": [],
   "source": [
    "#sum uptil n for non-negative numbers\n",
    "def sum1(n):\n",
    "    if(n==0):\n",
    "        return 0\n",
    "    else:\n",
    "        return n+sum1(n-1)"
   ]
  },
  {
   "cell_type": "code",
   "execution_count": 9,
   "id": "a01a449e",
   "metadata": {},
   "outputs": [
    {
     "data": {
      "text/plain": [
       "3"
      ]
     },
     "execution_count": 9,
     "metadata": {},
     "output_type": "execute_result"
    }
   ],
   "source": [
    "sum1(2)"
   ]
  },
  {
   "cell_type": "code",
   "execution_count": 10,
   "id": "6977ac5e",
   "metadata": {},
   "outputs": [],
   "source": [
    "#unique path in a grid\n",
    "\n",
    "def path(m,n):\n",
    "    if(m==1 or n==1):\n",
    "        return 1\n",
    "    else:\n",
    "        return path(n,n-1)+path(n-1,m)"
   ]
  },
  {
   "cell_type": "code",
   "execution_count": 11,
   "id": "9c1edc29",
   "metadata": {},
   "outputs": [
    {
     "data": {
      "text/plain": [
       "4"
      ]
     },
     "execution_count": 11,
     "metadata": {},
     "output_type": "execute_result"
    }
   ],
   "source": [
    "path(2,3)"
   ]
  },
  {
   "cell_type": "code",
   "execution_count": 14,
   "id": "74f66346",
   "metadata": {},
   "outputs": [],
   "source": [
    "#Partitions of n objects using m objects\n",
    "def partins(m,n):\n",
    "    if(n==0):\n",
    "        return 1\n",
    "    elif(m==0 or n<0):\n",
    "        return 0\n",
    "    else:\n",
    "        return partins(n-m,m)+partins(n,m-1)"
   ]
  },
  {
   "cell_type": "code",
   "execution_count": 15,
   "id": "20f85864",
   "metadata": {},
   "outputs": [
    {
     "data": {
      "text/plain": [
       "18"
      ]
     },
     "execution_count": 15,
     "metadata": {},
     "output_type": "execute_result"
    }
   ],
   "source": [
    "partins(9,5)"
   ]
  },
  {
   "cell_type": "code",
   "execution_count": 24,
   "id": "bd08f874",
   "metadata": {},
   "outputs": [],
   "source": [
    "def sort3(arr):\n",
    "    low=0 #consider as first \n",
    "    high=len(arr)-1 #consider as third\n",
    "    mid=0 #consider as second\n",
    "    while(mid<=high):\n",
    "        if(arr[mid]==0):\n",
    "            arr[low],arr[mid]=arr[mid],arr[low]\n",
    "            low +=1\n",
    "            mid +=1\n",
    "        elif(arr[mid]==1):\n",
    "            mid +=1\n",
    "        else:\n",
    "            arr[mid],arr[high]=arr[high],arr[mid]\n",
    "            high -=1\n",
    "    return arr\n",
    "    "
   ]
  },
  {
   "cell_type": "code",
   "execution_count": 25,
   "id": "abb1dd6f",
   "metadata": {},
   "outputs": [
    {
     "data": {
      "text/plain": [
       "[0, 0, 0, 0, 0, 1, 1, 1, 1, 1, 2, 2]"
      ]
     },
     "execution_count": 25,
     "metadata": {},
     "output_type": "execute_result"
    }
   ],
   "source": [
    "arr = [0, 1, 1, 0, 1, 2, 1, 2, 0, 0, 0, 1]\n",
    "sort3(arr)"
   ]
  },
  {
   "cell_type": "code",
   "execution_count": null,
   "id": "4c5eb703",
   "metadata": {},
   "outputs": [],
   "source": []
  }
 ],
 "metadata": {
  "kernelspec": {
   "display_name": "Python 3 (ipykernel)",
   "language": "python",
   "name": "python3"
  },
  "language_info": {
   "codemirror_mode": {
    "name": "ipython",
    "version": 3
   },
   "file_extension": ".py",
   "mimetype": "text/x-python",
   "name": "python",
   "nbconvert_exporter": "python",
   "pygments_lexer": "ipython3",
   "version": "3.7.7"
  }
 },
 "nbformat": 4,
 "nbformat_minor": 5
}

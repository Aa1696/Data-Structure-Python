{
 "cells": [
  {
   "cell_type": "code",
   "execution_count": null,
   "id": "0347eb65",
   "metadata": {},
   "outputs": [],
   "source": [
    "# write a code for subsequence sum having equal to given sum\n",
    "def subsequence_sum(A,req_sum,req_arr):\n",
    "    for i in range(len(A)):\n",
    "        if(A[i]<=req_sum):\n",
    "            tmp=req_sum-A[i]\n",
    "            if(tmp in A):\n",
    "                req_arr.append(A[i])\n",
    "                if(tmp not in req_arr):\n",
    "                    req_arr.append(tmp)\n",
    "                return subsequence(A[i+1:],req_sum,req_arr)\n",
    "            else:\n",
    "                return subsequence(A[i+1:],req_sum,req_arr)\n",
    "            \n",
    "        \n",
    "    \n",
    "    "
   ]
  },
  {
   "cell_type": "code",
   "execution_count": 1,
   "id": "340dca89",
   "metadata": {},
   "outputs": [
    {
     "name": "stdout",
     "output_type": "stream",
     "text": [
      "14\n"
     ]
    }
   ],
   "source": [
    "A=[1,5,13,8]\n",
    "tmp=-100000000000\n",
    "for i in range(len(A)):\n",
    "    for j in range(len(A)):\n",
    "        k=abs(A[i]-A[j])+abs(i-j)\n",
    "        if(k>tmp):\n",
    "            tmp=k\n",
    "            \n",
    "print(tmp)"
   ]
  },
  {
   "cell_type": "code",
   "execution_count": 2,
   "id": "b0741008",
   "metadata": {},
   "outputs": [
    {
     "name": "stdout",
     "output_type": "stream",
     "text": [
      "14\n"
     ]
    }
   ],
   "source": [
    "max_num=-100000000000\n",
    "min_num=1000000000000000\n",
    "for i in range(len(A)):\n",
    "    tmp1=A[i]+i\n",
    "    if(tmp1>max_num):\n",
    "        max_num=tmp1\n",
    "    tmp2=A[i]-i\n",
    "    if(tmp2<min_num):\n",
    "        min_num=tmp2\n",
    "max_diff=max_num-min_num\n",
    "print(max_diff)"
   ]
  },
  {
   "cell_type": "code",
   "execution_count": 4,
   "id": "703a1d1c",
   "metadata": {},
   "outputs": [
    {
     "name": "stdout",
     "output_type": "stream",
     "text": [
      "12\n"
     ]
    }
   ],
   "source": [
    "#Maximum_Difference between consecutive number\n",
    "A=[20,8,15,12]\n",
    "max_num=max(A)\n",
    "min_num=min(A)\n",
    "tmp=0\n",
    "max_diff=max_num-min_num\n",
    "for i in range(0,len(A)-1):\n",
    "    diff=abs(A[i+1]-A[i])\n",
    "    if(diff>tmp):\n",
    "        tmp=diff\n",
    "if(tmp<=max_diff):\n",
    "    print(tmp)\n",
    "    "
   ]
  },
  {
   "cell_type": "code",
   "execution_count": 20,
   "id": "85fe5cec",
   "metadata": {},
   "outputs": [
    {
     "name": "stdout",
     "output_type": "stream",
     "text": [
      "[0, 4, 1, 2, 1, 5, 0]\n"
     ]
    }
   ],
   "source": [
    "A = [6, 2, 5, 4, 5, 1, 6]\n",
    "rain_trap=[]\n",
    "n=len(A)\n",
    "left_max_prefix=[0]*n\n",
    "left_max_prefix[0]=A[0]\n",
    "right_max_suffix=[0]*n\n",
    "right_max_suffix[-1]=A[n-1]\n",
    "for i in range(1,len(A)):\n",
    "    if(A[i]>left_max_prefix[i-1]):\n",
    "        left_max_prefix[i]=A[i]\n",
    "    else:\n",
    "        left_max_prefix[i]=left_max_prefix[i-1]\n",
    "for i in range(n-2,-1,-1):\n",
    "    if(A[i]>right_max_suffix[i+1]):\n",
    "        right_max_suffix[i]=A[i]\n",
    "    else:\n",
    "        right_max_suffix[i]=right_max_suffix[i+1]\n",
    "    \n",
    "for i in range(n):\n",
    "    rain_trap.append(min(left_max_prefix[i],right_max_suffix[i])-A[i])\n",
    "\n",
    "print(rain_trap)"
   ]
  },
  {
   "cell_type": "code",
   "execution_count": 28,
   "id": "61d984fd",
   "metadata": {},
   "outputs": [],
   "source": [
    "def permute(A,ans):\n",
    "    if(len(A)==0):\n",
    "        print(ans, end = \"  \")\n",
    "        return\n",
    "    \n",
    "    for i in range(len(A)):\n",
    "        ch=A[i]\n",
    "        left=A[:i]\n",
    "        right=A[i+1:]\n",
    "        res=left+right\n",
    "        permute(res,ans+[ch])\n",
    "    "
   ]
  },
  {
   "cell_type": "code",
   "execution_count": 30,
   "id": "f538d759",
   "metadata": {},
   "outputs": [
    {
     "name": "stdout",
     "output_type": "stream",
     "text": [
      "[1, 2, 3]  [1, 3, 2]  [2, 1, 3]  [2, 3, 1]  [3, 1, 2]  [3, 2, 1]  "
     ]
    }
   ],
   "source": [
    "A=[1,2,3]\n",
    "permute(A,[])"
   ]
  },
  {
   "cell_type": "code",
   "execution_count": 37,
   "id": "b453640f",
   "metadata": {},
   "outputs": [],
   "source": [
    "#Calculate the chunk such when it is combined then array will be sorted.\n",
    "def max_chunk(arr):\n",
    "    min_arr=[0 for i in range(len(A))]\n",
    "    min_arr[-1]=float('inf')\n",
    "    chunk=0\n",
    "    max_chunk=float('-inf')\n",
    "    for i in range(len(arr)-2,-1,-1):\n",
    "        min_arr[i]=min(arr[i+1],min_arr[i+1])\n",
    "    print(\"Min_arr:\",min_arr)\n",
    "    for i in range(len(arr)):\n",
    "        max_chunk=max(max_chunk,arr[i])\n",
    "        if(max_chunk<=min_arr[i]):\n",
    "            chunk +=1\n",
    "    return chunk\n",
    "    \n",
    "    "
   ]
  },
  {
   "cell_type": "code",
   "execution_count": 38,
   "id": "bab2b2b9",
   "metadata": {},
   "outputs": [
    {
     "name": "stdout",
     "output_type": "stream",
     "text": [
      "Min_arr: [0, 1, 2, inf]\n"
     ]
    },
    {
     "data": {
      "text/plain": [
       "2"
      ]
     },
     "execution_count": 38,
     "metadata": {},
     "output_type": "execute_result"
    }
   ],
   "source": [
    "A = [2, 0, 1, 2]\n",
    "max_chunk(A)"
   ]
  },
  {
   "cell_type": "code",
   "execution_count": null,
   "id": "116183f0",
   "metadata": {},
   "outputs": [],
   "source": []
  }
 ],
 "metadata": {
  "kernelspec": {
   "display_name": "Python 3 (ipykernel)",
   "language": "python",
   "name": "python3"
  },
  "language_info": {
   "codemirror_mode": {
    "name": "ipython",
    "version": 3
   },
   "file_extension": ".py",
   "mimetype": "text/x-python",
   "name": "python",
   "nbconvert_exporter": "python",
   "pygments_lexer": "ipython3",
   "version": "3.7.7"
  }
 },
 "nbformat": 4,
 "nbformat_minor": 5
}

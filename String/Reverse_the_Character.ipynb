{
 "cells": [
  {
   "cell_type": "code",
   "execution_count": 19,
   "id": "069d21ab",
   "metadata": {},
   "outputs": [],
   "source": [
    "def reverse(str1):\n",
    "    splt=s.strip(\"\").split(' ')\n",
    "    print(splt)\n",
    "    new_ans=\"\"\n",
    "    for i in range(len(splt)):\n",
    "        tmp=splt[i]\n",
    "        ans=\"\"\n",
    "        for j in range(len(splt[i])-1,-1,-1):\n",
    "            ans +=tmp[j]\n",
    "        splt[i]=ans\n",
    "    print(splt)\n",
    "    for k in splt:\n",
    "        new_ans +=k + \" \"\n",
    "    return new_ans.strip()"
   ]
  },
  {
   "cell_type": "code",
   "execution_count": 20,
   "id": "8ecef9ed",
   "metadata": {},
   "outputs": [
    {
     "name": "stdout",
     "output_type": "stream",
     "text": [
      "[\"Let's\", 'take', 'LeetCode', 'contest']\n",
      "[\"s'teL\", 'ekat', 'edoCteeL', 'tsetnoc']\n"
     ]
    },
    {
     "data": {
      "text/plain": [
       "\"s'teL ekat edoCteeL tsetnoc\""
      ]
     },
     "execution_count": 20,
     "metadata": {},
     "output_type": "execute_result"
    }
   ],
   "source": [
    "s = \"Let's take LeetCode contest\"\n",
    "reverse(s)"
   ]
  },
  {
   "cell_type": "code",
   "execution_count": null,
   "id": "bcbce433",
   "metadata": {},
   "outputs": [],
   "source": []
  }
 ],
 "metadata": {
  "kernelspec": {
   "display_name": "Python 3 (ipykernel)",
   "language": "python",
   "name": "python3"
  },
  "language_info": {
   "codemirror_mode": {
    "name": "ipython",
    "version": 3
   },
   "file_extension": ".py",
   "mimetype": "text/x-python",
   "name": "python",
   "nbconvert_exporter": "python",
   "pygments_lexer": "ipython3",
   "version": "3.7.7"
  }
 },
 "nbformat": 4,
 "nbformat_minor": 5
}

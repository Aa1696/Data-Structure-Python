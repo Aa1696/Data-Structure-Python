{
 "cells": [
  {
   "cell_type": "code",
   "execution_count": 2,
   "id": "6ef6119f",
   "metadata": {},
   "outputs": [],
   "source": [
    "def pallindrome_partioning(A):\n",
    "    def ispaalindrome(str1):\n",
    "        n=len(str1)-1\n",
    "        ind=0\n",
    "        while(ind<n):\n",
    "            if(str1[ind] !=str1[n]):\n",
    "                return False\n",
    "            ind +=1\n",
    "            n -=1\n",
    "        return True\n",
    "    def subset(indx,tmp,k,ans):\n",
    "        if(indx==k):\n",
    "            ans.append(tmp)\n",
    "        i=indx\n",
    "        while(i<k):\n",
    "            if(ispaalindrome(A[indx:i+1])):\n",
    "                tmp1 =tmp + [A[indx:i+1]]\n",
    "                subset(indx+1,tmp1,k,ans)\n",
    "            i +=1\n",
    "            \n",
    "    ans=[]\n",
    "    subset(0,[],len(A),ans)\n",
    "    return ans"
   ]
  },
  {
   "cell_type": "code",
   "execution_count": 3,
   "id": "3d1159a1",
   "metadata": {},
   "outputs": [
    {
     "data": {
      "text/plain": [
       "[['a', 'a', 'b'], ['aa', 'a', 'b']]"
      ]
     },
     "execution_count": 3,
     "metadata": {},
     "output_type": "execute_result"
    }
   ],
   "source": [
    "A = \"aab\"\n",
    "pallindrome_partioning(A)"
   ]
  },
  {
   "cell_type": "code",
   "execution_count": 81,
   "id": "fafce4b3",
   "metadata": {},
   "outputs": [],
   "source": [
    "def even_odd(A):\n",
    "    even=[]\n",
    "    odd=[]\n",
    "    for i in A:\n",
    "        if(i%2==0):\n",
    "            even.append(i)\n",
    "        else:\n",
    "            odd.append(i)\n",
    "    odd_len=len(odd)\n",
    "    print(\"odd_arr\",odd)\n",
    "    print(\"even_arr\",even)\n",
    "    even_len=len(even)\n",
    "    print(\"even_length:\",even_len)\n",
    "    print(\"odd_length:\",odd_len)\n",
    "    i=j=k=0\n",
    "    while(i<odd_len and j<even_len):\n",
    "        if(odd[i]<=even[j]):\n",
    "            A[k]=odd[i]\n",
    "            i +=1\n",
    "        else:\n",
    "            A[k]=even[j]\n",
    "            j +=1\n",
    "            print(A)\n",
    "        k +=1\n",
    "    while(i<odd_len):\n",
    "        A[k]=odd[i]\n",
    "        i +=1\n",
    "        k +=1\n",
    "    while(j<even_len):\n",
    "        A[k]=even[j]\n",
    "        j +=1\n",
    "        k +=1\n",
    "    return A\n"
   ]
  },
  {
   "cell_type": "code",
   "execution_count": 82,
   "id": "ef919551",
   "metadata": {},
   "outputs": [
    {
     "name": "stdout",
     "output_type": "stream",
     "text": [
      "odd_arr [3, 9, 15, 19]\n",
      "even_arr [2, 4, 10]\n",
      "even_length: 3\n",
      "odd_length: 4\n",
      "[2, 9, 2, 4, 15, 10, 19]\n",
      "[2, 3, 4, 4, 15, 10, 19]\n",
      "[2, 3, 4, 9, 10, 10, 19]\n"
     ]
    },
    {
     "data": {
      "text/plain": [
       "[2, 3, 4, 9, 10, 15, 19]"
      ]
     },
     "execution_count": 82,
     "metadata": {},
     "output_type": "execute_result"
    }
   ],
   "source": [
    "A=[3,9,2,4,15,10,19]\n",
    "even_odd(A)"
   ]
  },
  {
   "cell_type": "code",
   "execution_count": null,
   "id": "48460a76",
   "metadata": {},
   "outputs": [],
   "source": []
  }
 ],
 "metadata": {
  "kernelspec": {
   "display_name": "Python 3 (ipykernel)",
   "language": "python",
   "name": "python3"
  },
  "language_info": {
   "codemirror_mode": {
    "name": "ipython",
    "version": 3
   },
   "file_extension": ".py",
   "mimetype": "text/x-python",
   "name": "python",
   "nbconvert_exporter": "python",
   "pygments_lexer": "ipython3",
   "version": "3.7.7"
  }
 },
 "nbformat": 4,
 "nbformat_minor": 5
}

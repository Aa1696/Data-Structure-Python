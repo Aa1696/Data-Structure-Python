{
 "cells": [
  {
   "cell_type": "code",
   "execution_count": 19,
   "id": "f4cee30f",
   "metadata": {},
   "outputs": [],
   "source": [
    "def find_permutation(S):\n",
    "        # Code here\n",
    "        freq={}\n",
    "        for i in (S):\n",
    "            if(freq.get(i)):\n",
    "                freq[i] +=1\n",
    "            else:\n",
    "                freq[i]=1\n",
    "        ans=[]\n",
    "        tmp_lst=[]\n",
    "        n=len(S)\n",
    "        # print(freq)\n",
    "        permute(n,tmp_lst,ans,freq)\n",
    "        return ans"
   ]
  },
  {
   "cell_type": "code",
   "execution_count": 27,
   "id": "df54e968",
   "metadata": {},
   "outputs": [],
   "source": [
    "def permute(n,tmp_lst,ans,freq):\n",
    "    if(n==0):\n",
    "        ans.append(tmp_lst)\n",
    "        return\n",
    "    for key,value in freq.items():\n",
    "        if(freq[key]):\n",
    "            tmp_lst +=[key]\n",
    "            freq[key] -=1\n",
    "#             print(freq)\n",
    "            permute(n-1,tmp_lst,ans,freq)\n",
    "        else:\n",
    "            freq[key] +=1\n"
   ]
  },
  {
   "cell_type": "code",
   "execution_count": 28,
   "id": "8cb0e5ce",
   "metadata": {},
   "outputs": [
    {
     "data": {
      "text/plain": [
       "[[1, 2, 1, 2, 3, 3, 1, 2, 3, 1, 2, 3, 2, 1, 2, 1, 3, 3, 2, 1, 3, 2],\n",
       " [1, 2, 1, 2, 3, 3, 1, 2, 3, 1, 2, 3, 2, 1, 2, 1, 3, 3, 2, 1, 3, 2],\n",
       " [1, 2, 1, 2, 3, 3, 1, 2, 3, 1, 2, 3, 2, 1, 2, 1, 3, 3, 2, 1, 3, 2],\n",
       " [1, 2, 1, 2, 3, 3, 1, 2, 3, 1, 2, 3, 2, 1, 2, 1, 3, 3, 2, 1, 3, 2],\n",
       " [1, 2, 1, 2, 3, 3, 1, 2, 3, 1, 2, 3, 2, 1, 2, 1, 3, 3, 2, 1, 3, 2],\n",
       " [1, 2, 1, 2, 3, 3, 1, 2, 3, 1, 2, 3, 2, 1, 2, 1, 3, 3, 2, 1, 3, 2],\n",
       " [1, 2, 1, 2, 3, 3, 1, 2, 3, 1, 2, 3, 2, 1, 2, 1, 3, 3, 2, 1, 3, 2],\n",
       " [1, 2, 1, 2, 3, 3, 1, 2, 3, 1, 2, 3, 2, 1, 2, 1, 3, 3, 2, 1, 3, 2],\n",
       " [1, 2, 1, 2, 3, 3, 1, 2, 3, 1, 2, 3, 2, 1, 2, 1, 3, 3, 2, 1, 3, 2]]"
      ]
     },
     "execution_count": 28,
     "metadata": {},
     "output_type": "execute_result"
    }
   ],
   "source": [
    "A=[1,2,2,3]\n",
    "find_permutation(A)\n"
   ]
  },
  {
   "cell_type": "code",
   "execution_count": null,
   "id": "f59af715",
   "metadata": {},
   "outputs": [],
   "source": []
  }
 ],
 "metadata": {
  "kernelspec": {
   "display_name": "Python 3 (ipykernel)",
   "language": "python",
   "name": "python3"
  },
  "language_info": {
   "codemirror_mode": {
    "name": "ipython",
    "version": 3
   },
   "file_extension": ".py",
   "mimetype": "text/x-python",
   "name": "python",
   "nbconvert_exporter": "python",
   "pygments_lexer": "ipython3",
   "version": "3.7.7"
  }
 },
 "nbformat": 4,
 "nbformat_minor": 5
}
